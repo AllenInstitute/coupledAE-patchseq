{
 "cells": [
  {
   "cell_type": "code",
   "execution_count": 1,
   "metadata": {},
   "outputs": [],
   "source": [
    "import scipy.io as sio\n",
    "import matplotlib.pyplot as plt\n",
    "import seaborn as sns\n",
    "import numpy as np\n",
    "import pandas as pd\n",
    "import pdb"
   ]
  },
  {
   "cell_type": "markdown",
   "metadata": {},
   "source": [
    "**SMART goal**: Applying the coupled autoencoder to data from Tolias lab.\n",
    "\n",
    " - Sequencing data obtained from: [GSE134378](https://www.ncbi.nlm.nih.gov/geo/query/acc.cgi?acc=GSE134378). \n",
    " - Link contains raw reads, a table of read counts, table of RPKM values\n",
    " - Link to paper (https://www.nature.com/articles/s41467-019-12058-z)"
   ]
  },
  {
   "cell_type": "code",
   "execution_count": 2,
   "metadata": {},
   "outputs": [
    {
     "data": {
      "text/html": [
       "<div>\n",
       "<style scoped>\n",
       "    .dataframe tbody tr th:only-of-type {\n",
       "        vertical-align: middle;\n",
       "    }\n",
       "\n",
       "    .dataframe tbody tr th {\n",
       "        vertical-align: top;\n",
       "    }\n",
       "\n",
       "    .dataframe thead th {\n",
       "        text-align: right;\n",
       "    }\n",
       "</style>\n",
       "<table border=\"1\" class=\"dataframe\">\n",
       "  <thead>\n",
       "    <tr style=\"text-align: right;\">\n",
       "      <th></th>\n",
       "      <th>sample_id</th>\n",
       "      <th>Adora1</th>\n",
       "      <th>Sntg1</th>\n",
       "      <th>Prim2</th>\n",
       "      <th>Bai3</th>\n",
       "      <th>Cflar</th>\n",
       "      <th>Gpr39</th>\n",
       "      <th>Obsl1</th>\n",
       "      <th>Syt14</th>\n",
       "      <th>Pld5</th>\n",
       "      <th>...</th>\n",
       "      <th>Gm16367</th>\n",
       "      <th>Vmn1r62</th>\n",
       "      <th>Vmn1r186</th>\n",
       "      <th>Vmn1r63</th>\n",
       "      <th>Vmn1r187</th>\n",
       "      <th>Tmlhe</th>\n",
       "      <th>Vamp7</th>\n",
       "      <th>Spry3</th>\n",
       "      <th>Zf12</th>\n",
       "      <th>eGFP</th>\n",
       "    </tr>\n",
       "  </thead>\n",
       "  <tbody>\n",
       "    <tr>\n",
       "      <th>0</th>\n",
       "      <td>20180604_sample_1_L4_S97</td>\n",
       "      <td>0</td>\n",
       "      <td>296</td>\n",
       "      <td>0</td>\n",
       "      <td>0</td>\n",
       "      <td>0</td>\n",
       "      <td>0</td>\n",
       "      <td>0</td>\n",
       "      <td>0</td>\n",
       "      <td>0</td>\n",
       "      <td>...</td>\n",
       "      <td>0</td>\n",
       "      <td>0</td>\n",
       "      <td>0</td>\n",
       "      <td>0</td>\n",
       "      <td>0</td>\n",
       "      <td>0</td>\n",
       "      <td>0</td>\n",
       "      <td>0</td>\n",
       "      <td>0</td>\n",
       "      <td>0</td>\n",
       "    </tr>\n",
       "    <tr>\n",
       "      <th>1</th>\n",
       "      <td>20180604_sample_2_L4_S98</td>\n",
       "      <td>82</td>\n",
       "      <td>51</td>\n",
       "      <td>0</td>\n",
       "      <td>9</td>\n",
       "      <td>0</td>\n",
       "      <td>0</td>\n",
       "      <td>0</td>\n",
       "      <td>0</td>\n",
       "      <td>0</td>\n",
       "      <td>...</td>\n",
       "      <td>0</td>\n",
       "      <td>0</td>\n",
       "      <td>0</td>\n",
       "      <td>0</td>\n",
       "      <td>0</td>\n",
       "      <td>0</td>\n",
       "      <td>0</td>\n",
       "      <td>0</td>\n",
       "      <td>0</td>\n",
       "      <td>0</td>\n",
       "    </tr>\n",
       "    <tr>\n",
       "      <th>2</th>\n",
       "      <td>20180604_sample_3_L4_S99</td>\n",
       "      <td>0</td>\n",
       "      <td>42</td>\n",
       "      <td>0</td>\n",
       "      <td>75</td>\n",
       "      <td>38</td>\n",
       "      <td>0</td>\n",
       "      <td>0</td>\n",
       "      <td>18</td>\n",
       "      <td>0</td>\n",
       "      <td>...</td>\n",
       "      <td>0</td>\n",
       "      <td>0</td>\n",
       "      <td>0</td>\n",
       "      <td>0</td>\n",
       "      <td>0</td>\n",
       "      <td>0</td>\n",
       "      <td>0</td>\n",
       "      <td>0</td>\n",
       "      <td>0</td>\n",
       "      <td>0</td>\n",
       "    </tr>\n",
       "    <tr>\n",
       "      <th>3</th>\n",
       "      <td>20180605_sample_1_L4_S100</td>\n",
       "      <td>87</td>\n",
       "      <td>136</td>\n",
       "      <td>0</td>\n",
       "      <td>237</td>\n",
       "      <td>31</td>\n",
       "      <td>0</td>\n",
       "      <td>70</td>\n",
       "      <td>0</td>\n",
       "      <td>0</td>\n",
       "      <td>...</td>\n",
       "      <td>0</td>\n",
       "      <td>0</td>\n",
       "      <td>0</td>\n",
       "      <td>0</td>\n",
       "      <td>0</td>\n",
       "      <td>0</td>\n",
       "      <td>0</td>\n",
       "      <td>0</td>\n",
       "      <td>0</td>\n",
       "      <td>0</td>\n",
       "    </tr>\n",
       "    <tr>\n",
       "      <th>4</th>\n",
       "      <td>20180605_sample_2_L4_S101</td>\n",
       "      <td>167</td>\n",
       "      <td>736</td>\n",
       "      <td>0</td>\n",
       "      <td>311</td>\n",
       "      <td>0</td>\n",
       "      <td>0</td>\n",
       "      <td>82</td>\n",
       "      <td>60</td>\n",
       "      <td>0</td>\n",
       "      <td>...</td>\n",
       "      <td>0</td>\n",
       "      <td>0</td>\n",
       "      <td>0</td>\n",
       "      <td>0</td>\n",
       "      <td>0</td>\n",
       "      <td>0</td>\n",
       "      <td>0</td>\n",
       "      <td>0</td>\n",
       "      <td>0</td>\n",
       "      <td>0</td>\n",
       "    </tr>\n",
       "    <tr>\n",
       "      <th>...</th>\n",
       "      <td>...</td>\n",
       "      <td>...</td>\n",
       "      <td>...</td>\n",
       "      <td>...</td>\n",
       "      <td>...</td>\n",
       "      <td>...</td>\n",
       "      <td>...</td>\n",
       "      <td>...</td>\n",
       "      <td>...</td>\n",
       "      <td>...</td>\n",
       "      <td>...</td>\n",
       "      <td>...</td>\n",
       "      <td>...</td>\n",
       "      <td>...</td>\n",
       "      <td>...</td>\n",
       "      <td>...</td>\n",
       "      <td>...</td>\n",
       "      <td>...</td>\n",
       "      <td>...</td>\n",
       "      <td>...</td>\n",
       "      <td>...</td>\n",
       "    </tr>\n",
       "    <tr>\n",
       "      <th>113</th>\n",
       "      <td>20180921_sample_8_L4_S154</td>\n",
       "      <td>0</td>\n",
       "      <td>533</td>\n",
       "      <td>0</td>\n",
       "      <td>6</td>\n",
       "      <td>0</td>\n",
       "      <td>0</td>\n",
       "      <td>4</td>\n",
       "      <td>146</td>\n",
       "      <td>0</td>\n",
       "      <td>...</td>\n",
       "      <td>0</td>\n",
       "      <td>0</td>\n",
       "      <td>0</td>\n",
       "      <td>0</td>\n",
       "      <td>0</td>\n",
       "      <td>0</td>\n",
       "      <td>0</td>\n",
       "      <td>0</td>\n",
       "      <td>0</td>\n",
       "      <td>0</td>\n",
       "    </tr>\n",
       "    <tr>\n",
       "      <th>114</th>\n",
       "      <td>20180920_sample_9_L4_S155</td>\n",
       "      <td>0</td>\n",
       "      <td>1</td>\n",
       "      <td>0</td>\n",
       "      <td>0</td>\n",
       "      <td>0</td>\n",
       "      <td>0</td>\n",
       "      <td>0</td>\n",
       "      <td>0</td>\n",
       "      <td>0</td>\n",
       "      <td>...</td>\n",
       "      <td>0</td>\n",
       "      <td>0</td>\n",
       "      <td>0</td>\n",
       "      <td>0</td>\n",
       "      <td>0</td>\n",
       "      <td>0</td>\n",
       "      <td>0</td>\n",
       "      <td>0</td>\n",
       "      <td>0</td>\n",
       "      <td>0</td>\n",
       "    </tr>\n",
       "    <tr>\n",
       "      <th>115</th>\n",
       "      <td>20180920_sample_10_L4_S157</td>\n",
       "      <td>87</td>\n",
       "      <td>343</td>\n",
       "      <td>0</td>\n",
       "      <td>187</td>\n",
       "      <td>0</td>\n",
       "      <td>0</td>\n",
       "      <td>25</td>\n",
       "      <td>0</td>\n",
       "      <td>0</td>\n",
       "      <td>...</td>\n",
       "      <td>0</td>\n",
       "      <td>0</td>\n",
       "      <td>0</td>\n",
       "      <td>0</td>\n",
       "      <td>0</td>\n",
       "      <td>0</td>\n",
       "      <td>0</td>\n",
       "      <td>0</td>\n",
       "      <td>0</td>\n",
       "      <td>0</td>\n",
       "    </tr>\n",
       "    <tr>\n",
       "      <th>116</th>\n",
       "      <td>20180920_sample_11_L4_S159</td>\n",
       "      <td>0</td>\n",
       "      <td>149</td>\n",
       "      <td>43</td>\n",
       "      <td>4</td>\n",
       "      <td>0</td>\n",
       "      <td>0</td>\n",
       "      <td>36</td>\n",
       "      <td>0</td>\n",
       "      <td>0</td>\n",
       "      <td>...</td>\n",
       "      <td>0</td>\n",
       "      <td>0</td>\n",
       "      <td>0</td>\n",
       "      <td>0</td>\n",
       "      <td>0</td>\n",
       "      <td>0</td>\n",
       "      <td>0</td>\n",
       "      <td>0</td>\n",
       "      <td>0</td>\n",
       "      <td>0</td>\n",
       "    </tr>\n",
       "    <tr>\n",
       "      <th>117</th>\n",
       "      <td>20180920_sample_12_L4_S160</td>\n",
       "      <td>4</td>\n",
       "      <td>0</td>\n",
       "      <td>0</td>\n",
       "      <td>0</td>\n",
       "      <td>0</td>\n",
       "      <td>0</td>\n",
       "      <td>0</td>\n",
       "      <td>0</td>\n",
       "      <td>0</td>\n",
       "      <td>...</td>\n",
       "      <td>0</td>\n",
       "      <td>0</td>\n",
       "      <td>0</td>\n",
       "      <td>0</td>\n",
       "      <td>0</td>\n",
       "      <td>0</td>\n",
       "      <td>0</td>\n",
       "      <td>0</td>\n",
       "      <td>0</td>\n",
       "      <td>0</td>\n",
       "    </tr>\n",
       "  </tbody>\n",
       "</table>\n",
       "<p>118 rows × 24491 columns</p>\n",
       "</div>"
      ],
      "text/plain": [
       "0                     sample_id Adora1 Sntg1 Prim2 Bai3 Cflar Gpr39 Obsl1  \\\n",
       "0      20180604_sample_1_L4_S97      0   296     0    0     0     0     0   \n",
       "1      20180604_sample_2_L4_S98     82    51     0    9     0     0     0   \n",
       "2      20180604_sample_3_L4_S99      0    42     0   75    38     0     0   \n",
       "3     20180605_sample_1_L4_S100     87   136     0  237    31     0    70   \n",
       "4     20180605_sample_2_L4_S101    167   736     0  311     0     0    82   \n",
       "..                          ...    ...   ...   ...  ...   ...   ...   ...   \n",
       "113   20180921_sample_8_L4_S154      0   533     0    6     0     0     4   \n",
       "114   20180920_sample_9_L4_S155      0     1     0    0     0     0     0   \n",
       "115  20180920_sample_10_L4_S157     87   343     0  187     0     0    25   \n",
       "116  20180920_sample_11_L4_S159      0   149    43    4     0     0    36   \n",
       "117  20180920_sample_12_L4_S160      4     0     0    0     0     0     0   \n",
       "\n",
       "0   Syt14 Pld5  ... Gm16367 Vmn1r62 Vmn1r186 Vmn1r63 Vmn1r187 Tmlhe Vamp7  \\\n",
       "0       0    0  ...       0       0        0       0        0     0     0   \n",
       "1       0    0  ...       0       0        0       0        0     0     0   \n",
       "2      18    0  ...       0       0        0       0        0     0     0   \n",
       "3       0    0  ...       0       0        0       0        0     0     0   \n",
       "4      60    0  ...       0       0        0       0        0     0     0   \n",
       "..    ...  ...  ...     ...     ...      ...     ...      ...   ...   ...   \n",
       "113   146    0  ...       0       0        0       0        0     0     0   \n",
       "114     0    0  ...       0       0        0       0        0     0     0   \n",
       "115     0    0  ...       0       0        0       0        0     0     0   \n",
       "116     0    0  ...       0       0        0       0        0     0     0   \n",
       "117     0    0  ...       0       0        0       0        0     0     0   \n",
       "\n",
       "0   Spry3 Zf12 eGFP  \n",
       "0       0    0    0  \n",
       "1       0    0    0  \n",
       "2       0    0    0  \n",
       "3       0    0    0  \n",
       "4       0    0    0  \n",
       "..    ...  ...  ...  \n",
       "113     0    0    0  \n",
       "114     0    0    0  \n",
       "115     0    0    0  \n",
       "116     0    0    0  \n",
       "117     0    0    0  \n",
       "\n",
       "[118 rows x 24491 columns]"
      ]
     },
     "execution_count": 2,
     "metadata": {},
     "output_type": "execute_result"
    }
   ],
   "source": [
    "D = pd.read_csv('/Users/fruity/Dropbox/AllenInstitute/CellTypes/dat/raw/L4-Tolias-lab/GSE134378_L4_counts.txt',delimiter='\\t')\n",
    "D = D.transpose()\n",
    "D.reset_index(inplace=True)\n",
    "D.columns = D.iloc[0]\n",
    "D.drop(D.index[0],inplace=True)\n",
    "D.reset_index(drop=True,inplace=True)\n",
    "D.rename(columns={'gene':'sample_id'},inplace=True)\n",
    "D"
   ]
  },
  {
   "cell_type": "code",
   "execution_count": 3,
   "metadata": {},
   "outputs": [],
   "source": [
    "#Convert raw counts to log1p[cpm]\n",
    "genes = D.columns.values[1:]\n",
    "counts = D.iloc[1:,1:].values.astype(float)\n",
    "\n",
    "#Convert to log1p(cpm)\n",
    "cpm = np.empty_like(counts)\n",
    "for i in range(cpm.shape[0]):\n",
    "    cpm[i,:] = counts[i,:]*1e6/np.sum(counts[i,:])\n",
    "logcpm = np.log1p(cpm)\n",
    "del counts"
   ]
  },
  {
   "cell_type": "code",
   "execution_count": 4,
   "metadata": {},
   "outputs": [
    {
     "name": "stdout",
     "output_type": "stream",
     "text": [
      "(117, 24490)\n",
      "(24490,)\n"
     ]
    }
   ],
   "source": [
    "print(logcpm.shape)\n",
    "print(genes.shape)"
   ]
  },
  {
   "cell_type": "code",
   "execution_count": 5,
   "metadata": {},
   "outputs": [],
   "source": [
    "#Select list of genes used for patchseq paper\n",
    "O = sio.loadmat('/Users/fruity/Dropbox/AllenInstitute/CellTypes'\n",
    "                '/dat/raw/patchseq-v4/PS_v4_beta_0-4_all.mat',squeeze_me=True)"
   ]
  },
  {
   "cell_type": "code",
   "execution_count": 6,
   "metadata": {},
   "outputs": [
    {
     "name": "stdout",
     "output_type": "stream",
     "text": [
      "1196 out of 1252 genes present in Tolias dataset\n"
     ]
    }
   ],
   "source": [
    "ind = np.flatnonzero(np.isin(genes,O['gene_id']))\n",
    "print('{} out of {} genes present in Tolias dataset'.format(np.size(ind),np.size(O['gene_id'])))"
   ]
  },
  {
   "cell_type": "code",
   "execution_count": 7,
   "metadata": {},
   "outputs": [
    {
     "name": "stdout",
     "output_type": "stream",
     "text": [
      "Not measured  LOC102632463\n",
      "Not measured  LOC102634132\n",
      "Not measured  LOC105243425\n",
      "Not measured  LOC105246064\n",
      "Not measured  LOC102634502\n",
      "Not measured  LOC102633357\n",
      "Not measured  Teddm3\n",
      "Not measured  LOC101056001\n",
      "Not measured  Shisa8\n",
      "Not measured  LOC105246694\n",
      "Not measured  LOC105242740\n",
      "Not measured  G630016G05Rik\n",
      "Not measured  Sptbn5\n",
      "Not measured  Lppr1\n",
      "Not measured  Kcnmb4os2\n",
      "Not measured  LOC105243542\n",
      "Not measured  1700019L22Rik\n",
      "Not measured  Tcrb\n",
      "Not measured  E530001K10Rik\n",
      "Not measured  Drd1\n",
      "Not measured  LOC105244376\n",
      "Not measured  LOC105245487\n",
      "Not measured  9630002D21Rik\n",
      "Not measured  Lppr3\n",
      "Not measured  2310075C17Rik\n",
      "Ignoring  3 duplicate entries =======>   Snrpn\n",
      "Not measured  LOC102636041\n",
      "Not measured  Gad1-ps\n",
      "Not measured  LOC105246832\n",
      "Not measured  LOC102638670\n",
      "Not measured  LOC105245190\n",
      "Not measured  LOC102640573\n",
      "Not measured  LOC102633724\n",
      "Not measured  6530403H02Rik\n",
      "Not measured  5330416C01Rik\n",
      "Not measured  LOC102635502\n",
      "Not measured  LOC105242710\n",
      "Not measured  LOC105245838\n",
      "Not measured  A930029G22Rik\n",
      "Not measured  LOC100503338\n",
      "Not measured  LOC105245960\n",
      "Not measured  LOC105243130\n",
      "Not measured  LOC102638890\n",
      "Not measured  LOC105246327\n",
      "Not measured  LOC105245295\n",
      "Not measured  1110018N20Rik\n",
      "Not measured  Ak3l2-ps\n",
      "Not measured  LOC105243282\n",
      "Not measured  LOC105247131\n",
      "Not measured  LOC105242578\n",
      "Not measured  LOC102636700\n",
      "Not measured  LOC102643175\n",
      "Not measured  8030453O22Rik\n",
      "Not measured  Stmn1-rs2\n",
      "Not measured  3300002P13Rik\n",
      "Not measured  LOC105246811\n",
      "Ignoring  2 duplicate entries =======>   D830030K20Rik\n",
      "Not measured  4930447M23Rik\n",
      "Not measured  LOC105244192\n",
      "Not measured  LOC105244162\n",
      "Not measured  LOC105244000\n"
     ]
    }
   ],
   "source": [
    "X = np.empty((logcpm.shape[0],len(O['gene_id'])))\n",
    "X.fill(0)\n",
    "for i,g in enumerate(O['gene_id']):\n",
    "    k = np.flatnonzero(genes==g)\n",
    "    if k.size==1:\n",
    "        X[:,i]=np.squeeze(logcpm[:,k])\n",
    "    elif k.size==0:\n",
    "        print('Not measured ',g)\n",
    "    elif k.size>1:\n",
    "        print('Ignoring ',str(k.size),'duplicate entries =======>  ',g)"
   ]
  },
  {
   "cell_type": "code",
   "execution_count": 8,
   "metadata": {},
   "outputs": [
    {
     "data": {
      "text/plain": [
       "(117, 1252)"
      ]
     },
     "execution_count": 8,
     "metadata": {},
     "output_type": "execute_result"
    }
   ],
   "source": [
    "X.shape"
   ]
  },
  {
   "cell_type": "code",
   "execution_count": 9,
   "metadata": {},
   "outputs": [],
   "source": [
    "#Save dataset\n",
    "Data = {'gene_id':O['gene_id'],'log1p':X,'sample_id':D['sample_id'].values}\n",
    "sio.savemat('/Users/fruity/Dropbox/AllenInstitute/CellTypes/'\n",
    "            'dat/raw/L4-Tolias-lab/Dataset.mat',\n",
    "            Data,do_compression=True)"
   ]
  },
  {
   "cell_type": "markdown",
   "metadata": {},
   "source": [
    "**Inference using a trained model**"
   ]
  },
  {
   "cell_type": "code",
   "execution_count": 10,
   "metadata": {},
   "outputs": [
    {
     "name": "stdin",
     "output_type": "stream",
     "text": [
      "Once deleted, variables cannot be recovered. Proceed (y/[n])?  y\n"
     ]
    }
   ],
   "source": [
    "%reset"
   ]
  },
  {
   "cell_type": "code",
   "execution_count": 12,
   "metadata": {},
   "outputs": [],
   "source": [
    "import scipy.io as sio\n",
    "import matplotlib.pyplot as plt\n",
    "import seaborn as sns\n",
    "import numpy as np\n",
    "import pandas as pd\n",
    "import pdb\n",
    "import sys\n",
    "sys.path.append(\"/Users/fruity/Dropbox/AllenInstitute/CellTypes/code/Patchseq-AE-Bioarxiv/\")\n",
    "\n",
    "Data = sio.loadmat('/Users/fruity/Dropbox/AllenInstitute/CellTypes/'\n",
    "            'dat/raw/L4-Tolias-lab/Dataset.mat',squeeze_me=True)"
   ]
  },
  {
   "cell_type": "code",
   "execution_count": 13,
   "metadata": {},
   "outputs": [],
   "source": [
    "from ae_model_def import *\n",
    "import tensorflow as tf\n",
    "from data_funcs import *\n",
    "\n",
    "#Instance of the model class\n",
    "model_TE = Model_TE(T_output_dim=1252,\n",
    "                    E_output_dim=45,\n",
    "                    T_intermediate_dim=50,\n",
    "                    E_intermediate_dim=40,\n",
    "                    T_dropout=0.5,\n",
    "                    E_gnoise_sd=0.05,\n",
    "                    E_dropout=0.1,\n",
    "                    latent_dim=3,\n",
    "                    name='TE')\n",
    "\n",
    "#Implicit model build\n",
    "zT, zE, XrT, XrE = model_TE((tf.constant(np.random.rand(1,1252),dtype=tf.float32), tf.constant(np.random.rand(1,45),dtype=tf.float32)), training=False)\n",
    "\n",
    "#Load weights\n",
    "model_TE.load_weights('/Users/fruity/Remote-AI/dat/result/TE_Patchseq_Bioarxiv/'\n",
    "                      'v1_aT_1-0_aE_1-0_aM_1-0_cs_1-0_ld_3_bs_200_se_500_ne_1500_cv_0_ri_0-weights.h5',by_name=True)"
   ]
  },
  {
   "cell_type": "code",
   "execution_count": 14,
   "metadata": {},
   "outputs": [],
   "source": [
    "zTolias = model_TE.encoder_T(tf.constant(Data['log1p'],dtype=tf.float32),training=False)\n",
    "zTolias=zTolias.numpy()"
   ]
  },
  {
   "cell_type": "code",
   "execution_count": 15,
   "metadata": {},
   "outputs": [],
   "source": [
    "O = sio.loadmat('/Users/fruity/Dropbox/AllenInstitute/CellTypes/dat/raw/patchseq-v4/PS_v4_beta_0-4_all.mat',squeeze_me=True)\n",
    "zAllen = model_TE.encoder_T(tf.constant(O['T_dat'],dtype=tf.float32),training=False)\n",
    "zAllen=zAllen.numpy()"
   ]
  },
  {
   "cell_type": "code",
   "execution_count": 16,
   "metadata": {},
   "outputs": [],
   "source": [
    "%matplotlib inline"
   ]
  },
  {
   "cell_type": "code",
   "execution_count": 17,
   "metadata": {},
   "outputs": [
    {
     "data": {
      "text/plain": [
       "(-3, 3)"
      ]
     },
     "execution_count": 17,
     "metadata": {},
     "output_type": "execute_result"
    },
    {
     "data": {
      "image/png": "[encoded data removed]",
      "text/plain": [
       "<Figure size 288x288 with 1 Axes>"
      ]
     },
     "metadata": {
      "needs_background": "light"
     },
     "output_type": "display_data"
    }
   ],
   "source": [
    "plt.figure(figsize=(4,4))\n",
    "plt.scatter(zTolias[:,1],zTolias[:,2],c='b',s=20)\n",
    "plt.scatter(zAllen[:,1],zAllen[:,2],c=O['cluster_color'],s=1,alpha=0.5)\n",
    "ax=plt.gca()\n",
    "ax.set_xlim(-3,3)\n",
    "ax.set_ylim(-3,3)"
   ]
  },
  {
   "cell_type": "code",
   "execution_count": 18,
   "metadata": {},
   "outputs": [],
   "source": [
    "xlims=(-3,3)\n",
    "ylims=(-3,3)\n",
    "zlims=(-3,3)\n",
    "padval=-210\n",
    "fontsizeval=10"
   ]
  },
  {
   "cell_type": "code",
   "execution_count": 20,
   "metadata": {},
   "outputs": [],
   "source": [
    "import os\n",
    "import fnmatch\n",
    "import pprint\n",
    "\n",
    "import numpy as np\n",
    "import scipy.io as sio\n",
    "import pandas as pd\n",
    "\n",
    "import matplotlib.pyplot as plt\n",
    "from matplotlib.animation import FuncAnimation\n",
    "from mpl_toolkits.mplot3d import Axes3D\n",
    "import seaborn as sns\n",
    "from IPython.display import HTML"
   ]
  },
  {
   "cell_type": "code",
   "execution_count": 27,
   "metadata": {},
   "outputs": [
    {
     "data": {
      "image/png": "[encoded data removed]",
      "text/plain": [
       "<Figure size 288x288 with 1 Axes>"
      ]
     },
     "metadata": {},
     "output_type": "display_data"
    }
   ],
   "source": [
    "sns.set_style(\"whitegrid\")\n",
    "plt.ion()\n",
    "fig = plt.figure(figsize=(4,4))    \n",
    "ax = fig.add_subplot(111, projection='3d')\n",
    "\n",
    "sc = ax.scatter(zAllen[:,0], zAllen[:,1], zAllen[:,2],s=1,alpha=0.5,c=O['cluster_color'])\n",
    "#sc2 = ax.scatter(zTolias[:,0], zTolias[:,1], zTolias[:,2],s=10,alpha=1,c='r')\n",
    "\n",
    "\n",
    "ax.set_xticks([])\n",
    "ax.set_zticks([])\n",
    "ax.set_yticks([])\n",
    "\n",
    "ax.set_xlabel('')\n",
    "ax.set_ylabel('')\n",
    "ax.set_zlabel('')\n",
    "\n",
    "ax.set_xlim(xlims[0],xlims[1])\n",
    "ax.set_ylim(ylims[0],ylims[1])\n",
    "ax.set_zlim(zlims[0],zlims[1])\n",
    "\n",
    "plt.axis('on')\n",
    "ax.set_frame_on(False)\n",
    "plt.tight_layout()\n",
    "\n",
    "ax.set_title(r'',pad=padval,fontsize=fontsizeval)\n",
    "fig = plt.gcf()\n",
    "\n",
    "def update(i):\n",
    "    ax.view_init(elev=10., azim=i)\n",
    "    fig.canvas.draw()\n",
    "    fig.canvas.flush_events()\n",
    "    return\n",
    "\n",
    "anim = FuncAnimation(fig, update, frames=np.arange(0, 360, 2), interval=50)\n",
    "#HTML(anim.to_html5_video())"
   ]
  },
  {
   "cell_type": "code",
   "execution_count": 28,
   "metadata": {},
   "outputs": [],
   "source": [
    "anim.save('/Users/fruity/Desktop/SMARTgoalref.gif', dpi=160, writer='imagemagick')"
   ]
  },
  {
   "cell_type": "code",
   "execution_count": null,
   "metadata": {},
   "outputs": [],
   "source": []
  },
  {
   "cell_type": "code",
   "execution_count": null,
   "metadata": {},
   "outputs": [],
   "source": []
  },
  {
   "cell_type": "markdown",
   "metadata": {},
   "source": [
    "**Join ephys feature dataset**"
   ]
  },
  {
   "cell_type": "code",
   "execution_count": 1,
   "metadata": {},
   "outputs": [],
   "source": [
    "import scipy.io as sio\n",
    "import pandas as pd\n",
    "import numpy as np"
   ]
  },
  {
   "cell_type": "code",
   "execution_count": 2,
   "metadata": {},
   "outputs": [],
   "source": [
    "data_path = \"/Users/fruity/Dropbox/AllenInstitute/CellTypes/dat/raw/L4-Tolias-lab/\"\n",
    "anno = pd.read_csv(data_path+\"anno_L4_Tolias.csv\")\n",
    "anno = anno[['sample_id','cluster','confidence']]\n",
    "ephys = pd.read_csv(data_path+\"patch-seq-ephys-features_RG.csv\")"
   ]
  },
  {
   "cell_type": "code",
   "execution_count": 3,
   "metadata": {},
   "outputs": [],
   "source": [
    "#Merge ephys and transcriptomic annotations (intersection)\n",
    "new_sample_id = []\n",
    "for s in anno['sample_id'].values:\n",
    "    a = s.split(sep='_',maxsplit=3)\n",
    "    new_lbl = a[0]+'_'+a[1]+'_'+a[2]\n",
    "    new_sample_id.append(new_lbl)\n",
    "anno['T_sample_id'] = anno['sample_id']\n",
    "anno['sample_id'] = np.array(new_sample_id,dtype = object)\n",
    "anno = anno[anno['sample_id'].isin(ephys['sample_id'])].reset_index(drop=True)"
   ]
  },
  {
   "cell_type": "code",
   "execution_count": 4,
   "metadata": {},
   "outputs": [],
   "source": [
    "X = anno.merge(ephys,on='sample_id')\n",
    "X = X.rename(columns={'name sample':'E_sample_id'})\n",
    "#print(X.columns.tolist())\n",
    "X = X[['sample_id','T_sample_id','E_sample_id','cluster', 'confidence', \n",
    "       'ADP (mV)', 'AHP (mV)', 'AI', 'AP amplitude (mV)', 'AP threshold (mV)',\n",
    "       'AP width (ms)', 'Max number of spikes', 'Input R (MOhm)', 'Vm (mV)',\n",
    "       'Latency (ms)', 'Rheobase (pA)', 'Sag ratio', 'Tau (ms)', 'Cell type']]\n",
    "X.to_csv(data_path+'anno_RG.csv')"
   ]
  },
  {
   "cell_type": "code",
   "execution_count": 5,
   "metadata": {},
   "outputs": [],
   "source": [
    "#Load Tolias transcriptomic dataset\n",
    "D = sio.loadmat('/Users/fruity/Dropbox/AllenInstitute/CellTypes/'\n",
    "                'dat/raw/L4-Tolias-lab/Dataset.mat',squeeze_me=True)"
   ]
  },
  {
   "cell_type": "code",
   "execution_count": 68,
   "metadata": {},
   "outputs": [],
   "source": [
    "base_path = '/Users/fruity/Dropbox/AllenInstitute/CellTypes/dat/raw/patchseq-v4/'\n",
    "ref_path = base_path + 'type_color_reference_Tasic18.csv' #Generated for inhibitory types from the FACS annotations\n",
    "#Load reference colors\n",
    "ref = pd.read_csv(ref_path)"
   ]
  },
  {
   "cell_type": "code",
   "execution_count": 69,
   "metadata": {},
   "outputs": [
    {
     "name": "stdout",
     "output_type": "stream",
     "text": [
      "Sst Crh 4930553C11Rik\n"
     ]
    }
   ],
   "source": [
    "#Cell types labels that are not in Tasic reference:\n",
    "for i in np.unique(X.cluster.values[np.isin(X.cluster.values,ref['celltype'].values)==False]):\n",
    "    print(i)"
   ]
  },
  {
   "cell_type": "code",
   "execution_count": 70,
   "metadata": {},
   "outputs": [
    {
     "data": {
      "text/html": [
       "<div>\n",
       "<style scoped>\n",
       "    .dataframe tbody tr th:only-of-type {\n",
       "        vertical-align: middle;\n",
       "    }\n",
       "\n",
       "    .dataframe tbody tr th {\n",
       "        vertical-align: top;\n",
       "    }\n",
       "\n",
       "    .dataframe thead th {\n",
       "        text-align: right;\n",
       "    }\n",
       "</style>\n",
       "<table border=\"1\" class=\"dataframe\">\n",
       "  <thead>\n",
       "    <tr style=\"text-align: right;\">\n",
       "      <th></th>\n",
       "      <th>Unnamed: 0</th>\n",
       "      <th>celltype</th>\n",
       "      <th>cluster_color</th>\n",
       "    </tr>\n",
       "  </thead>\n",
       "  <tbody>\n",
       "    <tr>\n",
       "      <th>0</th>\n",
       "      <td>0.0</td>\n",
       "      <td>Serpinf1 Aqp5 Vip</td>\n",
       "      <td>#CA66FF</td>\n",
       "    </tr>\n",
       "    <tr>\n",
       "      <th>1</th>\n",
       "      <td>1.0</td>\n",
       "      <td>L5 IT ALM Tnc</td>\n",
       "      <td>#00879D</td>\n",
       "    </tr>\n",
       "    <tr>\n",
       "      <th>2</th>\n",
       "      <td>2.0</td>\n",
       "      <td>Oligo Synpr</td>\n",
       "      <td>#476662</td>\n",
       "    </tr>\n",
       "    <tr>\n",
       "      <th>3</th>\n",
       "      <td>3.0</td>\n",
       "      <td>Sst Tac1 Htr1d</td>\n",
       "      <td>#804811</td>\n",
       "    </tr>\n",
       "    <tr>\n",
       "      <th>4</th>\n",
       "      <td>4.0</td>\n",
       "      <td>L6 CT ALM Cpa6</td>\n",
       "      <td>#00B8C3</td>\n",
       "    </tr>\n",
       "    <tr>\n",
       "      <th>...</th>\n",
       "      <td>...</td>\n",
       "      <td>...</td>\n",
       "      <td>...</td>\n",
       "    </tr>\n",
       "    <tr>\n",
       "      <th>146</th>\n",
       "      <td>146.0</td>\n",
       "      <td>Low Quality L4 Rspo1</td>\n",
       "      <td>#D1D3D4</td>\n",
       "    </tr>\n",
       "    <tr>\n",
       "      <th>147</th>\n",
       "      <td>147.0</td>\n",
       "      <td>Vip Igfbp6 Car10</td>\n",
       "      <td>#7779BF</td>\n",
       "    </tr>\n",
       "    <tr>\n",
       "      <th>148</th>\n",
       "      <td>148.0</td>\n",
       "      <td>L5 IT VISp Batf3</td>\n",
       "      <td>#00A809</td>\n",
       "    </tr>\n",
       "    <tr>\n",
       "      <th>149</th>\n",
       "      <td>149.0</td>\n",
       "      <td>Pvalb Tpbg</td>\n",
       "      <td>#AF3F64</td>\n",
       "    </tr>\n",
       "    <tr>\n",
       "      <th>150</th>\n",
       "      <td>NaN</td>\n",
       "      <td>Sst Crh 4930553C11Rik</td>\n",
       "      <td>#000000</td>\n",
       "    </tr>\n",
       "  </tbody>\n",
       "</table>\n",
       "<p>151 rows × 3 columns</p>\n",
       "</div>"
      ],
      "text/plain": [
       "     Unnamed: 0               celltype cluster_color\n",
       "0           0.0      Serpinf1 Aqp5 Vip       #CA66FF\n",
       "1           1.0          L5 IT ALM Tnc       #00879D\n",
       "2           2.0            Oligo Synpr       #476662\n",
       "3           3.0         Sst Tac1 Htr1d       #804811\n",
       "4           4.0         L6 CT ALM Cpa6       #00B8C3\n",
       "..          ...                    ...           ...\n",
       "146       146.0   Low Quality L4 Rspo1       #D1D3D4\n",
       "147       147.0       Vip Igfbp6 Car10       #7779BF\n",
       "148       148.0       L5 IT VISp Batf3       #00A809\n",
       "149       149.0             Pvalb Tpbg       #AF3F64\n",
       "150         NaN  Sst Crh 4930553C11Rik       #000000\n",
       "\n",
       "[151 rows x 3 columns]"
      ]
     },
     "execution_count": 70,
     "metadata": {},
     "output_type": "execute_result"
    }
   ],
   "source": [
    "#Tolias cell types are colored black.\n",
    "ref_tol=pd.DataFrame({'celltype':['Sst Crh 4930553C11Rik'],\n",
    "              'cluster_color':['#000000']})\n",
    "pd.concat([ref,ref_tol]).reset_index(drop=True)"
   ]
  },
  {
   "cell_type": "code",
   "execution_count": 65,
   "metadata": {},
   "outputs": [
    {
     "name": "stdout",
     "output_type": "stream",
     "text": [
      "('L6 IT VISp Penk Fst', 1)\n",
      "('Pvalb Reln Itm2a', 3)\n",
      "('Sst Calb2 Necab1', 5)\n",
      "('Sst Calb2 Pdlim5', 26)\n",
      "('Sst Crh 4930553C11Rik', 4)\n",
      "('Sst Crhr2 Efemp1', 5)\n",
      "('Sst Hpse Cbln4', 40)\n",
      "('Sst Hpse Sema3c', 4)\n",
      "('Sst Mme Fam114a1', 2)\n",
      "('Sst Nr2f2 Necab1', 1)\n",
      "('Sst Rxfp1 Eya1', 6)\n",
      "('Sst Rxfp1 Prdm8', 6)\n",
      "('Sst Tac1 Htr1d', 5)\n",
      "('Sst Tac1 Tacr3', 2)\n",
      "('Sst Tac2 Myh4', 1)\n",
      "('Sst Tac2 Tacstd2', 1)\n"
     ]
    }
   ],
   "source": [
    "#Histogram for top tolias assigned types\n",
    "a,b = np.unique(X.cluster.values,return_counts=True)\n",
    "for i in zip(a,b):\n",
    "    print(i)"
   ]
  },
  {
   "cell_type": "markdown",
   "metadata": {},
   "source": [
    "```\n",
    "AP threshold\n",
    "AP amplitude\n",
    "AP width\n",
    "afterhyperpolarization (AHP)\n",
    "afterdepolarization (ADP)\n",
    "first AP latency (Supplementary Fig. 4c, using the very first AP fired by the neuron. \n",
    "\n",
    "AP width was computed at the half AP height.\n",
    "Adaptation index (AI) is defined as the ratio of the second interspike interval to the first (Supplementary Fig. 4b). \n",
    "We took the median over the five lowest depolarizing currents that elicited at least three spikes (if fewer than five were available, we used all of them).\n",
    "```\n",
    "\n",
    " - ADP (mV)\n",
    " - AHP (mV)\n",
    " - AI\n",
    " - AP amplitude (mV)\n",
    " - AP threshold (mV)\n",
    " - AP width (ms)\n",
    " - Max number of spikes\n",
    " - Input R (MOhm)\n",
    " - Vm (mV)\n",
    " - Latency (ms)\n",
    " - Rheobase (pA)\n",
    " - Sag ratio\n",
    " - Tau (ms)"
   ]
  },
  {
   "cell_type": "code",
   "execution_count": null,
   "metadata": {},
   "outputs": [],
   "source": [
    "IPFX"
   ]
  }
 ],
 "metadata": {
  "kernelspec": {
   "display_name": "Python 3",
   "language": "python",
   "name": "python3"
  },
  "language_info": {
   "codemirror_mode": {
    "name": "ipython",
    "version": 3
   },
   "file_extension": ".py",
   "mimetype": "text/x-python",
   "name": "python",
   "nbconvert_exporter": "python",
   "pygments_lexer": "ipython3",
   "version": "3.7.0"
  }
 },
 "nbformat": 4,
 "nbformat_minor": 4
}
