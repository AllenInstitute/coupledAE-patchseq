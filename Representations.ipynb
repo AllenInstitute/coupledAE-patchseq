{
 "cells": [
  {
   "cell_type": "code",
   "execution_count": 1,
   "metadata": {},
   "outputs": [],
   "source": [
    "import plotly.graph_objects as go\n",
    "import pandas as pd\n",
    "import scipy.io as sio\n",
    "import seaborn as sns\n",
    "sns.set()\n",
    "%matplotlib inline"
   ]
  },
  {
   "cell_type": "code",
   "execution_count": 3,
   "metadata": {},
   "outputs": [],
   "source": [
    "base_path = '/Users/fruity/Dropbox/AllenInstitute/CellTypes/dat/'\n",
    "O = sio.loadmat(base_path+'/raw/patchseq-v4/PS_v5_beta_0-4_pc_ipxf_eqTE.mat',squeeze_me = True)"
   ]
  },
  {
   "cell_type": "code",
   "execution_count": 4,
   "metadata": {},
   "outputs": [],
   "source": [
    "def plot_fn(A,O):\n",
    "#     plt.figure(figsize =(10,4))\n",
    "#     plt.plot(np.nanmean((O['E_feature']-A['XrE'])**2,axis=0),'.-')\n",
    "#     ax = plt.gca()\n",
    "#     ax.set_xticks(np.arange(0,O['E_feature'].shape[1],1))\n",
    "#     ax.set_xticklabels(O['feature_names'],rotation=90,va='top')\n",
    "#     ax.set_ylim(0,1)\n",
    "#     #plt.tight_layout()\n",
    "#     plt.show()\n",
    "\n",
    "    fig = go.Figure(data=[go.Scatter3d(x=A['zE'][:,0], y=A['zE'][:,1], z=A['zE'][:,2],mode='markers',marker=dict(color=O['cluster_color'],size=1))])\n",
    "    fig.show(renderer='iframe_connected')\n",
    "    return"
   ]
  },
  {
   "cell_type": "markdown",
   "metadata": {},
   "source": [
    "**`Lambda=1.0`, `E_intermediate_dim=20`** "
   ]
  },
  {
   "cell_type": "code",
   "execution_count": 6,
   "metadata": {},
   "outputs": [
    {
     "data": {
      "text/html": [
       "<iframe\n",
       "    scrolling=\"no\"\n",
       "    width=\"100%\"\n",
       "    height=\"545px\"\n",
       "    src=\"iframe_figures/figure_6.html\"\n",
       "    frameborder=\"0\"\n",
       "    allowfullscreen\n",
       "></iframe>\n"
      ]
     },
     "metadata": {},
     "output_type": "display_data"
    }
   ],
   "source": [
    "A = sio.loadmat(base_path + 'result/TEST/CV45_Edat_spcipfx_aT_1-0_aE_1-0_aM_1-0_cs_1-0_ld_3_bs_200_se_500_ne_500_cv_0_ri_0-summary.mat')\n",
    "fig = go.Figure(data=[go.Scatter3d(x=A['zE'][:,0], y=A['zE'][:,1], z=A['zE'][:,2],mode='markers',marker=dict(color=O['cluster_color'],size=5))])\n",
    "fig.show(renderer='iframe_connected')"
   ]
  },
  {
   "cell_type": "markdown",
   "metadata": {},
   "source": [
    "**`Lambda=1.0`, `E_intermediate_dim=30`** "
   ]
  },
  {
   "cell_type": "code",
   "execution_count": 8,
   "metadata": {},
   "outputs": [
    {
     "data": {
      "text/html": [
       "<iframe\n",
       "    scrolling=\"no\"\n",
       "    width=\"100%\"\n",
       "    height=\"545px\"\n",
       "    src=\"iframe_figures/figure_8.html\"\n",
       "    frameborder=\"0\"\n",
       "    allowfullscreen\n",
       "></iframe>\n"
      ]
     },
     "metadata": {},
     "output_type": "display_data"
    }
   ],
   "source": [
    "A = sio.loadmat(base_path + 'result/TEST/CV45lossfnfix_Edat_spcipfx_aT_1-0_aE_1-0_aM_1-0_cs_1-0_ld_3_bs_200_se_500_ne_500_cv_0_ri_0-summary.mat')\n",
    "fig = go.Figure(data=[go.Scatter3d(x=A['zE'][:,0], y=A['zE'][:,1], z=A['zE'][:,2],mode='markers',marker=dict(color=O['cluster_color'],size=2))])\n",
    "fig.show(renderer='iframe_connected')"
   ]
  },
  {
   "cell_type": "code",
   "execution_count": 33,
   "metadata": {},
   "outputs": [
    {
     "data": {
      "text/html": [
       "<iframe\n",
       "    scrolling=\"no\"\n",
       "    width=\"100%\"\n",
       "    height=\"545px\"\n",
       "    src=\"iframe_figures/figure_33.html\"\n",
       "    frameborder=\"0\"\n",
       "    allowfullscreen\n",
       "></iframe>\n"
      ]
     },
     "metadata": {},
     "output_type": "display_data"
    }
   ],
   "source": [
    "X = sio.loadmat(base_path + 'result/TEST/CV45lossfnfix_Edat_spcipfx_aT_1-0_aE_1-0_aM_1-0_cs_1-0_ld_3_bs_200_se_500_ne_500_cv_0_ri_0100_ft-summary.mat')\n",
    "A = X['zE'][np.isin(O['map_conf'],['Core','I1']),:]\n",
    "colA = O['cluster_color'][np.isin(O['map_conf'],['Core','I1'])]\n",
    "\n",
    "X = sio.loadmat(base_path + 'result/TEST/CV45lossfnfix_Edat_spcipfx_aT_1-0_aE_1-0_aM_1-0_cs_1-0_ld_3_bs_200_se_500_ne_500_cv_0_ri_0100_ft-summary.mat')\n",
    "B = X['zE'][np.isin(O['map_conf'],['I2','I3']),:]\n",
    "colB = O['cluster_color'][np.isin(O['map_conf'],['I2','I3'])]\n",
    "\n",
    "fig = go.Figure(data=[go.Scatter3d(x=B[:,0], y=B[:,1], z=B[:,2],mode='markers',marker=dict(color=colB,size=4)),\n",
    "                      go.Scatter3d(x=A[:,0], y=A[:,1], z=A[:,2],mode='markers',marker=dict(color=colA,size=2))])\n",
    "fig.show(renderer='iframe_connected')"
   ]
  }
 ],
 "metadata": {
  "kernelspec": {
   "display_name": "Python 3",
   "language": "python",
   "name": "python3"
  },
  "language_info": {
   "codemirror_mode": {
    "name": "ipython",
    "version": 3
   },
   "file_extension": ".py",
   "mimetype": "text/x-python",
   "name": "python",
   "nbconvert_exporter": "python",
   "pygments_lexer": "ipython3",
   "version": "3.7.0"
  }
 },
 "nbformat": 4,
 "nbformat_minor": 4
}
