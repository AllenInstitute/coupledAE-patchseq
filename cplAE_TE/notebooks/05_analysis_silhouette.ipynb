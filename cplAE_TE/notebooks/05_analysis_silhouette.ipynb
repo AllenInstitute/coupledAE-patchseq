{
 "cells": [
  {
   "source": [
    "## Silhouette analyses\n",
    "\n",
    "List of representations:\n",
    " - Uncoupled $z_t$ and $z_e$ \n",
    " - Coupled $z_t$ and $z_e$\n",
    "\n",
    "Label sets:\n",
    " - Reference transcriptomic taxonomy (i.e. 53 cell type labels)\n",
    " - 33 component GMM fit on coupled representations (unsupervised clustering suggested 33 clusters)\n",
    " - 33-way reference taxonomy (Reference transcriptomic taxonomy is a hierarchical tree. We perform a cut of this tree such that 33 leaf nodes remain)\n",
    "\n",
    "We use silhouette scores to:\n",
    "1. show that consensus clusters capture structure in the aligned transcriptomic and electrophysiological latent space better compared to a transcriptomic-based reference taxonomy partitioning and 2. identify clusters that are \"unstable\" among the consensus clusters"
   ],
   "cell_type": "markdown",
   "metadata": {}
  },
  {
   "cell_type": "code",
   "execution_count": 1,
   "metadata": {},
   "outputs": [],
   "source": [
    "import numpy as np\n",
    "import pandas as pd\n",
    "\n",
    "from cplAE_TE.utils.load_helpers import load_dataset, load_summary_files, taxonomy_assignments\n",
    "from cplAE_TE.utils.compute import silhouette_analysis\n",
    "from timebudget import timebudget"
   ]
  },
  {
   "cell_type": "code",
   "execution_count": 2,
   "metadata": {},
   "outputs": [],
   "source": [
    "O = load_dataset()    \n",
    "folds_0 = load_summary_files(data_type='NM_cc',lambda_TE=0.0, aug=0, load_gmm=False)\n",
    "folds_1 = load_summary_files(data_type='NM_cc',lambda_TE=1.0, aug=1, load_gmm=True)"
   ]
  },
  {
   "source": [
    "Select the best coupled models based on reconstruction error in test set"
   ],
   "cell_type": "markdown",
   "metadata": {}
  },
  {
   "source": [
    "#For uncoupled autoencoders (i.e. standalone autoencoders for individual modalities)\n",
    "T_criteria=[]\n",
    "E_criteria=[]\n",
    "for i in folds_0.keys():\n",
    "    T_mse = np.mean((folds_0[i]['XrT']-O['XT'])**2, axis=1)\n",
    "    E_mse = np.sum(O['maskE']*(folds_0[i]['XrE']-O['XE'])**2, axis=1)/np.sum(O['maskE'], axis=1)\n",
    "    test_ind = folds_0[i]['test_ind']\n",
    "    T_criteria.append(np.mean(T_mse[test_ind]))\n",
    "    E_criteria.append(np.mean(E_mse[test_ind]))\n",
    "\n",
    "# pick 5 of the best models based on criteria\n",
    "n_best_models = 5\n",
    "fold_id = np.array(list(folds_0.keys()))\n",
    "best_T_model_keys = fold_id[np.argsort(T_criteria)][0:n_best_models]\n",
    "best_E_model_keys = fold_id[np.argsort(E_criteria)][0:n_best_models]\n",
    "print(f'Best {n_best_models} T autoencoder keys: {best_T_model_keys}')\n",
    "print(f'Best {n_best_models} E autoencoder keys: {best_E_model_keys}')"
   ],
   "cell_type": "code",
   "metadata": {},
   "execution_count": 3,
   "outputs": [
    {
     "output_type": "stream",
     "name": "stdout",
     "text": [
      "Best 5 T autoencoder keys: [ 3  1 10 17 12]\nBest 5 E autoencoder keys: [11 10  3  0  9]\n"
     ]
    }
   ]
  },
  {
   "source": [
    "Select the best coupled models based on reconstruction error in test set"
   ],
   "cell_type": "markdown",
   "metadata": {}
  },
  {
   "cell_type": "code",
   "execution_count": 4,
   "metadata": {},
   "outputs": [
    {
     "output_type": "stream",
     "name": "stdout",
     "text": [
      "Best 5 coupled model keys: [11 17  1 14 10]\n"
     ]
    }
   ],
   "source": [
    "#For coupled autoencoders:\n",
    "criteria = []\n",
    "for i in folds_1.keys():\n",
    "    # pre-calculate errors\n",
    "    T_mse = np.mean((folds_1[i]['XrT']-O['XT'])**2, axis=1)\n",
    "    E_mse = np.sum(O['maskE']*(folds_1[i]['XrE']-O['XE'])**2, axis=1)/np.sum(O['maskE'], axis=1)\n",
    "\n",
    "    # inliers are defined based on test+train:\n",
    "    perc = 95\n",
    "    test_inds = folds_1[i]['test_ind']\n",
    "    T_inlier = np.flatnonzero(T_mse < np.percentile(T_mse, perc))\n",
    "    E_inlier = np.flatnonzero(E_mse < np.percentile(E_mse, perc))\n",
    "    TE_inliers = np.intersect1d(E_inlier, T_inlier)\n",
    "    inlier_test_inds = np.intersect1d(test_inds, TE_inliers)\n",
    "\n",
    "    # alpha_T = alpha_E = 1 in the loss function. Therefore, we simply add the T and E reconstruction losses.\n",
    "    criteria.append(np.mean(T_mse[inlier_test_inds]) +\n",
    "                    np.mean(E_mse[inlier_test_inds]))\n",
    "\n",
    "# pick 5 of the best models based on criteria\n",
    "n_best_models = 5\n",
    "fold_id = np.array(list(folds_1.keys()))\n",
    "best_TE_model_keys = np.argsort(criteria)\n",
    "best_TE_model_keys = fold_id[best_TE_model_keys][0:n_best_models]\n",
    "print(f'Best {n_best_models} coupled model keys: {best_TE_model_keys}')"
   ]
  },
  {
   "cell_type": "markdown",
   "metadata": {},
   "source": [
    "#### Overall average silhouette scores on test cells with uncoupled representations"
   ]
  },
  {
   "cell_type": "code",
   "execution_count": 14,
   "metadata": {},
   "outputs": [],
   "source": [
    "#Uncoupled zE with different resolution of taxonomy:\n",
    "s_mean_list_E_to_tax=[]\n",
    "s_mean_list_T_to_tax=[]\n",
    "n_classes_list=[]\n",
    "n_best_models=5\n",
    "\n",
    "for n_required_classes in np.arange(10,54,1):\n",
    "    merged_labels,n_classes = taxonomy_assignments(O['cluster'].copy(),datadict=O.copy(),n_required_classes=n_required_classes, merge_on='well_sampled')\n",
    "    for k in range(n_best_models):\n",
    "        n_classes_list.append(n_classes)\n",
    "        all_inds = O['well_sampled_ind'].copy()\n",
    "        test_inds = folds_0[best_E_model_keys[k]]['well_sampled_test_ind'].copy()\n",
    "\n",
    "        zE = folds_0[best_E_model_keys[k]]['zE'][test_inds,:].copy()\n",
    "        lbl = merged_labels[test_inds].copy()\n",
    "        df_E_sample,df_E_label = silhouette_analysis(z=zE,lbl=lbl)\n",
    "        s_mean_list_E_to_tax.append(df_E_sample['sil'].mean())\n",
    "        \n",
    "        zT = folds_0[best_T_model_keys[k]]['zT'][test_inds,:].copy()\n",
    "        lbl = merged_labels[test_inds].copy()\n",
    "        df_T_sample,df_T_label = silhouette_analysis(z=zT,lbl=lbl)\n",
    "        s_mean_list_T_to_tax.append(df_T_sample['sil'].mean())\n",
    "\n",
    "df = pd.DataFrame({'sil_E':s_mean_list_E_to_tax,'sil_T':s_mean_list_T_to_tax,'n_classes':n_classes_list})\n",
    "df_n_class = df.groupby('n_classes').agg([np.mean,np.std]).reset_index()\n",
    "df_n_class = df_n_class.loc[df_n_class['n_classes']>25]"
   ]
  },
  {
   "cell_type": "code",
   "execution_count": 6,
   "metadata": {},
   "outputs": [],
   "source": []
  },
  {
   "cell_type": "markdown",
   "metadata": {},
   "source": [
    "Markdown - storing source data script\n",
    "\n",
    "```\n",
    "x = df_n_class['n_classes'].values\n",
    "y = df_n_class['sil_T']['mean'].values\n",
    "std = df_n_class['sil_T']['std'].values\n",
    "df = pd.DataFrame({'x':x,'y':y,'std':std})\n",
    "df.to_csv(fig_path+'Source_data_Fig_Ed_8a.csv',index=False)\n",
    "\n",
    "x = df_n_class['n_classes'].values\n",
    "y = df_n_class['sil_E']['mean'].values\n",
    "std = df_n_class['sil_E']['std'].values\n",
    "df = pd.DataFrame({'x':x,'y':y,'std':std})\n",
    "df.to_csv(fig_path+'Source_data_Fig_Ed_8b.csv',index=False)\n",
    "```"
   ]
  },
  {
   "source": [
    "#### Clusters \n",
    "\n",
    " - The reference taxonomy was obtained based analysis of gene expression alone (Tasic et al. 2018)\n",
    " - The set of labels obtained by \n",
    " - These labels agree with clusters in a low dimensional representation for the transcriptomic data (uncoupled $z_t$)\n",
    " - These labels agree with clusters in a low dimensional representation for the transcriptomic data (uncoupled $z_t$)\n"
   ],
   "cell_type": "markdown",
   "metadata": {}
  },
  {
   "cell_type": "code",
   "execution_count": 27,
   "metadata": {},
   "outputs": [
    {
     "output_type": "display_data",
     "data": {
      "text/plain": "<Figure size 288x288 with 1 Axes>",
      "image/svg+xml": "<?xml version=\"1.0\" encoding=\"utf-8\" standalone=\"no\"?>\n<!DOCTYPE svg PUBLIC \"-//W3C//DTD SVG 1.1//EN\"\n  \"http://www.w3.org/Graphics/SVG/1.1/DTD/svg11.dtd\">\n<!-- Created with matplotlib (https://matplotlib.org/) -->\n<svg height=\"279.955469pt\" version=\"1.1\" viewBox=\"0 0 280.510938 279.955469\" width=\"280.510938pt\" xmlns=\"http://www.w3.org/2000/svg\" xmlns:xlink=\"http://www.w3.org/1999/xlink\">\n <metadata>\n  <rdf:RDF xmlns:cc=\"http://creativecommons.org/ns#\" xmlns:dc=\"http://purl.org/dc/elements/1.1/\" xmlns:rdf=\"http://www.w3.org/1999/02/22-rdf-syntax-ns#\">\n   <cc:Work>\n    <dc:type rdf:resource=\"http://purl.org/dc/dcmitype/StillImage\"/>\n    <dc:date>2021-03-05T12:15:01.267674</dc:date>\n    <dc:format>image/svg+xml</dc:format>\n    <dc:creator>\n     <cc:Agent>\n      <dc:title>Matplotlib v3.3.2, https://matplotlib.org/</dc:title>\n     </cc:Agent>\n    </dc:creator>\n   </cc:Work>\n  </rdf:RDF>\n </metadata>\n <defs>\n  <style type=\"text/css\">*{stroke-linecap:butt;stroke-linejoin:round;}</style>\n </defs>\n <g id=\"figure_1\">\n  <g id=\"patch_1\">\n   <path d=\"M 0 279.955469 \nL 280.510938 279.955469 \nL 280.510938 0 \nL 0 0 \nz\n\" style=\"fill:none;\"/>\n  </g>\n  <g id=\"axes_1\">\n   <g id=\"patch_2\">\n    <path d=\"M 52.160938 242.399219 \nL 273.310937 242.399219 \nL 273.310937 10.999219 \nL 52.160938 10.999219 \nz\n\" style=\"fill:#ffffff;\"/>\n   </g>\n   <g id=\"matplotlib.axis_1\">\n    <g id=\"xtick_1\">\n     <g id=\"line2d_1\">\n      <defs>\n       <path d=\"M 0 0 \nL 0 3.5 \n\" id=\"mf02c0be5b4\" style=\"stroke:#000000;stroke-width:0.8;\"/>\n      </defs>\n      <g>\n       <use style=\"stroke:#000000;stroke-width:0.8;\" x=\"91.997722\" xlink:href=\"#mf02c0be5b4\" y=\"242.399219\"/>\n      </g>\n     </g>\n     <g id=\"text_1\">\n      <!-- 30 -->\n      <g transform=\"translate(85.635222 256.997656)scale(0.1 -0.1)\">\n       <defs>\n        <path d=\"M 40.578125 39.3125 \nQ 47.65625 37.796875 51.625 33 \nQ 55.609375 28.21875 55.609375 21.1875 \nQ 55.609375 10.40625 48.1875 4.484375 \nQ 40.765625 -1.421875 27.09375 -1.421875 \nQ 22.515625 -1.421875 17.65625 -0.515625 \nQ 12.796875 0.390625 7.625 2.203125 \nL 7.625 11.71875 \nQ 11.71875 9.328125 16.59375 8.109375 \nQ 21.484375 6.890625 26.8125 6.890625 \nQ 36.078125 6.890625 40.9375 10.546875 \nQ 45.796875 14.203125 45.796875 21.1875 \nQ 45.796875 27.640625 41.28125 31.265625 \nQ 36.765625 34.90625 28.71875 34.90625 \nL 20.21875 34.90625 \nL 20.21875 43.015625 \nL 29.109375 43.015625 \nQ 36.375 43.015625 40.234375 45.921875 \nQ 44.09375 48.828125 44.09375 54.296875 \nQ 44.09375 59.90625 40.109375 62.90625 \nQ 36.140625 65.921875 28.71875 65.921875 \nQ 24.65625 65.921875 20.015625 65.03125 \nQ 15.375 64.15625 9.8125 62.3125 \nL 9.8125 71.09375 \nQ 15.4375 72.65625 20.34375 73.4375 \nQ 25.25 74.21875 29.59375 74.21875 \nQ 40.828125 74.21875 47.359375 69.109375 \nQ 53.90625 64.015625 53.90625 55.328125 \nQ 53.90625 49.265625 50.4375 45.09375 \nQ 46.96875 40.921875 40.578125 39.3125 \nz\n\" id=\"DejaVuSans-51\"/>\n        <path d=\"M 31.78125 66.40625 \nQ 24.171875 66.40625 20.328125 58.90625 \nQ 16.5 51.421875 16.5 36.375 \nQ 16.5 21.390625 20.328125 13.890625 \nQ 24.171875 6.390625 31.78125 6.390625 \nQ 39.453125 6.390625 43.28125 13.890625 \nQ 47.125 21.390625 47.125 36.375 \nQ 47.125 51.421875 43.28125 58.90625 \nQ 39.453125 66.40625 31.78125 66.40625 \nz\nM 31.78125 74.21875 \nQ 44.046875 74.21875 50.515625 64.515625 \nQ 56.984375 54.828125 56.984375 36.375 \nQ 56.984375 17.96875 50.515625 8.265625 \nQ 44.046875 -1.421875 31.78125 -1.421875 \nQ 19.53125 -1.421875 13.0625 8.265625 \nQ 6.59375 17.96875 6.59375 36.375 \nQ 6.59375 54.828125 13.0625 64.515625 \nQ 19.53125 74.21875 31.78125 74.21875 \nz\n\" id=\"DejaVuSans-48\"/>\n       </defs>\n       <use xlink:href=\"#DejaVuSans-51\"/>\n       <use x=\"63.623047\" xlink:href=\"#DejaVuSans-48\"/>\n      </g>\n     </g>\n    </g>\n    <g id=\"xtick_2\">\n     <g id=\"line2d_2\">\n      <g>\n       <use style=\"stroke:#000000;stroke-width:0.8;\" x=\"129.228362\" xlink:href=\"#mf02c0be5b4\" y=\"242.399219\"/>\n      </g>\n     </g>\n     <g id=\"text_2\">\n      <!-- 35 -->\n      <g transform=\"translate(122.865862 256.997656)scale(0.1 -0.1)\">\n       <defs>\n        <path d=\"M 10.796875 72.90625 \nL 49.515625 72.90625 \nL 49.515625 64.59375 \nL 19.828125 64.59375 \nL 19.828125 46.734375 \nQ 21.96875 47.46875 24.109375 47.828125 \nQ 26.265625 48.1875 28.421875 48.1875 \nQ 40.625 48.1875 47.75 41.5 \nQ 54.890625 34.8125 54.890625 23.390625 \nQ 54.890625 11.625 47.5625 5.09375 \nQ 40.234375 -1.421875 26.90625 -1.421875 \nQ 22.3125 -1.421875 17.546875 -0.640625 \nQ 12.796875 0.140625 7.71875 1.703125 \nL 7.71875 11.625 \nQ 12.109375 9.234375 16.796875 8.0625 \nQ 21.484375 6.890625 26.703125 6.890625 \nQ 35.15625 6.890625 40.078125 11.328125 \nQ 45.015625 15.765625 45.015625 23.390625 \nQ 45.015625 31 40.078125 35.4375 \nQ 35.15625 39.890625 26.703125 39.890625 \nQ 22.75 39.890625 18.8125 39.015625 \nQ 14.890625 38.140625 10.796875 36.28125 \nz\n\" id=\"DejaVuSans-53\"/>\n       </defs>\n       <use xlink:href=\"#DejaVuSans-51\"/>\n       <use x=\"63.623047\" xlink:href=\"#DejaVuSans-53\"/>\n      </g>\n     </g>\n    </g>\n    <g id=\"xtick_3\">\n     <g id=\"line2d_3\">\n      <g>\n       <use style=\"stroke:#000000;stroke-width:0.8;\" x=\"166.459001\" xlink:href=\"#mf02c0be5b4\" y=\"242.399219\"/>\n      </g>\n     </g>\n     <g id=\"text_3\">\n      <!-- 40 -->\n      <g transform=\"translate(160.096501 256.997656)scale(0.1 -0.1)\">\n       <defs>\n        <path d=\"M 37.796875 64.3125 \nL 12.890625 25.390625 \nL 37.796875 25.390625 \nz\nM 35.203125 72.90625 \nL 47.609375 72.90625 \nL 47.609375 25.390625 \nL 58.015625 25.390625 \nL 58.015625 17.1875 \nL 47.609375 17.1875 \nL 47.609375 0 \nL 37.796875 0 \nL 37.796875 17.1875 \nL 4.890625 17.1875 \nL 4.890625 26.703125 \nz\n\" id=\"DejaVuSans-52\"/>\n       </defs>\n       <use xlink:href=\"#DejaVuSans-52\"/>\n       <use x=\"63.623047\" xlink:href=\"#DejaVuSans-48\"/>\n      </g>\n     </g>\n    </g>\n    <g id=\"xtick_4\">\n     <g id=\"line2d_4\">\n      <g>\n       <use style=\"stroke:#000000;stroke-width:0.8;\" x=\"203.689641\" xlink:href=\"#mf02c0be5b4\" y=\"242.399219\"/>\n      </g>\n     </g>\n     <g id=\"text_4\">\n      <!-- 45 -->\n      <g transform=\"translate(197.327141 256.997656)scale(0.1 -0.1)\">\n       <use xlink:href=\"#DejaVuSans-52\"/>\n       <use x=\"63.623047\" xlink:href=\"#DejaVuSans-53\"/>\n      </g>\n     </g>\n    </g>\n    <g id=\"xtick_5\">\n     <g id=\"line2d_5\">\n      <g>\n       <use style=\"stroke:#000000;stroke-width:0.8;\" x=\"240.920281\" xlink:href=\"#mf02c0be5b4\" y=\"242.399219\"/>\n      </g>\n     </g>\n     <g id=\"text_5\">\n      <!-- 50 -->\n      <g transform=\"translate(234.557781 256.997656)scale(0.1 -0.1)\">\n       <use xlink:href=\"#DejaVuSans-53\"/>\n       <use x=\"63.623047\" xlink:href=\"#DejaVuSans-48\"/>\n      </g>\n     </g>\n    </g>\n    <g id=\"text_6\">\n     <!-- Number of classes in merged taxonomy -->\n     <g transform=\"translate(62.95 270.675781)scale(0.1 -0.1)\">\n      <defs>\n       <path d=\"M 9.8125 72.90625 \nL 23.09375 72.90625 \nL 55.421875 11.921875 \nL 55.421875 72.90625 \nL 64.984375 72.90625 \nL 64.984375 0 \nL 51.703125 0 \nL 19.390625 60.984375 \nL 19.390625 0 \nL 9.8125 0 \nz\n\" id=\"DejaVuSans-78\"/>\n       <path d=\"M 8.5 21.578125 \nL 8.5 54.6875 \nL 17.484375 54.6875 \nL 17.484375 21.921875 \nQ 17.484375 14.15625 20.5 10.265625 \nQ 23.53125 6.390625 29.59375 6.390625 \nQ 36.859375 6.390625 41.078125 11.03125 \nQ 45.3125 15.671875 45.3125 23.6875 \nL 45.3125 54.6875 \nL 54.296875 54.6875 \nL 54.296875 0 \nL 45.3125 0 \nL 45.3125 8.40625 \nQ 42.046875 3.421875 37.71875 1 \nQ 33.40625 -1.421875 27.6875 -1.421875 \nQ 18.265625 -1.421875 13.375 4.4375 \nQ 8.5 10.296875 8.5 21.578125 \nz\nM 31.109375 56 \nz\n\" id=\"DejaVuSans-117\"/>\n       <path d=\"M 52 44.1875 \nQ 55.375 50.25 60.0625 53.125 \nQ 64.75 56 71.09375 56 \nQ 79.640625 56 84.28125 50.015625 \nQ 88.921875 44.046875 88.921875 33.015625 \nL 88.921875 0 \nL 79.890625 0 \nL 79.890625 32.71875 \nQ 79.890625 40.578125 77.09375 44.375 \nQ 74.3125 48.1875 68.609375 48.1875 \nQ 61.625 48.1875 57.5625 43.546875 \nQ 53.515625 38.921875 53.515625 30.90625 \nL 53.515625 0 \nL 44.484375 0 \nL 44.484375 32.71875 \nQ 44.484375 40.625 41.703125 44.40625 \nQ 38.921875 48.1875 33.109375 48.1875 \nQ 26.21875 48.1875 22.15625 43.53125 \nQ 18.109375 38.875 18.109375 30.90625 \nL 18.109375 0 \nL 9.078125 0 \nL 9.078125 54.6875 \nL 18.109375 54.6875 \nL 18.109375 46.1875 \nQ 21.1875 51.21875 25.484375 53.609375 \nQ 29.78125 56 35.6875 56 \nQ 41.65625 56 45.828125 52.96875 \nQ 50 49.953125 52 44.1875 \nz\n\" id=\"DejaVuSans-109\"/>\n       <path d=\"M 48.6875 27.296875 \nQ 48.6875 37.203125 44.609375 42.84375 \nQ 40.53125 48.484375 33.40625 48.484375 \nQ 26.265625 48.484375 22.1875 42.84375 \nQ 18.109375 37.203125 18.109375 27.296875 \nQ 18.109375 17.390625 22.1875 11.75 \nQ 26.265625 6.109375 33.40625 6.109375 \nQ 40.53125 6.109375 44.609375 11.75 \nQ 48.6875 17.390625 48.6875 27.296875 \nz\nM 18.109375 46.390625 \nQ 20.953125 51.265625 25.265625 53.625 \nQ 29.59375 56 35.59375 56 \nQ 45.5625 56 51.78125 48.09375 \nQ 58.015625 40.1875 58.015625 27.296875 \nQ 58.015625 14.40625 51.78125 6.484375 \nQ 45.5625 -1.421875 35.59375 -1.421875 \nQ 29.59375 -1.421875 25.265625 0.953125 \nQ 20.953125 3.328125 18.109375 8.203125 \nL 18.109375 0 \nL 9.078125 0 \nL 9.078125 75.984375 \nL 18.109375 75.984375 \nz\n\" id=\"DejaVuSans-98\"/>\n       <path d=\"M 56.203125 29.59375 \nL 56.203125 25.203125 \nL 14.890625 25.203125 \nQ 15.484375 15.921875 20.484375 11.0625 \nQ 25.484375 6.203125 34.421875 6.203125 \nQ 39.59375 6.203125 44.453125 7.46875 \nQ 49.3125 8.734375 54.109375 11.28125 \nL 54.109375 2.78125 \nQ 49.265625 0.734375 44.1875 -0.34375 \nQ 39.109375 -1.421875 33.890625 -1.421875 \nQ 20.796875 -1.421875 13.15625 6.1875 \nQ 5.515625 13.8125 5.515625 26.8125 \nQ 5.515625 40.234375 12.765625 48.109375 \nQ 20.015625 56 32.328125 56 \nQ 43.359375 56 49.78125 48.890625 \nQ 56.203125 41.796875 56.203125 29.59375 \nz\nM 47.21875 32.234375 \nQ 47.125 39.59375 43.09375 43.984375 \nQ 39.0625 48.390625 32.421875 48.390625 \nQ 24.90625 48.390625 20.390625 44.140625 \nQ 15.875 39.890625 15.1875 32.171875 \nz\n\" id=\"DejaVuSans-101\"/>\n       <path d=\"M 41.109375 46.296875 \nQ 39.59375 47.171875 37.8125 47.578125 \nQ 36.03125 48 33.890625 48 \nQ 26.265625 48 22.1875 43.046875 \nQ 18.109375 38.09375 18.109375 28.8125 \nL 18.109375 0 \nL 9.078125 0 \nL 9.078125 54.6875 \nL 18.109375 54.6875 \nL 18.109375 46.1875 \nQ 20.953125 51.171875 25.484375 53.578125 \nQ 30.03125 56 36.53125 56 \nQ 37.453125 56 38.578125 55.875 \nQ 39.703125 55.765625 41.0625 55.515625 \nz\n\" id=\"DejaVuSans-114\"/>\n       <path id=\"DejaVuSans-32\"/>\n       <path d=\"M 30.609375 48.390625 \nQ 23.390625 48.390625 19.1875 42.75 \nQ 14.984375 37.109375 14.984375 27.296875 \nQ 14.984375 17.484375 19.15625 11.84375 \nQ 23.34375 6.203125 30.609375 6.203125 \nQ 37.796875 6.203125 41.984375 11.859375 \nQ 46.1875 17.53125 46.1875 27.296875 \nQ 46.1875 37.015625 41.984375 42.703125 \nQ 37.796875 48.390625 30.609375 48.390625 \nz\nM 30.609375 56 \nQ 42.328125 56 49.015625 48.375 \nQ 55.71875 40.765625 55.71875 27.296875 \nQ 55.71875 13.875 49.015625 6.21875 \nQ 42.328125 -1.421875 30.609375 -1.421875 \nQ 18.84375 -1.421875 12.171875 6.21875 \nQ 5.515625 13.875 5.515625 27.296875 \nQ 5.515625 40.765625 12.171875 48.375 \nQ 18.84375 56 30.609375 56 \nz\n\" id=\"DejaVuSans-111\"/>\n       <path d=\"M 37.109375 75.984375 \nL 37.109375 68.5 \nL 28.515625 68.5 \nQ 23.6875 68.5 21.796875 66.546875 \nQ 19.921875 64.59375 19.921875 59.515625 \nL 19.921875 54.6875 \nL 34.71875 54.6875 \nL 34.71875 47.703125 \nL 19.921875 47.703125 \nL 19.921875 0 \nL 10.890625 0 \nL 10.890625 47.703125 \nL 2.296875 47.703125 \nL 2.296875 54.6875 \nL 10.890625 54.6875 \nL 10.890625 58.5 \nQ 10.890625 67.625 15.140625 71.796875 \nQ 19.390625 75.984375 28.609375 75.984375 \nz\n\" id=\"DejaVuSans-102\"/>\n       <path d=\"M 48.78125 52.59375 \nL 48.78125 44.1875 \nQ 44.96875 46.296875 41.140625 47.34375 \nQ 37.3125 48.390625 33.40625 48.390625 \nQ 24.65625 48.390625 19.8125 42.84375 \nQ 14.984375 37.3125 14.984375 27.296875 \nQ 14.984375 17.28125 19.8125 11.734375 \nQ 24.65625 6.203125 33.40625 6.203125 \nQ 37.3125 6.203125 41.140625 7.25 \nQ 44.96875 8.296875 48.78125 10.40625 \nL 48.78125 2.09375 \nQ 45.015625 0.34375 40.984375 -0.53125 \nQ 36.96875 -1.421875 32.421875 -1.421875 \nQ 20.0625 -1.421875 12.78125 6.34375 \nQ 5.515625 14.109375 5.515625 27.296875 \nQ 5.515625 40.671875 12.859375 48.328125 \nQ 20.21875 56 33.015625 56 \nQ 37.15625 56 41.109375 55.140625 \nQ 45.0625 54.296875 48.78125 52.59375 \nz\n\" id=\"DejaVuSans-99\"/>\n       <path d=\"M 9.421875 75.984375 \nL 18.40625 75.984375 \nL 18.40625 0 \nL 9.421875 0 \nz\n\" id=\"DejaVuSans-108\"/>\n       <path d=\"M 34.28125 27.484375 \nQ 23.390625 27.484375 19.1875 25 \nQ 14.984375 22.515625 14.984375 16.5 \nQ 14.984375 11.71875 18.140625 8.90625 \nQ 21.296875 6.109375 26.703125 6.109375 \nQ 34.1875 6.109375 38.703125 11.40625 \nQ 43.21875 16.703125 43.21875 25.484375 \nL 43.21875 27.484375 \nz\nM 52.203125 31.203125 \nL 52.203125 0 \nL 43.21875 0 \nL 43.21875 8.296875 \nQ 40.140625 3.328125 35.546875 0.953125 \nQ 30.953125 -1.421875 24.3125 -1.421875 \nQ 15.921875 -1.421875 10.953125 3.296875 \nQ 6 8.015625 6 15.921875 \nQ 6 25.140625 12.171875 29.828125 \nQ 18.359375 34.515625 30.609375 34.515625 \nL 43.21875 34.515625 \nL 43.21875 35.40625 \nQ 43.21875 41.609375 39.140625 45 \nQ 35.0625 48.390625 27.6875 48.390625 \nQ 23 48.390625 18.546875 47.265625 \nQ 14.109375 46.140625 10.015625 43.890625 \nL 10.015625 52.203125 \nQ 14.9375 54.109375 19.578125 55.046875 \nQ 24.21875 56 28.609375 56 \nQ 40.484375 56 46.34375 49.84375 \nQ 52.203125 43.703125 52.203125 31.203125 \nz\n\" id=\"DejaVuSans-97\"/>\n       <path d=\"M 44.28125 53.078125 \nL 44.28125 44.578125 \nQ 40.484375 46.53125 36.375 47.5 \nQ 32.28125 48.484375 27.875 48.484375 \nQ 21.1875 48.484375 17.84375 46.4375 \nQ 14.5 44.390625 14.5 40.28125 \nQ 14.5 37.15625 16.890625 35.375 \nQ 19.28125 33.59375 26.515625 31.984375 \nL 29.59375 31.296875 \nQ 39.15625 29.25 43.1875 25.515625 \nQ 47.21875 21.78125 47.21875 15.09375 \nQ 47.21875 7.46875 41.1875 3.015625 \nQ 35.15625 -1.421875 24.609375 -1.421875 \nQ 20.21875 -1.421875 15.453125 -0.5625 \nQ 10.6875 0.296875 5.421875 2 \nL 5.421875 11.28125 \nQ 10.40625 8.6875 15.234375 7.390625 \nQ 20.0625 6.109375 24.8125 6.109375 \nQ 31.15625 6.109375 34.5625 8.28125 \nQ 37.984375 10.453125 37.984375 14.40625 \nQ 37.984375 18.0625 35.515625 20.015625 \nQ 33.0625 21.96875 24.703125 23.78125 \nL 21.578125 24.515625 \nQ 13.234375 26.265625 9.515625 29.90625 \nQ 5.8125 33.546875 5.8125 39.890625 \nQ 5.8125 47.609375 11.28125 51.796875 \nQ 16.75 56 26.8125 56 \nQ 31.78125 56 36.171875 55.265625 \nQ 40.578125 54.546875 44.28125 53.078125 \nz\n\" id=\"DejaVuSans-115\"/>\n       <path d=\"M 9.421875 54.6875 \nL 18.40625 54.6875 \nL 18.40625 0 \nL 9.421875 0 \nz\nM 9.421875 75.984375 \nL 18.40625 75.984375 \nL 18.40625 64.59375 \nL 9.421875 64.59375 \nz\n\" id=\"DejaVuSans-105\"/>\n       <path d=\"M 54.890625 33.015625 \nL 54.890625 0 \nL 45.90625 0 \nL 45.90625 32.71875 \nQ 45.90625 40.484375 42.875 44.328125 \nQ 39.84375 48.1875 33.796875 48.1875 \nQ 26.515625 48.1875 22.3125 43.546875 \nQ 18.109375 38.921875 18.109375 30.90625 \nL 18.109375 0 \nL 9.078125 0 \nL 9.078125 54.6875 \nL 18.109375 54.6875 \nL 18.109375 46.1875 \nQ 21.34375 51.125 25.703125 53.5625 \nQ 30.078125 56 35.796875 56 \nQ 45.21875 56 50.046875 50.171875 \nQ 54.890625 44.34375 54.890625 33.015625 \nz\n\" id=\"DejaVuSans-110\"/>\n       <path d=\"M 45.40625 27.984375 \nQ 45.40625 37.75 41.375 43.109375 \nQ 37.359375 48.484375 30.078125 48.484375 \nQ 22.859375 48.484375 18.828125 43.109375 \nQ 14.796875 37.75 14.796875 27.984375 \nQ 14.796875 18.265625 18.828125 12.890625 \nQ 22.859375 7.515625 30.078125 7.515625 \nQ 37.359375 7.515625 41.375 12.890625 \nQ 45.40625 18.265625 45.40625 27.984375 \nz\nM 54.390625 6.78125 \nQ 54.390625 -7.171875 48.1875 -13.984375 \nQ 42 -20.796875 29.203125 -20.796875 \nQ 24.46875 -20.796875 20.265625 -20.09375 \nQ 16.0625 -19.390625 12.109375 -17.921875 \nL 12.109375 -9.1875 \nQ 16.0625 -11.328125 19.921875 -12.34375 \nQ 23.78125 -13.375 27.78125 -13.375 \nQ 36.625 -13.375 41.015625 -8.765625 \nQ 45.40625 -4.15625 45.40625 5.171875 \nL 45.40625 9.625 \nQ 42.625 4.78125 38.28125 2.390625 \nQ 33.9375 0 27.875 0 \nQ 17.828125 0 11.671875 7.65625 \nQ 5.515625 15.328125 5.515625 27.984375 \nQ 5.515625 40.671875 11.671875 48.328125 \nQ 17.828125 56 27.875 56 \nQ 33.9375 56 38.28125 53.609375 \nQ 42.625 51.21875 45.40625 46.390625 \nL 45.40625 54.6875 \nL 54.390625 54.6875 \nz\n\" id=\"DejaVuSans-103\"/>\n       <path d=\"M 45.40625 46.390625 \nL 45.40625 75.984375 \nL 54.390625 75.984375 \nL 54.390625 0 \nL 45.40625 0 \nL 45.40625 8.203125 \nQ 42.578125 3.328125 38.25 0.953125 \nQ 33.9375 -1.421875 27.875 -1.421875 \nQ 17.96875 -1.421875 11.734375 6.484375 \nQ 5.515625 14.40625 5.515625 27.296875 \nQ 5.515625 40.1875 11.734375 48.09375 \nQ 17.96875 56 27.875 56 \nQ 33.9375 56 38.25 53.625 \nQ 42.578125 51.265625 45.40625 46.390625 \nz\nM 14.796875 27.296875 \nQ 14.796875 17.390625 18.875 11.75 \nQ 22.953125 6.109375 30.078125 6.109375 \nQ 37.203125 6.109375 41.296875 11.75 \nQ 45.40625 17.390625 45.40625 27.296875 \nQ 45.40625 37.203125 41.296875 42.84375 \nQ 37.203125 48.484375 30.078125 48.484375 \nQ 22.953125 48.484375 18.875 42.84375 \nQ 14.796875 37.203125 14.796875 27.296875 \nz\n\" id=\"DejaVuSans-100\"/>\n       <path d=\"M 18.3125 70.21875 \nL 18.3125 54.6875 \nL 36.8125 54.6875 \nL 36.8125 47.703125 \nL 18.3125 47.703125 \nL 18.3125 18.015625 \nQ 18.3125 11.328125 20.140625 9.421875 \nQ 21.96875 7.515625 27.59375 7.515625 \nL 36.8125 7.515625 \nL 36.8125 0 \nL 27.59375 0 \nQ 17.1875 0 13.234375 3.875 \nQ 9.28125 7.765625 9.28125 18.015625 \nL 9.28125 47.703125 \nL 2.6875 47.703125 \nL 2.6875 54.6875 \nL 9.28125 54.6875 \nL 9.28125 70.21875 \nz\n\" id=\"DejaVuSans-116\"/>\n       <path d=\"M 54.890625 54.6875 \nL 35.109375 28.078125 \nL 55.90625 0 \nL 45.3125 0 \nL 29.390625 21.484375 \nL 13.484375 0 \nL 2.875 0 \nL 24.125 28.609375 \nL 4.6875 54.6875 \nL 15.28125 54.6875 \nL 29.78125 35.203125 \nL 44.28125 54.6875 \nz\n\" id=\"DejaVuSans-120\"/>\n       <path d=\"M 32.171875 -5.078125 \nQ 28.375 -14.84375 24.75 -17.8125 \nQ 21.140625 -20.796875 15.09375 -20.796875 \nL 7.90625 -20.796875 \nL 7.90625 -13.28125 \nL 13.1875 -13.28125 \nQ 16.890625 -13.28125 18.9375 -11.515625 \nQ 21 -9.765625 23.484375 -3.21875 \nL 25.09375 0.875 \nL 2.984375 54.6875 \nL 12.5 54.6875 \nL 29.59375 11.921875 \nL 46.6875 54.6875 \nL 56.203125 54.6875 \nz\n\" id=\"DejaVuSans-121\"/>\n      </defs>\n      <use xlink:href=\"#DejaVuSans-78\"/>\n      <use x=\"74.804688\" xlink:href=\"#DejaVuSans-117\"/>\n      <use x=\"138.183594\" xlink:href=\"#DejaVuSans-109\"/>\n      <use x=\"235.595703\" xlink:href=\"#DejaVuSans-98\"/>\n      <use x=\"299.072266\" xlink:href=\"#DejaVuSans-101\"/>\n      <use x=\"360.595703\" xlink:href=\"#DejaVuSans-114\"/>\n      <use x=\"401.708984\" xlink:href=\"#DejaVuSans-32\"/>\n      <use x=\"433.496094\" xlink:href=\"#DejaVuSans-111\"/>\n      <use x=\"494.677734\" xlink:href=\"#DejaVuSans-102\"/>\n      <use x=\"529.882812\" xlink:href=\"#DejaVuSans-32\"/>\n      <use x=\"561.669922\" xlink:href=\"#DejaVuSans-99\"/>\n      <use x=\"616.650391\" xlink:href=\"#DejaVuSans-108\"/>\n      <use x=\"644.433594\" xlink:href=\"#DejaVuSans-97\"/>\n      <use x=\"705.712891\" xlink:href=\"#DejaVuSans-115\"/>\n      <use x=\"757.8125\" xlink:href=\"#DejaVuSans-115\"/>\n      <use x=\"809.912109\" xlink:href=\"#DejaVuSans-101\"/>\n      <use x=\"871.435547\" xlink:href=\"#DejaVuSans-115\"/>\n      <use x=\"923.535156\" xlink:href=\"#DejaVuSans-32\"/>\n      <use x=\"955.322266\" xlink:href=\"#DejaVuSans-105\"/>\n      <use x=\"983.105469\" xlink:href=\"#DejaVuSans-110\"/>\n      <use x=\"1046.484375\" xlink:href=\"#DejaVuSans-32\"/>\n      <use x=\"1078.271484\" xlink:href=\"#DejaVuSans-109\"/>\n      <use x=\"1175.683594\" xlink:href=\"#DejaVuSans-101\"/>\n      <use x=\"1237.207031\" xlink:href=\"#DejaVuSans-114\"/>\n      <use x=\"1276.570312\" xlink:href=\"#DejaVuSans-103\"/>\n      <use x=\"1340.046875\" xlink:href=\"#DejaVuSans-101\"/>\n      <use x=\"1401.570312\" xlink:href=\"#DejaVuSans-100\"/>\n      <use x=\"1465.046875\" xlink:href=\"#DejaVuSans-32\"/>\n      <use x=\"1496.833984\" xlink:href=\"#DejaVuSans-116\"/>\n      <use x=\"1536.042969\" xlink:href=\"#DejaVuSans-97\"/>\n      <use x=\"1597.322266\" xlink:href=\"#DejaVuSans-120\"/>\n      <use x=\"1653.376953\" xlink:href=\"#DejaVuSans-111\"/>\n      <use x=\"1714.558594\" xlink:href=\"#DejaVuSans-110\"/>\n      <use x=\"1777.9375\" xlink:href=\"#DejaVuSans-111\"/>\n      <use x=\"1839.119141\" xlink:href=\"#DejaVuSans-109\"/>\n      <use x=\"1936.53125\" xlink:href=\"#DejaVuSans-121\"/>\n     </g>\n    </g>\n   </g>\n   <g id=\"matplotlib.axis_2\">\n    <g id=\"ytick_1\">\n     <g id=\"line2d_6\">\n      <defs>\n       <path d=\"M 0 0 \nL -3.5 0 \n\" id=\"md8fda5b566\" style=\"stroke:#000000;stroke-width:0.8;\"/>\n      </defs>\n      <g>\n       <use style=\"stroke:#000000;stroke-width:0.8;\" x=\"52.160938\" xlink:href=\"#md8fda5b566\" y=\"242.399219\"/>\n      </g>\n     </g>\n     <g id=\"text_7\">\n      <!-- −0.3 -->\n      <g transform=\"translate(20.878125 246.198437)scale(0.1 -0.1)\">\n       <defs>\n        <path d=\"M 10.59375 35.5 \nL 73.1875 35.5 \nL 73.1875 27.203125 \nL 10.59375 27.203125 \nz\n\" id=\"DejaVuSans-8722\"/>\n        <path d=\"M 10.6875 12.40625 \nL 21 12.40625 \nL 21 0 \nL 10.6875 0 \nz\n\" id=\"DejaVuSans-46\"/>\n       </defs>\n       <use xlink:href=\"#DejaVuSans-8722\"/>\n       <use x=\"83.789062\" xlink:href=\"#DejaVuSans-48\"/>\n       <use x=\"147.412109\" xlink:href=\"#DejaVuSans-46\"/>\n       <use x=\"179.199219\" xlink:href=\"#DejaVuSans-51\"/>\n      </g>\n     </g>\n    </g>\n    <g id=\"ytick_2\">\n     <g id=\"line2d_7\">\n      <g>\n       <use style=\"stroke:#000000;stroke-width:0.8;\" x=\"52.160938\" xlink:href=\"#md8fda5b566\" y=\"203.832552\"/>\n      </g>\n     </g>\n     <g id=\"text_8\">\n      <!-- −0.2 -->\n      <g transform=\"translate(20.878125 207.631771)scale(0.1 -0.1)\">\n       <defs>\n        <path d=\"M 19.1875 8.296875 \nL 53.609375 8.296875 \nL 53.609375 0 \nL 7.328125 0 \nL 7.328125 8.296875 \nQ 12.9375 14.109375 22.625 23.890625 \nQ 32.328125 33.6875 34.8125 36.53125 \nQ 39.546875 41.84375 41.421875 45.53125 \nQ 43.3125 49.21875 43.3125 52.78125 \nQ 43.3125 58.59375 39.234375 62.25 \nQ 35.15625 65.921875 28.609375 65.921875 \nQ 23.96875 65.921875 18.8125 64.3125 \nQ 13.671875 62.703125 7.8125 59.421875 \nL 7.8125 69.390625 \nQ 13.765625 71.78125 18.9375 73 \nQ 24.125 74.21875 28.421875 74.21875 \nQ 39.75 74.21875 46.484375 68.546875 \nQ 53.21875 62.890625 53.21875 53.421875 \nQ 53.21875 48.921875 51.53125 44.890625 \nQ 49.859375 40.875 45.40625 35.40625 \nQ 44.1875 33.984375 37.640625 27.21875 \nQ 31.109375 20.453125 19.1875 8.296875 \nz\n\" id=\"DejaVuSans-50\"/>\n       </defs>\n       <use xlink:href=\"#DejaVuSans-8722\"/>\n       <use x=\"83.789062\" xlink:href=\"#DejaVuSans-48\"/>\n       <use x=\"147.412109\" xlink:href=\"#DejaVuSans-46\"/>\n       <use x=\"179.199219\" xlink:href=\"#DejaVuSans-50\"/>\n      </g>\n     </g>\n    </g>\n    <g id=\"ytick_3\">\n     <g id=\"line2d_8\">\n      <g>\n       <use style=\"stroke:#000000;stroke-width:0.8;\" x=\"52.160938\" xlink:href=\"#md8fda5b566\" y=\"165.265885\"/>\n      </g>\n     </g>\n     <g id=\"text_9\">\n      <!-- −0.1 -->\n      <g transform=\"translate(20.878125 169.065104)scale(0.1 -0.1)\">\n       <defs>\n        <path d=\"M 12.40625 8.296875 \nL 28.515625 8.296875 \nL 28.515625 63.921875 \nL 10.984375 60.40625 \nL 10.984375 69.390625 \nL 28.421875 72.90625 \nL 38.28125 72.90625 \nL 38.28125 8.296875 \nL 54.390625 8.296875 \nL 54.390625 0 \nL 12.40625 0 \nz\n\" id=\"DejaVuSans-49\"/>\n       </defs>\n       <use xlink:href=\"#DejaVuSans-8722\"/>\n       <use x=\"83.789062\" xlink:href=\"#DejaVuSans-48\"/>\n       <use x=\"147.412109\" xlink:href=\"#DejaVuSans-46\"/>\n       <use x=\"179.199219\" xlink:href=\"#DejaVuSans-49\"/>\n      </g>\n     </g>\n    </g>\n    <g id=\"ytick_4\">\n     <g id=\"line2d_9\">\n      <g>\n       <use style=\"stroke:#000000;stroke-width:0.8;\" x=\"52.160938\" xlink:href=\"#md8fda5b566\" y=\"126.699219\"/>\n      </g>\n     </g>\n     <g id=\"text_10\">\n      <!-- 0.0 -->\n      <g transform=\"translate(29.257813 130.498437)scale(0.1 -0.1)\">\n       <use xlink:href=\"#DejaVuSans-48\"/>\n       <use x=\"63.623047\" xlink:href=\"#DejaVuSans-46\"/>\n       <use x=\"95.410156\" xlink:href=\"#DejaVuSans-48\"/>\n      </g>\n     </g>\n    </g>\n    <g id=\"ytick_5\">\n     <g id=\"line2d_10\">\n      <g>\n       <use style=\"stroke:#000000;stroke-width:0.8;\" x=\"52.160938\" xlink:href=\"#md8fda5b566\" y=\"88.132552\"/>\n      </g>\n     </g>\n     <g id=\"text_11\">\n      <!-- 0.1 -->\n      <g transform=\"translate(29.257813 91.931771)scale(0.1 -0.1)\">\n       <use xlink:href=\"#DejaVuSans-48\"/>\n       <use x=\"63.623047\" xlink:href=\"#DejaVuSans-46\"/>\n       <use x=\"95.410156\" xlink:href=\"#DejaVuSans-49\"/>\n      </g>\n     </g>\n    </g>\n    <g id=\"ytick_6\">\n     <g id=\"line2d_11\">\n      <g>\n       <use style=\"stroke:#000000;stroke-width:0.8;\" x=\"52.160938\" xlink:href=\"#md8fda5b566\" y=\"49.565885\"/>\n      </g>\n     </g>\n     <g id=\"text_12\">\n      <!-- 0.2 -->\n      <g transform=\"translate(29.257813 53.365104)scale(0.1 -0.1)\">\n       <use xlink:href=\"#DejaVuSans-48\"/>\n       <use x=\"63.623047\" xlink:href=\"#DejaVuSans-46\"/>\n       <use x=\"95.410156\" xlink:href=\"#DejaVuSans-50\"/>\n      </g>\n     </g>\n    </g>\n    <g id=\"ytick_7\">\n     <g id=\"line2d_12\">\n      <g>\n       <use style=\"stroke:#000000;stroke-width:0.8;\" x=\"52.160938\" xlink:href=\"#md8fda5b566\" y=\"10.999219\"/>\n      </g>\n     </g>\n     <g id=\"text_13\">\n      <!-- 0.3 -->\n      <g transform=\"translate(29.257813 14.798438)scale(0.1 -0.1)\">\n       <use xlink:href=\"#DejaVuSans-48\"/>\n       <use x=\"63.623047\" xlink:href=\"#DejaVuSans-46\"/>\n       <use x=\"95.410156\" xlink:href=\"#DejaVuSans-51\"/>\n      </g>\n     </g>\n    </g>\n    <g id=\"text_14\">\n     <!-- Average silhouette score -->\n     <g transform=\"translate(14.798438 188.696094)rotate(-90)scale(0.1 -0.1)\">\n      <defs>\n       <path d=\"M 34.1875 63.1875 \nL 20.796875 26.90625 \nL 47.609375 26.90625 \nz\nM 28.609375 72.90625 \nL 39.796875 72.90625 \nL 67.578125 0 \nL 57.328125 0 \nL 50.6875 18.703125 \nL 17.828125 18.703125 \nL 11.1875 0 \nL 0.78125 0 \nz\n\" id=\"DejaVuSans-65\"/>\n       <path d=\"M 2.984375 54.6875 \nL 12.5 54.6875 \nL 29.59375 8.796875 \nL 46.6875 54.6875 \nL 56.203125 54.6875 \nL 35.6875 0 \nL 23.484375 0 \nz\n\" id=\"DejaVuSans-118\"/>\n       <path d=\"M 54.890625 33.015625 \nL 54.890625 0 \nL 45.90625 0 \nL 45.90625 32.71875 \nQ 45.90625 40.484375 42.875 44.328125 \nQ 39.84375 48.1875 33.796875 48.1875 \nQ 26.515625 48.1875 22.3125 43.546875 \nQ 18.109375 38.921875 18.109375 30.90625 \nL 18.109375 0 \nL 9.078125 0 \nL 9.078125 75.984375 \nL 18.109375 75.984375 \nL 18.109375 46.1875 \nQ 21.34375 51.125 25.703125 53.5625 \nQ 30.078125 56 35.796875 56 \nQ 45.21875 56 50.046875 50.171875 \nQ 54.890625 44.34375 54.890625 33.015625 \nz\n\" id=\"DejaVuSans-104\"/>\n      </defs>\n      <use xlink:href=\"#DejaVuSans-65\"/>\n      <use x=\"62.533203\" xlink:href=\"#DejaVuSans-118\"/>\n      <use x=\"121.712891\" xlink:href=\"#DejaVuSans-101\"/>\n      <use x=\"183.236328\" xlink:href=\"#DejaVuSans-114\"/>\n      <use x=\"224.349609\" xlink:href=\"#DejaVuSans-97\"/>\n      <use x=\"285.628906\" xlink:href=\"#DejaVuSans-103\"/>\n      <use x=\"349.105469\" xlink:href=\"#DejaVuSans-101\"/>\n      <use x=\"410.628906\" xlink:href=\"#DejaVuSans-32\"/>\n      <use x=\"442.416016\" xlink:href=\"#DejaVuSans-115\"/>\n      <use x=\"494.515625\" xlink:href=\"#DejaVuSans-105\"/>\n      <use x=\"522.298828\" xlink:href=\"#DejaVuSans-108\"/>\n      <use x=\"550.082031\" xlink:href=\"#DejaVuSans-104\"/>\n      <use x=\"613.460938\" xlink:href=\"#DejaVuSans-111\"/>\n      <use x=\"674.642578\" xlink:href=\"#DejaVuSans-117\"/>\n      <use x=\"738.021484\" xlink:href=\"#DejaVuSans-101\"/>\n      <use x=\"799.544922\" xlink:href=\"#DejaVuSans-116\"/>\n      <use x=\"838.753906\" xlink:href=\"#DejaVuSans-116\"/>\n      <use x=\"877.962891\" xlink:href=\"#DejaVuSans-101\"/>\n      <use x=\"939.486328\" xlink:href=\"#DejaVuSans-32\"/>\n      <use x=\"971.273438\" xlink:href=\"#DejaVuSans-115\"/>\n      <use x=\"1023.373047\" xlink:href=\"#DejaVuSans-99\"/>\n      <use x=\"1078.353516\" xlink:href=\"#DejaVuSans-111\"/>\n      <use x=\"1139.535156\" xlink:href=\"#DejaVuSans-114\"/>\n      <use x=\"1178.398438\" xlink:href=\"#DejaVuSans-101\"/>\n     </g>\n    </g>\n   </g>\n   <g id=\"LineCollection_1\">\n    <path clip-path=\"url(#p6b255bf659)\" d=\"M 62.21321 68.179555 \nL 62.21321 55.55015 \n\" style=\"fill:none;stroke:#00008b;stroke-width:1.5;\"/>\n    <path clip-path=\"url(#p6b255bf659)\" d=\"M 69.659338 71.432492 \nL 69.659338 57.790806 \n\" style=\"fill:none;stroke:#00008b;stroke-width:1.5;\"/>\n    <path clip-path=\"url(#p6b255bf659)\" d=\"M 77.105466 71.661243 \nL 77.105466 57.403268 \n\" style=\"fill:none;stroke:#00008b;stroke-width:1.5;\"/>\n    <path clip-path=\"url(#p6b255bf659)\" d=\"M 84.551594 78.313746 \nL 84.551594 60.179868 \n\" style=\"fill:none;stroke:#00008b;stroke-width:1.5;\"/>\n    <path clip-path=\"url(#p6b255bf659)\" d=\"M 91.997722 79.76622 \nL 91.997722 61.679709 \n\" style=\"fill:none;stroke:#00008b;stroke-width:1.5;\"/>\n    <path clip-path=\"url(#p6b255bf659)\" d=\"M 99.44385 79.281588 \nL 99.44385 61.899887 \n\" style=\"fill:none;stroke:#00008b;stroke-width:1.5;\"/>\n    <path clip-path=\"url(#p6b255bf659)\" d=\"M 106.889978 69.822731 \nL 106.889978 53.780451 \n\" style=\"fill:none;stroke:#00008b;stroke-width:1.5;\"/>\n    <path clip-path=\"url(#p6b255bf659)\" d=\"M 114.336106 75.130168 \nL 114.336106 58.135964 \n\" style=\"fill:none;stroke:#00008b;stroke-width:1.5;\"/>\n    <path clip-path=\"url(#p6b255bf659)\" d=\"M 121.782234 80.484729 \nL 121.782234 60.756454 \n\" style=\"fill:none;stroke:#00008b;stroke-width:1.5;\"/>\n    <path clip-path=\"url(#p6b255bf659)\" d=\"M 129.228362 89.012238 \nL 129.228362 66.579906 \n\" style=\"fill:none;stroke:#00008b;stroke-width:1.5;\"/>\n    <path clip-path=\"url(#p6b255bf659)\" d=\"M 136.67449 88.958521 \nL 136.67449 67.917235 \n\" style=\"fill:none;stroke:#00008b;stroke-width:1.5;\"/>\n    <path clip-path=\"url(#p6b255bf659)\" d=\"M 144.120618 95.70043 \nL 144.120618 75.965111 \n\" style=\"fill:none;stroke:#00008b;stroke-width:1.5;\"/>\n    <path clip-path=\"url(#p6b255bf659)\" d=\"M 151.566746 97.226005 \nL 151.566746 77.15351 \n\" style=\"fill:none;stroke:#00008b;stroke-width:1.5;\"/>\n    <path clip-path=\"url(#p6b255bf659)\" d=\"M 159.012874 99.737563 \nL 159.012874 77.957775 \n\" style=\"fill:none;stroke:#00008b;stroke-width:1.5;\"/>\n    <path clip-path=\"url(#p6b255bf659)\" d=\"M 166.459001 95.759654 \nL 166.459001 72.703077 \n\" style=\"fill:none;stroke:#00008b;stroke-width:1.5;\"/>\n    <path clip-path=\"url(#p6b255bf659)\" d=\"M 173.905129 97.305639 \nL 173.905129 74.863312 \n\" style=\"fill:none;stroke:#00008b;stroke-width:1.5;\"/>\n    <path clip-path=\"url(#p6b255bf659)\" d=\"M 181.351257 101.809266 \nL 181.351257 78.722484 \n\" style=\"fill:none;stroke:#00008b;stroke-width:1.5;\"/>\n    <path clip-path=\"url(#p6b255bf659)\" d=\"M 188.797385 100.123167 \nL 188.797385 78.021785 \n\" style=\"fill:none;stroke:#00008b;stroke-width:1.5;\"/>\n    <path clip-path=\"url(#p6b255bf659)\" d=\"M 196.243513 101.641867 \nL 196.243513 80.612351 \n\" style=\"fill:none;stroke:#00008b;stroke-width:1.5;\"/>\n    <path clip-path=\"url(#p6b255bf659)\" d=\"M 203.689641 101.45873 \nL 203.689641 84.893338 \n\" style=\"fill:none;stroke:#00008b;stroke-width:1.5;\"/>\n    <path clip-path=\"url(#p6b255bf659)\" d=\"M 211.135769 103.306828 \nL 211.135769 86.454353 \n\" style=\"fill:none;stroke:#00008b;stroke-width:1.5;\"/>\n    <path clip-path=\"url(#p6b255bf659)\" d=\"M 218.581897 104.186094 \nL 218.581897 89.322462 \n\" style=\"fill:none;stroke:#00008b;stroke-width:1.5;\"/>\n    <path clip-path=\"url(#p6b255bf659)\" d=\"M 226.028025 107.75076 \nL 226.028025 92.018694 \n\" style=\"fill:none;stroke:#00008b;stroke-width:1.5;\"/>\n    <path clip-path=\"url(#p6b255bf659)\" d=\"M 233.474153 111.381586 \nL 233.474153 97.178782 \n\" style=\"fill:none;stroke:#00008b;stroke-width:1.5;\"/>\n    <path clip-path=\"url(#p6b255bf659)\" d=\"M 240.920281 113.555166 \nL 240.920281 99.730595 \n\" style=\"fill:none;stroke:#00008b;stroke-width:1.5;\"/>\n    <path clip-path=\"url(#p6b255bf659)\" d=\"M 248.366409 114.712032 \nL 248.366409 101.755282 \n\" style=\"fill:none;stroke:#00008b;stroke-width:1.5;\"/>\n    <path clip-path=\"url(#p6b255bf659)\" d=\"M 255.812537 114.575375 \nL 255.812537 101.193419 \n\" style=\"fill:none;stroke:#00008b;stroke-width:1.5;\"/>\n    <path clip-path=\"url(#p6b255bf659)\" d=\"M 263.258665 113.042875 \nL 263.258665 99.524405 \n\" style=\"fill:none;stroke:#00008b;stroke-width:1.5;\"/>\n   </g>\n   <g id=\"LineCollection_2\">\n    <path clip-path=\"url(#p6b255bf659)\" d=\"M 62.21321 184.476912 \nL 62.21321 171.847506 \n\" style=\"fill:none;stroke:#87cefa;stroke-width:1.5;\"/>\n    <path clip-path=\"url(#p6b255bf659)\" d=\"M 69.659338 187.447217 \nL 69.659338 173.805531 \n\" style=\"fill:none;stroke:#87cefa;stroke-width:1.5;\"/>\n    <path clip-path=\"url(#p6b255bf659)\" d=\"M 77.105466 187.655249 \nL 77.105466 173.397274 \n\" style=\"fill:none;stroke:#87cefa;stroke-width:1.5;\"/>\n    <path clip-path=\"url(#p6b255bf659)\" d=\"M 84.551594 194.53773 \nL 84.551594 176.403852 \n\" style=\"fill:none;stroke:#87cefa;stroke-width:1.5;\"/>\n    <path clip-path=\"url(#p6b255bf659)\" d=\"M 91.997722 195.142291 \nL 91.997722 177.05578 \n\" style=\"fill:none;stroke:#87cefa;stroke-width:1.5;\"/>\n    <path clip-path=\"url(#p6b255bf659)\" d=\"M 99.44385 196.254811 \nL 99.44385 178.873109 \n\" style=\"fill:none;stroke:#87cefa;stroke-width:1.5;\"/>\n    <path clip-path=\"url(#p6b255bf659)\" d=\"M 106.889978 198.218682 \nL 106.889978 182.176402 \n\" style=\"fill:none;stroke:#87cefa;stroke-width:1.5;\"/>\n    <path clip-path=\"url(#p6b255bf659)\" d=\"M 114.336106 202.694643 \nL 114.336106 185.70044 \n\" style=\"fill:none;stroke:#87cefa;stroke-width:1.5;\"/>\n    <path clip-path=\"url(#p6b255bf659)\" d=\"M 121.782234 206.644146 \nL 121.782234 186.915871 \n\" style=\"fill:none;stroke:#87cefa;stroke-width:1.5;\"/>\n    <path clip-path=\"url(#p6b255bf659)\" d=\"M 129.228362 214.411552 \nL 129.228362 191.97922 \n\" style=\"fill:none;stroke:#87cefa;stroke-width:1.5;\"/>\n    <path clip-path=\"url(#p6b255bf659)\" d=\"M 136.67449 213.692537 \nL 136.67449 192.651251 \n\" style=\"fill:none;stroke:#87cefa;stroke-width:1.5;\"/>\n    <path clip-path=\"url(#p6b255bf659)\" d=\"M 144.120618 212.851732 \nL 144.120618 193.116413 \n\" style=\"fill:none;stroke:#87cefa;stroke-width:1.5;\"/>\n    <path clip-path=\"url(#p6b255bf659)\" d=\"M 151.566746 215.445346 \nL 151.566746 195.372851 \n\" style=\"fill:none;stroke:#87cefa;stroke-width:1.5;\"/>\n    <path clip-path=\"url(#p6b255bf659)\" d=\"M 159.012874 216.280858 \nL 159.012874 194.50107 \n\" style=\"fill:none;stroke:#87cefa;stroke-width:1.5;\"/>\n    <path clip-path=\"url(#p6b255bf659)\" d=\"M 166.459001 216.18 \nL 166.459001 193.123423 \n\" style=\"fill:none;stroke:#87cefa;stroke-width:1.5;\"/>\n    <path clip-path=\"url(#p6b255bf659)\" d=\"M 173.905129 216.617826 \nL 173.905129 194.175499 \n\" style=\"fill:none;stroke:#87cefa;stroke-width:1.5;\"/>\n    <path clip-path=\"url(#p6b255bf659)\" d=\"M 181.351257 218.034753 \nL 181.351257 194.947971 \n\" style=\"fill:none;stroke:#87cefa;stroke-width:1.5;\"/>\n    <path clip-path=\"url(#p6b255bf659)\" d=\"M 188.797385 217.68422 \nL 188.797385 195.582838 \n\" style=\"fill:none;stroke:#87cefa;stroke-width:1.5;\"/>\n    <path clip-path=\"url(#p6b255bf659)\" d=\"M 196.243513 218.780482 \nL 196.243513 197.750966 \n\" style=\"fill:none;stroke:#87cefa;stroke-width:1.5;\"/>\n    <path clip-path=\"url(#p6b255bf659)\" d=\"M 203.689641 218.309697 \nL 203.689641 201.744304 \n\" style=\"fill:none;stroke:#87cefa;stroke-width:1.5;\"/>\n    <path clip-path=\"url(#p6b255bf659)\" d=\"M 211.135769 220.00465 \nL 211.135769 203.152175 \n\" style=\"fill:none;stroke:#87cefa;stroke-width:1.5;\"/>\n    <path clip-path=\"url(#p6b255bf659)\" d=\"M 218.581897 218.998577 \nL 218.581897 204.134945 \n\" style=\"fill:none;stroke:#87cefa;stroke-width:1.5;\"/>\n    <path clip-path=\"url(#p6b255bf659)\" d=\"M 226.028025 222.973941 \nL 226.028025 207.241876 \n\" style=\"fill:none;stroke:#87cefa;stroke-width:1.5;\"/>\n    <path clip-path=\"url(#p6b255bf659)\" d=\"M 233.474153 222.366017 \nL 233.474153 208.163213 \n\" style=\"fill:none;stroke:#87cefa;stroke-width:1.5;\"/>\n    <path clip-path=\"url(#p6b255bf659)\" d=\"M 240.920281 222.137721 \nL 240.920281 208.313151 \n\" style=\"fill:none;stroke:#87cefa;stroke-width:1.5;\"/>\n    <path clip-path=\"url(#p6b255bf659)\" d=\"M 248.366409 222.84706 \nL 248.366409 209.890309 \n\" style=\"fill:none;stroke:#87cefa;stroke-width:1.5;\"/>\n    <path clip-path=\"url(#p6b255bf659)\" d=\"M 255.812537 222.984632 \nL 255.812537 209.602676 \n\" style=\"fill:none;stroke:#87cefa;stroke-width:1.5;\"/>\n    <path clip-path=\"url(#p6b255bf659)\" d=\"M 263.258665 223.777863 \nL 263.258665 210.259393 \n\" style=\"fill:none;stroke:#87cefa;stroke-width:1.5;\"/>\n   </g>\n   <g id=\"line2d_13\">\n    <path clip-path=\"url(#p6b255bf659)\" d=\"M 62.21321 61.864852 \nL 69.659338 64.611649 \nL 77.105466 64.532256 \nL 84.551594 69.246807 \nL 91.997722 70.722965 \nL 99.44385 70.590738 \nL 106.889978 61.801591 \nL 114.336106 66.633066 \nL 121.782234 70.620591 \nL 129.228362 77.796072 \nL 136.67449 78.437878 \nL 144.120618 85.832771 \nL 151.566746 87.189758 \nL 159.012874 88.847669 \nL 166.459001 84.231366 \nL 173.905129 86.084475 \nL 181.351257 90.265875 \nL 188.797385 89.072476 \nL 196.243513 91.127109 \nL 203.689641 93.176034 \nL 211.135769 94.880591 \nL 218.581897 96.754278 \nL 226.028025 99.884727 \nL 233.474153 104.280184 \nL 240.920281 106.642881 \nL 248.366409 108.233657 \nL 255.812537 107.884397 \nL 263.258665 106.28364 \n\" style=\"fill:none;stroke:#00008b;stroke-linecap:square;stroke-width:1.5;\"/>\n    <defs>\n     <path d=\"M 0 1.25 \nC 0.331504 1.25 0.649475 1.118292 0.883883 0.883883 \nC 1.118292 0.649475 1.25 0.331504 1.25 0 \nC 1.25 -0.331504 1.118292 -0.649475 0.883883 -0.883883 \nC 0.649475 -1.118292 0.331504 -1.25 0 -1.25 \nC -0.331504 -1.25 -0.649475 -1.118292 -0.883883 -0.883883 \nC -1.118292 -0.649475 -1.25 -0.331504 -1.25 0 \nC -1.25 0.331504 -1.118292 0.649475 -0.883883 0.883883 \nC -0.649475 1.118292 -0.331504 1.25 0 1.25 \nz\n\" id=\"me34ec7b569\" style=\"stroke:#00008b;\"/>\n    </defs>\n    <g clip-path=\"url(#p6b255bf659)\">\n     <use style=\"fill:#00008b;stroke:#00008b;\" x=\"62.21321\" xlink:href=\"#me34ec7b569\" y=\"61.864852\"/>\n     <use style=\"fill:#00008b;stroke:#00008b;\" x=\"69.659338\" xlink:href=\"#me34ec7b569\" y=\"64.611649\"/>\n     <use style=\"fill:#00008b;stroke:#00008b;\" x=\"77.105466\" xlink:href=\"#me34ec7b569\" y=\"64.532256\"/>\n     <use style=\"fill:#00008b;stroke:#00008b;\" x=\"84.551594\" xlink:href=\"#me34ec7b569\" y=\"69.246807\"/>\n     <use style=\"fill:#00008b;stroke:#00008b;\" x=\"91.997722\" xlink:href=\"#me34ec7b569\" y=\"70.722965\"/>\n     <use style=\"fill:#00008b;stroke:#00008b;\" x=\"99.44385\" xlink:href=\"#me34ec7b569\" y=\"70.590738\"/>\n     <use style=\"fill:#00008b;stroke:#00008b;\" x=\"106.889978\" xlink:href=\"#me34ec7b569\" y=\"61.801591\"/>\n     <use style=\"fill:#00008b;stroke:#00008b;\" x=\"114.336106\" xlink:href=\"#me34ec7b569\" y=\"66.633066\"/>\n     <use style=\"fill:#00008b;stroke:#00008b;\" x=\"121.782234\" xlink:href=\"#me34ec7b569\" y=\"70.620591\"/>\n     <use style=\"fill:#00008b;stroke:#00008b;\" x=\"129.228362\" xlink:href=\"#me34ec7b569\" y=\"77.796072\"/>\n     <use style=\"fill:#00008b;stroke:#00008b;\" x=\"136.67449\" xlink:href=\"#me34ec7b569\" y=\"78.437878\"/>\n     <use style=\"fill:#00008b;stroke:#00008b;\" x=\"144.120618\" xlink:href=\"#me34ec7b569\" y=\"85.832771\"/>\n     <use style=\"fill:#00008b;stroke:#00008b;\" x=\"151.566746\" xlink:href=\"#me34ec7b569\" y=\"87.189758\"/>\n     <use style=\"fill:#00008b;stroke:#00008b;\" x=\"159.012874\" xlink:href=\"#me34ec7b569\" y=\"88.847669\"/>\n     <use style=\"fill:#00008b;stroke:#00008b;\" x=\"166.459001\" xlink:href=\"#me34ec7b569\" y=\"84.231366\"/>\n     <use style=\"fill:#00008b;stroke:#00008b;\" x=\"173.905129\" xlink:href=\"#me34ec7b569\" y=\"86.084475\"/>\n     <use style=\"fill:#00008b;stroke:#00008b;\" x=\"181.351257\" xlink:href=\"#me34ec7b569\" y=\"90.265875\"/>\n     <use style=\"fill:#00008b;stroke:#00008b;\" x=\"188.797385\" xlink:href=\"#me34ec7b569\" y=\"89.072476\"/>\n     <use style=\"fill:#00008b;stroke:#00008b;\" x=\"196.243513\" xlink:href=\"#me34ec7b569\" y=\"91.127109\"/>\n     <use style=\"fill:#00008b;stroke:#00008b;\" x=\"203.689641\" xlink:href=\"#me34ec7b569\" y=\"93.176034\"/>\n     <use style=\"fill:#00008b;stroke:#00008b;\" x=\"211.135769\" xlink:href=\"#me34ec7b569\" y=\"94.880591\"/>\n     <use style=\"fill:#00008b;stroke:#00008b;\" x=\"218.581897\" xlink:href=\"#me34ec7b569\" y=\"96.754278\"/>\n     <use style=\"fill:#00008b;stroke:#00008b;\" x=\"226.028025\" xlink:href=\"#me34ec7b569\" y=\"99.884727\"/>\n     <use style=\"fill:#00008b;stroke:#00008b;\" x=\"233.474153\" xlink:href=\"#me34ec7b569\" y=\"104.280184\"/>\n     <use style=\"fill:#00008b;stroke:#00008b;\" x=\"240.920281\" xlink:href=\"#me34ec7b569\" y=\"106.642881\"/>\n     <use style=\"fill:#00008b;stroke:#00008b;\" x=\"248.366409\" xlink:href=\"#me34ec7b569\" y=\"108.233657\"/>\n     <use style=\"fill:#00008b;stroke:#00008b;\" x=\"255.812537\" xlink:href=\"#me34ec7b569\" y=\"107.884397\"/>\n     <use style=\"fill:#00008b;stroke:#00008b;\" x=\"263.258665\" xlink:href=\"#me34ec7b569\" y=\"106.28364\"/>\n    </g>\n   </g>\n   <g id=\"line2d_14\">\n    <path clip-path=\"url(#p6b255bf659)\" d=\"M 62.21321 178.162209 \nL 69.659338 180.626374 \nL 77.105466 180.526261 \nL 84.551594 185.470791 \nL 91.997722 186.099035 \nL 99.44385 187.56396 \nL 106.889978 190.197542 \nL 114.336106 194.197541 \nL 121.782234 196.780008 \nL 129.228362 203.195386 \nL 136.67449 203.171894 \nL 144.120618 202.984072 \nL 151.566746 205.409099 \nL 159.012874 205.390964 \nL 166.459001 204.651711 \nL 173.905129 205.396662 \nL 181.351257 206.491362 \nL 188.797385 206.633529 \nL 196.243513 208.265724 \nL 203.689641 210.027 \nL 211.135769 211.578412 \nL 218.581897 211.566761 \nL 226.028025 215.107909 \nL 233.474153 215.264615 \nL 240.920281 215.225436 \nL 248.366409 216.368685 \nL 255.812537 216.293654 \nL 263.258665 217.018628 \n\" style=\"fill:none;stroke:#87cefa;stroke-linecap:square;stroke-width:1.5;\"/>\n    <defs>\n     <path d=\"M 0 1.25 \nC 0.331504 1.25 0.649475 1.118292 0.883883 0.883883 \nC 1.118292 0.649475 1.25 0.331504 1.25 0 \nC 1.25 -0.331504 1.118292 -0.649475 0.883883 -0.883883 \nC 0.649475 -1.118292 0.331504 -1.25 0 -1.25 \nC -0.331504 -1.25 -0.649475 -1.118292 -0.883883 -0.883883 \nC -1.118292 -0.649475 -1.25 -0.331504 -1.25 0 \nC -1.25 0.331504 -1.118292 0.649475 -0.883883 0.883883 \nC -0.649475 1.118292 -0.331504 1.25 0 1.25 \nz\n\" id=\"m0ffaf98078\" style=\"stroke:#87cefa;\"/>\n    </defs>\n    <g clip-path=\"url(#p6b255bf659)\">\n     <use style=\"fill:#87cefa;stroke:#87cefa;\" x=\"62.21321\" xlink:href=\"#m0ffaf98078\" y=\"178.162209\"/>\n     <use style=\"fill:#87cefa;stroke:#87cefa;\" x=\"69.659338\" xlink:href=\"#m0ffaf98078\" y=\"180.626374\"/>\n     <use style=\"fill:#87cefa;stroke:#87cefa;\" x=\"77.105466\" xlink:href=\"#m0ffaf98078\" y=\"180.526261\"/>\n     <use style=\"fill:#87cefa;stroke:#87cefa;\" x=\"84.551594\" xlink:href=\"#m0ffaf98078\" y=\"185.470791\"/>\n     <use style=\"fill:#87cefa;stroke:#87cefa;\" x=\"91.997722\" xlink:href=\"#m0ffaf98078\" y=\"186.099035\"/>\n     <use style=\"fill:#87cefa;stroke:#87cefa;\" x=\"99.44385\" xlink:href=\"#m0ffaf98078\" y=\"187.56396\"/>\n     <use style=\"fill:#87cefa;stroke:#87cefa;\" x=\"106.889978\" xlink:href=\"#m0ffaf98078\" y=\"190.197542\"/>\n     <use style=\"fill:#87cefa;stroke:#87cefa;\" x=\"114.336106\" xlink:href=\"#m0ffaf98078\" y=\"194.197541\"/>\n     <use style=\"fill:#87cefa;stroke:#87cefa;\" x=\"121.782234\" xlink:href=\"#m0ffaf98078\" y=\"196.780008\"/>\n     <use style=\"fill:#87cefa;stroke:#87cefa;\" x=\"129.228362\" xlink:href=\"#m0ffaf98078\" y=\"203.195386\"/>\n     <use style=\"fill:#87cefa;stroke:#87cefa;\" x=\"136.67449\" xlink:href=\"#m0ffaf98078\" y=\"203.171894\"/>\n     <use style=\"fill:#87cefa;stroke:#87cefa;\" x=\"144.120618\" xlink:href=\"#m0ffaf98078\" y=\"202.984072\"/>\n     <use style=\"fill:#87cefa;stroke:#87cefa;\" x=\"151.566746\" xlink:href=\"#m0ffaf98078\" y=\"205.409099\"/>\n     <use style=\"fill:#87cefa;stroke:#87cefa;\" x=\"159.012874\" xlink:href=\"#m0ffaf98078\" y=\"205.390964\"/>\n     <use style=\"fill:#87cefa;stroke:#87cefa;\" x=\"166.459001\" xlink:href=\"#m0ffaf98078\" y=\"204.651711\"/>\n     <use style=\"fill:#87cefa;stroke:#87cefa;\" x=\"173.905129\" xlink:href=\"#m0ffaf98078\" y=\"205.396662\"/>\n     <use style=\"fill:#87cefa;stroke:#87cefa;\" x=\"181.351257\" xlink:href=\"#m0ffaf98078\" y=\"206.491362\"/>\n     <use style=\"fill:#87cefa;stroke:#87cefa;\" x=\"188.797385\" xlink:href=\"#m0ffaf98078\" y=\"206.633529\"/>\n     <use style=\"fill:#87cefa;stroke:#87cefa;\" x=\"196.243513\" xlink:href=\"#m0ffaf98078\" y=\"208.265724\"/>\n     <use style=\"fill:#87cefa;stroke:#87cefa;\" x=\"203.689641\" xlink:href=\"#m0ffaf98078\" y=\"210.027\"/>\n     <use style=\"fill:#87cefa;stroke:#87cefa;\" x=\"211.135769\" xlink:href=\"#m0ffaf98078\" y=\"211.578412\"/>\n     <use style=\"fill:#87cefa;stroke:#87cefa;\" x=\"218.581897\" xlink:href=\"#m0ffaf98078\" y=\"211.566761\"/>\n     <use style=\"fill:#87cefa;stroke:#87cefa;\" x=\"226.028025\" xlink:href=\"#m0ffaf98078\" y=\"215.107909\"/>\n     <use style=\"fill:#87cefa;stroke:#87cefa;\" x=\"233.474153\" xlink:href=\"#m0ffaf98078\" y=\"215.264615\"/>\n     <use style=\"fill:#87cefa;stroke:#87cefa;\" x=\"240.920281\" xlink:href=\"#m0ffaf98078\" y=\"215.225436\"/>\n     <use style=\"fill:#87cefa;stroke:#87cefa;\" x=\"248.366409\" xlink:href=\"#m0ffaf98078\" y=\"216.368685\"/>\n     <use style=\"fill:#87cefa;stroke:#87cefa;\" x=\"255.812537\" xlink:href=\"#m0ffaf98078\" y=\"216.293654\"/>\n     <use style=\"fill:#87cefa;stroke:#87cefa;\" x=\"263.258665\" xlink:href=\"#m0ffaf98078\" y=\"217.018628\"/>\n    </g>\n   </g>\n   <g id=\"patch_3\">\n    <path d=\"M 52.160938 242.399219 \nL 52.160938 10.999219 \n\" style=\"fill:none;stroke:#000000;stroke-linecap:square;stroke-linejoin:miter;stroke-width:0.8;\"/>\n   </g>\n   <g id=\"patch_4\">\n    <path d=\"M 273.310937 242.399219 \nL 273.310937 10.999219 \n\" style=\"fill:none;stroke:#000000;stroke-linecap:square;stroke-linejoin:miter;stroke-width:0.8;\"/>\n   </g>\n   <g id=\"patch_5\">\n    <path d=\"M 52.160938 242.399219 \nL 273.310938 242.399219 \n\" style=\"fill:none;stroke:#000000;stroke-linecap:square;stroke-linejoin:miter;stroke-width:0.8;\"/>\n   </g>\n   <g id=\"patch_6\">\n    <path d=\"M 52.160938 10.999219 \nL 273.310938 10.999219 \n\" style=\"fill:none;stroke:#000000;stroke-linecap:square;stroke-linejoin:miter;stroke-width:0.8;\"/>\n   </g>\n   <g id=\"legend_1\">\n    <g id=\"LineCollection_3\">\n     <path d=\"M 145.810937 29.099219 \nL 145.810937 19.099219 \n\" style=\"fill:none;stroke:#00008b;stroke-width:1.5;\"/>\n    </g>\n    <g id=\"line2d_15\">\n     <path d=\"M 135.810937 24.099219 \nL 155.810937 24.099219 \n\" style=\"fill:none;stroke:#00008b;stroke-linecap:square;stroke-width:1.5;\"/>\n    </g>\n    <g id=\"line2d_16\">\n     <g>\n      <use style=\"fill:#00008b;stroke:#00008b;\" x=\"145.810937\" xlink:href=\"#me34ec7b569\" y=\"24.099219\"/>\n     </g>\n    </g>\n    <g id=\"text_15\">\n     <!-- $X_{t}$ $\\rightarrow$ ref. taxonomy -->\n     <g transform=\"translate(163.810937 27.599219)scale(0.1 -0.1)\">\n      <defs>\n       <path d=\"M 13.71875 72.90625 \nL 23.6875 72.90625 \nL 36.1875 46.578125 \nL 58.796875 72.90625 \nL 70.3125 72.90625 \nL 40.28125 38.09375 \nL 58.40625 0 \nL 48.484375 0 \nL 33.796875 30.71875 \nL 7.171875 0 \nL -4.296875 0 \nL 29.78125 39.203125 \nz\n\" id=\"DejaVuSans-Oblique-88\"/>\n       <path d=\"M 42.28125 54.6875 \nL 40.921875 47.703125 \nL 23 47.703125 \nL 17.1875 18.015625 \nQ 16.890625 16.359375 16.75 15.234375 \nQ 16.609375 14.109375 16.609375 13.484375 \nQ 16.609375 10.359375 18.484375 8.9375 \nQ 20.359375 7.515625 24.515625 7.515625 \nL 33.59375 7.515625 \nL 32.078125 0 \nL 23.484375 0 \nQ 15.484375 0 11.546875 3.125 \nQ 7.625 6.25 7.625 12.59375 \nQ 7.625 13.71875 7.765625 15.0625 \nQ 7.90625 16.40625 8.203125 18.015625 \nL 14.015625 47.703125 \nL 6.390625 47.703125 \nL 7.8125 54.6875 \nL 15.28125 54.6875 \nL 18.3125 70.21875 \nL 27.296875 70.21875 \nL 24.3125 54.6875 \nz\n\" id=\"DejaVuSans-Oblique-116\"/>\n       <path d=\"M 78.90625 33.546875 \nL 78.90625 29.15625 \nL 59.71875 9.96875 \nL 53.859375 15.828125 \nL 65.234375 27.203125 \nL 5.71875 27.203125 \nL 5.71875 35.5 \nL 65.234375 35.5 \nL 53.859375 46.875 \nL 59.71875 52.734375 \nz\n\" id=\"DejaVuSans-8594\"/>\n      </defs>\n      <use transform=\"translate(0 0.015625)\" xlink:href=\"#DejaVuSans-Oblique-88\"/>\n      <use transform=\"translate(68.505859 -16.390625)scale(0.7)\" xlink:href=\"#DejaVuSans-Oblique-116\"/>\n      <use transform=\"translate(98.686523 0.015625)\" xlink:href=\"#DejaVuSans-32\"/>\n      <use transform=\"translate(149.956055 0.015625)\" xlink:href=\"#DejaVuSans-8594\"/>\n      <use transform=\"translate(253.227539 0.015625)\" xlink:href=\"#DejaVuSans-32\"/>\n      <use transform=\"translate(285.014648 0.015625)\" xlink:href=\"#DejaVuSans-114\"/>\n      <use transform=\"translate(326.12793 0.015625)\" xlink:href=\"#DejaVuSans-101\"/>\n      <use transform=\"translate(387.651367 0.015625)\" xlink:href=\"#DejaVuSans-102\"/>\n      <use transform=\"translate(422.856445 0.015625)\" xlink:href=\"#DejaVuSans-46\"/>\n      <use transform=\"translate(454.643555 0.015625)\" xlink:href=\"#DejaVuSans-32\"/>\n      <use transform=\"translate(486.430664 0.015625)\" xlink:href=\"#DejaVuSans-116\"/>\n      <use transform=\"translate(525.639648 0.015625)\" xlink:href=\"#DejaVuSans-97\"/>\n      <use transform=\"translate(586.918945 0.015625)\" xlink:href=\"#DejaVuSans-120\"/>\n      <use transform=\"translate(646.098633 0.015625)\" xlink:href=\"#DejaVuSans-111\"/>\n      <use transform=\"translate(707.280273 0.015625)\" xlink:href=\"#DejaVuSans-110\"/>\n      <use transform=\"translate(770.65918 0.015625)\" xlink:href=\"#DejaVuSans-111\"/>\n      <use transform=\"translate(831.84082 0.015625)\" xlink:href=\"#DejaVuSans-109\"/>\n      <use transform=\"translate(929.25293 0.015625)\" xlink:href=\"#DejaVuSans-121\"/>\n     </g>\n    </g>\n    <g id=\"LineCollection_4\">\n     <path d=\"M 145.810937 43.799219 \nL 145.810937 33.799219 \n\" style=\"fill:none;stroke:#87cefa;stroke-width:1.5;\"/>\n    </g>\n    <g id=\"line2d_17\">\n     <path d=\"M 135.810937 38.799219 \nL 155.810937 38.799219 \n\" style=\"fill:none;stroke:#87cefa;stroke-linecap:square;stroke-width:1.5;\"/>\n    </g>\n    <g id=\"line2d_18\">\n     <g>\n      <use style=\"fill:#87cefa;stroke:#87cefa;\" x=\"145.810937\" xlink:href=\"#m0ffaf98078\" y=\"38.799219\"/>\n     </g>\n    </g>\n    <g id=\"text_16\">\n     <!-- $X_{e}$ $\\rightarrow$ ref. taxonomy -->\n     <g transform=\"translate(163.810937 42.299219)scale(0.1 -0.1)\">\n      <defs>\n       <path d=\"M 48.09375 32.234375 \nQ 48.25 33.015625 48.3125 33.84375 \nQ 48.390625 34.671875 48.390625 35.5 \nQ 48.390625 41.453125 44.890625 44.921875 \nQ 41.40625 48.390625 35.40625 48.390625 \nQ 28.71875 48.390625 23.578125 44.15625 \nQ 18.453125 39.9375 15.828125 32.171875 \nz\nM 55.90625 25.203125 \nL 14.109375 25.203125 \nQ 13.8125 23.34375 13.71875 22.265625 \nQ 13.625 21.1875 13.625 20.40625 \nQ 13.625 13.625 17.796875 9.90625 \nQ 21.96875 6.203125 29.59375 6.203125 \nQ 35.453125 6.203125 40.671875 7.515625 \nQ 45.90625 8.84375 50.390625 11.375 \nL 48.6875 2.484375 \nQ 43.84375 0.53125 38.6875 -0.4375 \nQ 33.546875 -1.421875 28.21875 -1.421875 \nQ 16.84375 -1.421875 10.71875 4.015625 \nQ 4.59375 9.46875 4.59375 19.484375 \nQ 4.59375 28.03125 7.640625 35.375 \nQ 10.6875 42.71875 16.609375 48.484375 \nQ 20.40625 52.09375 25.65625 54.046875 \nQ 30.90625 56 36.8125 56 \nQ 46.09375 56 51.578125 50.4375 \nQ 57.078125 44.875 57.078125 35.5 \nQ 57.078125 33.25 56.78125 30.6875 \nQ 56.5 28.125 55.90625 25.203125 \nz\n\" id=\"DejaVuSans-Oblique-101\"/>\n      </defs>\n      <use transform=\"translate(0 0.015625)\" xlink:href=\"#DejaVuSans-Oblique-88\"/>\n      <use transform=\"translate(68.505859 -16.390625)scale(0.7)\" xlink:href=\"#DejaVuSans-Oblique-101\"/>\n      <use transform=\"translate(114.306641 0.015625)\" xlink:href=\"#DejaVuSans-32\"/>\n      <use transform=\"translate(165.576172 0.015625)\" xlink:href=\"#DejaVuSans-8594\"/>\n      <use transform=\"translate(268.847656 0.015625)\" xlink:href=\"#DejaVuSans-32\"/>\n      <use transform=\"translate(300.634766 0.015625)\" xlink:href=\"#DejaVuSans-114\"/>\n      <use transform=\"translate(341.748047 0.015625)\" xlink:href=\"#DejaVuSans-101\"/>\n      <use transform=\"translate(403.271484 0.015625)\" xlink:href=\"#DejaVuSans-102\"/>\n      <use transform=\"translate(438.476562 0.015625)\" xlink:href=\"#DejaVuSans-46\"/>\n      <use transform=\"translate(470.263672 0.015625)\" xlink:href=\"#DejaVuSans-32\"/>\n      <use transform=\"translate(502.050781 0.015625)\" xlink:href=\"#DejaVuSans-116\"/>\n      <use transform=\"translate(541.259766 0.015625)\" xlink:href=\"#DejaVuSans-97\"/>\n      <use transform=\"translate(602.539062 0.015625)\" xlink:href=\"#DejaVuSans-120\"/>\n      <use transform=\"translate(661.71875 0.015625)\" xlink:href=\"#DejaVuSans-111\"/>\n      <use transform=\"translate(722.900391 0.015625)\" xlink:href=\"#DejaVuSans-110\"/>\n      <use transform=\"translate(786.279297 0.015625)\" xlink:href=\"#DejaVuSans-111\"/>\n      <use transform=\"translate(847.460938 0.015625)\" xlink:href=\"#DejaVuSans-109\"/>\n      <use transform=\"translate(944.873047 0.015625)\" xlink:href=\"#DejaVuSans-121\"/>\n     </g>\n    </g>\n   </g>\n  </g>\n </g>\n <defs>\n  <clipPath id=\"p6b255bf659\">\n   <rect height=\"231.4\" width=\"221.15\" x=\"52.160938\" y=\"10.999219\"/>\n  </clipPath>\n </defs>\n</svg>\n",
      "image/png": "[encoded data removed]"
     },
     "metadata": {
      "needs_background": "light"
     }
    }
   ],
   "source": [
    "plt.figure(figsize=(4, 4))\n",
    "plt.errorbar(df_n_class['n_classes'].values, df_n_class['sil_T']['mean'].values, df_n_class['sil_T']['std'].values,\n",
    "             color='darkblue', label=r'$X_{t}$ $\\rightarrow$ ref. taxonomy',\n",
    "             linestyle='-', marker='.', ms=5)\n",
    "plt.errorbar(df_n_class['n_classes'].values, df_n_class['sil_E']['mean'].values, df_n_class['sil_T']['std'].values,\n",
    "             color='lightskyblue', label=r'$X_{e}$ $\\rightarrow$ ref. taxonomy',\n",
    "             linestyle='-', marker='.', ms=5)\n",
    "\n",
    "ax = plt.gca()\n",
    "ax.set(**{'xlabel': ('Number of classes in merged taxonomy'),\n",
    "          'ylabel': ('Average silhouette score'),\n",
    "          'xticks': (np.arange(30, 55, 5)),\n",
    "          'ylim': (-0.3, 0.3)})\n",
    "plt.legend(frameon=False)\n",
    "plt.tight_layout()\n",
    "plt.show()"
   ]
  },
  {
   "cell_type": "markdown",
   "metadata": {},
   "source": [
    "#### Coupled representations with GMM labels and 33-taxonomy"
   ]
  },
  {
   "cell_type": "code",
   "execution_count": 18,
   "metadata": {},
   "outputs": [],
   "source": [
    "df_sample_list_E_gmm= []\n",
    "df_label_list_E_gmm = []\n",
    "\n",
    "df_sample_list_T_gmm = []\n",
    "df_label_list_T_gmm = []\n",
    "\n",
    "df_sample_list_E_tax= []\n",
    "df_label_list_E_tax = []\n",
    "\n",
    "df_sample_list_T_tax = []\n",
    "df_label_list_T_tax = []\n",
    "\n",
    "tax_labels,n_classes = taxonomy_assignments(O['cluster'].copy(),datadict=O.copy(),n_required_classes=33, merge_on='well_sampled')\n",
    "\n",
    "for k in range(n_best):\n",
    "    all_inds = O['well_sampled_ind'].copy()\n",
    "    test_inds = folds_1[best_TE_model_keys[k]]['well_sampled_test_ind'].copy()\n",
    "    \n",
    "    #zE -> Gmm E\n",
    "    zE = folds_1[best_TE_model_keys[k]]['zE'][test_inds,:].copy()\n",
    "    lbl = folds_1[best_TE_model_keys[k]]['ccE_lbl_matched'][test_inds].copy()\n",
    "    df_sample,df_label = silhouette_analysis(z=zE,lbl=lbl)\n",
    "    df_sample_list_E_gmm.append(df_sample)\n",
    "    df_label_list_E_gmm.append(df_label)\n",
    "    \n",
    "    #zE -> taxonomy\n",
    "    zE = folds_1[best_TE_model_keys[k]]['zE'][test_inds,:].copy()\n",
    "    lbl = tax_labels.copy()[test_inds]\n",
    "    df_sample,df_label = silhouette_analysis(z=zE,lbl=lbl)\n",
    "    df_sample_list_E_tax.append(df_sample)\n",
    "    df_label_list_E_tax.append(df_label)\n",
    "    \n",
    "    #zT -> Gmm T\n",
    "    zT = folds_1[best_TE_model_keys[k]]['zT'][test_inds,:].copy()\n",
    "    lbl = folds_1[best_TE_model_keys[k]]['ccT_lbl_matched'][test_inds].copy()\n",
    "    df_sample,df_label = silhouette_analysis(z=zT,lbl=lbl)\n",
    "    df_sample_list_T_gmm.append(df_sample)\n",
    "    df_label_list_T_gmm.append(df_label)\n",
    "    \n",
    "    #zT -> taxonomy\n",
    "    zT = folds_1[best_TE_model_keys[k]]['zT'][test_inds,:].copy()\n",
    "    lbl = tax_labels.copy()[test_inds]\n",
    "    df_sample,df_label = silhouette_analysis(z=zT,lbl=lbl)\n",
    "    df_sample_list_T_tax.append(df_sample)\n",
    "    df_label_list_T_tax.append(df_label)"
   ]
  },
  {
   "cell_type": "code",
   "execution_count": 19,
   "metadata": {},
   "outputs": [
    {
     "output_type": "stream",
     "name": "stdout",
     "text": [
      "Coupled E rep. with GMM: s = 0.044 + 0.017\nCoupled T rep. with GMM: s = 0.235 + 0.009\nCoupled E rep. with taxonomy: s = -0.133 + 0.008\nCoupled T rep. with taxonomy: s = 0.135 + 0.009\n"
     ]
    }
   ],
   "source": [
    "s_tax_coupled = np.array([df['sil'].mean() for df in df_sample_list_E_gmm])\n",
    "print(f'Coupled E rep. with GMM: s = {np.mean(s_tax_coupled):0.3f} + {np.std(s_tax_coupled):0.3f}')\n",
    "\n",
    "s_tax_coupled = np.array([df['sil'].mean() for df in df_sample_list_T_gmm])\n",
    "print(f'Coupled T rep. with GMM: s = {np.mean(s_tax_coupled):0.3f} + {np.std(s_tax_coupled):0.3f}')\n",
    "\n",
    "s_tax_coupled = np.array([df['sil'].mean() for df in df_sample_list_E_tax])\n",
    "print(f'Coupled E rep. with taxonomy: s = {np.mean(s_tax_coupled):0.3f} + {np.std(s_tax_coupled):0.3f}')\n",
    "\n",
    "s_tax_coupled = np.array([df['sil'].mean() for df in df_sample_list_T_tax])\n",
    "print(f'Coupled T rep. with taxonomy: s = {np.mean(s_tax_coupled):0.3f} + {np.std(s_tax_coupled):0.3f}')"
   ]
  },
  {
   "cell_type": "markdown",
   "metadata": {},
   "source": [
    "#### Uncoupled representation with 33-label taxonomy"
   ]
  },
  {
   "cell_type": "code",
   "execution_count": 21,
   "metadata": {},
   "outputs": [],
   "source": [
    "df_sample_list_E_tax_unc = []\n",
    "df_label_list_E_tax_unc = []\n",
    "\n",
    "df_sample_list_T_tax_unc = []\n",
    "df_label_list_T_tax_unc = []\n",
    "\n",
    "tax_labels,n_classes = taxonomy_assignments(O['cluster'].copy(),datadict=O.copy(),n_required_classes=33, merge_on='well_sampled')\n",
    "\n",
    "for i in folds_0.keys():\n",
    "    \n",
    "    zE = folds_0[i]['zE'][test_inds,:].copy()\n",
    "    lbl = tax_labels.copy()[test_inds]\n",
    "    df_sample,df_label = silhouette_analysis(z=zE,lbl=lbl)\n",
    "    df_sample_list_E_tax_unc.append(df_sample)\n",
    "    df_label_list_E_tax_unc.append(df_label)\n",
    "    \n",
    "    zT = folds_1[i]['zT'][test_inds,:].copy()\n",
    "    lbl = tax_labels.copy()[test_inds]\n",
    "    df_sample,df_label = silhouette_analysis(z=zT,lbl=lbl)\n",
    "    df_sample_list_T_tax_unc.append(df_sample)\n",
    "    df_label_list_T_tax_unc.append(df_label)"
   ]
  },
  {
   "cell_type": "code",
   "execution_count": 22,
   "metadata": {},
   "outputs": [
    {
     "output_type": "stream",
     "name": "stdout",
     "text": [
      "Uncoupled zT with 33-way reference taxonomy: s = 0.132 + 0.022\nUncoupled zE with 33-way reference taxonomy: s = -0.188 + 0.026\n"
     ]
    }
   ],
   "source": [
    "s_tax_unc = np.array([df['sil'].mean() for df in df_sample_list_T_tax_unc])\n",
    "print(f'Silhouette score for Uncoupled zT with 33-way reference taxonomy: s = {np.mean(s_tax_unc):0.3f} + {np.std(s_tax_unc):0.3f}')\n",
    "\n",
    "s_tax_unc = np.array([df['sil'].mean() for df in df_sample_list_E_tax_unc])\n",
    "print(f'Silhouette score Uncoupled zE with 33-way reference taxonomy: s = {np.mean(s_tax_unc):0.3f} + {np.std(s_tax_unc):0.3f}')"
   ]
  },
  {
   "cell_type": "code",
   "execution_count": 23,
   "metadata": {},
   "outputs": [
    {
     "output_type": "stream",
     "name": "stdout",
     "text": [
      "Silhouette score for coupled zE with 33 consensus clusters:   0.10 + 0.28\nSilhouette score for coupled zE with 33-way reference taxonomy:   -0.17 + 0.28\n"
     ]
    }
   ],
   "source": [
    "x = np.mean(df_label_list_E_gmm[0][\"sil\"][\"mean\"].values)\n",
    "y = np.std(df_label_list_E_gmm[0][\"sil\"][\"mean\"].values)\n",
    "print(f'Silhouette score for coupled zE with 33 consensus clusters:   {x:0.2f} + {y:0.2f}')\n",
    "\n",
    "x=np.mean(df_label_list_E_tax[0]['sil']['mean'].values)\n",
    "y=np.std(df_label_list_E_tax[0]['sil']['mean'].values)\n",
    "print(f'Silhouette score for coupled zE with 33-way reference taxonomy:   {x:0.2f} + {y:0.2f}')"
   ]
  },
  {
   "cell_type": "code",
   "execution_count": 25,
   "metadata": {},
   "outputs": [
    {
     "output_type": "error",
     "ename": "FileNotFoundError",
     "evalue": "[Errno 2] No such file or directory: '../assets/Fig_3e_source.csv'",
     "traceback": [
      "\u001b[0;31m---------------------------------------------------------------------------\u001b[0m",
      "\u001b[0;31mFileNotFoundError\u001b[0m                         Traceback (most recent call last)",
      "\u001b[0;32m<ipython-input-25-06fefdabb57d>\u001b[0m in \u001b[0;36m<module>\u001b[0;34m\u001b[0m\n\u001b[1;32m      2\u001b[0m                        \u001b[0;34m'reference_lbl'\u001b[0m\u001b[0;34m:\u001b[0m\u001b[0mdf_label_list_E_tax\u001b[0m\u001b[0;34m[\u001b[0m\u001b[0;36m0\u001b[0m\u001b[0;34m]\u001b[0m\u001b[0;34m[\u001b[0m\u001b[0;34m'sil'\u001b[0m\u001b[0;34m]\u001b[0m\u001b[0;34m[\u001b[0m\u001b[0;34m'mean'\u001b[0m\u001b[0;34m]\u001b[0m\u001b[0;34m.\u001b[0m\u001b[0mvalues\u001b[0m\u001b[0;34m,\u001b[0m\u001b[0;34m\u001b[0m\u001b[0;34m\u001b[0m\u001b[0m\n\u001b[1;32m      3\u001b[0m                        'reference_lbl_unc':df_label_list_E_tax_unc[0]['sil']['mean'].values})\n\u001b[0;32m----> 4\u001b[0;31m \u001b[0mdf_csv\u001b[0m\u001b[0;34m.\u001b[0m\u001b[0mto_csv\u001b[0m\u001b[0;34m(\u001b[0m\u001b[0;34m'../assets/Fig_3e_source.csv'\u001b[0m\u001b[0;34m,\u001b[0m\u001b[0mindex\u001b[0m\u001b[0;34m=\u001b[0m\u001b[0;32mTrue\u001b[0m\u001b[0;34m)\u001b[0m\u001b[0;34m\u001b[0m\u001b[0;34m\u001b[0m\u001b[0m\n\u001b[0m\u001b[1;32m      5\u001b[0m \u001b[0;34m\u001b[0m\u001b[0m\n\u001b[1;32m      6\u001b[0m df_csv = pd.DataFrame({'consensus_lbl':df_label_list_T_gmm[0]['sil']['mean'].values,\n",
      "\u001b[0;32m~/miniconda3/envs/tf23-cpu/lib/python3.7/site-packages/pandas/core/generic.py\u001b[0m in \u001b[0;36mto_csv\u001b[0;34m(self, path_or_buf, sep, na_rep, float_format, columns, header, index, index_label, mode, encoding, compression, quoting, quotechar, line_terminator, chunksize, date_format, doublequote, escapechar, decimal, errors)\u001b[0m\n\u001b[1;32m   3168\u001b[0m             \u001b[0mdecimal\u001b[0m\u001b[0;34m=\u001b[0m\u001b[0mdecimal\u001b[0m\u001b[0;34m,\u001b[0m\u001b[0;34m\u001b[0m\u001b[0;34m\u001b[0m\u001b[0m\n\u001b[1;32m   3169\u001b[0m         )\n\u001b[0;32m-> 3170\u001b[0;31m         \u001b[0mformatter\u001b[0m\u001b[0;34m.\u001b[0m\u001b[0msave\u001b[0m\u001b[0;34m(\u001b[0m\u001b[0;34m)\u001b[0m\u001b[0;34m\u001b[0m\u001b[0;34m\u001b[0m\u001b[0m\n\u001b[0m\u001b[1;32m   3171\u001b[0m \u001b[0;34m\u001b[0m\u001b[0m\n\u001b[1;32m   3172\u001b[0m         \u001b[0;32mif\u001b[0m \u001b[0mpath_or_buf\u001b[0m \u001b[0;32mis\u001b[0m \u001b[0;32mNone\u001b[0m\u001b[0;34m:\u001b[0m\u001b[0;34m\u001b[0m\u001b[0;34m\u001b[0m\u001b[0m\n",
      "\u001b[0;32m~/miniconda3/envs/tf23-cpu/lib/python3.7/site-packages/pandas/io/formats/csvs.py\u001b[0m in \u001b[0;36msave\u001b[0;34m(self)\u001b[0m\n\u001b[1;32m    188\u001b[0m                 \u001b[0mencoding\u001b[0m\u001b[0;34m=\u001b[0m\u001b[0mself\u001b[0m\u001b[0;34m.\u001b[0m\u001b[0mencoding\u001b[0m\u001b[0;34m,\u001b[0m\u001b[0;34m\u001b[0m\u001b[0;34m\u001b[0m\u001b[0m\n\u001b[1;32m    189\u001b[0m                 \u001b[0merrors\u001b[0m\u001b[0;34m=\u001b[0m\u001b[0mself\u001b[0m\u001b[0;34m.\u001b[0m\u001b[0merrors\u001b[0m\u001b[0;34m,\u001b[0m\u001b[0;34m\u001b[0m\u001b[0;34m\u001b[0m\u001b[0m\n\u001b[0;32m--> 190\u001b[0;31m                 \u001b[0mcompression\u001b[0m\u001b[0;34m=\u001b[0m\u001b[0mdict\u001b[0m\u001b[0;34m(\u001b[0m\u001b[0mself\u001b[0m\u001b[0;34m.\u001b[0m\u001b[0mcompression_args\u001b[0m\u001b[0;34m,\u001b[0m \u001b[0mmethod\u001b[0m\u001b[0;34m=\u001b[0m\u001b[0mself\u001b[0m\u001b[0;34m.\u001b[0m\u001b[0mcompression\u001b[0m\u001b[0;34m)\u001b[0m\u001b[0;34m,\u001b[0m\u001b[0;34m\u001b[0m\u001b[0;34m\u001b[0m\u001b[0m\n\u001b[0m\u001b[1;32m    191\u001b[0m             )\n\u001b[1;32m    192\u001b[0m             \u001b[0mclose\u001b[0m \u001b[0;34m=\u001b[0m \u001b[0;32mTrue\u001b[0m\u001b[0;34m\u001b[0m\u001b[0;34m\u001b[0m\u001b[0m\n",
      "\u001b[0;32m~/miniconda3/envs/tf23-cpu/lib/python3.7/site-packages/pandas/io/common.py\u001b[0m in \u001b[0;36mget_handle\u001b[0;34m(path_or_buf, mode, encoding, compression, memory_map, is_text, errors)\u001b[0m\n\u001b[1;32m    491\u001b[0m         \u001b[0;32mif\u001b[0m \u001b[0mencoding\u001b[0m\u001b[0;34m:\u001b[0m\u001b[0;34m\u001b[0m\u001b[0;34m\u001b[0m\u001b[0m\n\u001b[1;32m    492\u001b[0m             \u001b[0;31m# Encoding\u001b[0m\u001b[0;34m\u001b[0m\u001b[0;34m\u001b[0m\u001b[0;34m\u001b[0m\u001b[0m\n\u001b[0;32m--> 493\u001b[0;31m             \u001b[0mf\u001b[0m \u001b[0;34m=\u001b[0m \u001b[0mopen\u001b[0m\u001b[0;34m(\u001b[0m\u001b[0mpath_or_buf\u001b[0m\u001b[0;34m,\u001b[0m \u001b[0mmode\u001b[0m\u001b[0;34m,\u001b[0m \u001b[0mencoding\u001b[0m\u001b[0;34m=\u001b[0m\u001b[0mencoding\u001b[0m\u001b[0;34m,\u001b[0m \u001b[0merrors\u001b[0m\u001b[0;34m=\u001b[0m\u001b[0merrors\u001b[0m\u001b[0;34m,\u001b[0m \u001b[0mnewline\u001b[0m\u001b[0;34m=\u001b[0m\u001b[0;34m\"\"\u001b[0m\u001b[0;34m)\u001b[0m\u001b[0;34m\u001b[0m\u001b[0;34m\u001b[0m\u001b[0m\n\u001b[0m\u001b[1;32m    494\u001b[0m         \u001b[0;32melif\u001b[0m \u001b[0mis_text\u001b[0m\u001b[0;34m:\u001b[0m\u001b[0;34m\u001b[0m\u001b[0;34m\u001b[0m\u001b[0m\n\u001b[1;32m    495\u001b[0m             \u001b[0;31m# No explicit encoding\u001b[0m\u001b[0;34m\u001b[0m\u001b[0;34m\u001b[0m\u001b[0;34m\u001b[0m\u001b[0m\n",
      "\u001b[0;31mFileNotFoundError\u001b[0m: [Errno 2] No such file or directory: '../assets/Fig_3e_source.csv'"
     ]
    }
   ],
   "source": [
    "df_csv = pd.DataFrame({'consensus_lbl':df_label_list_E_gmm[0]['sil']['mean'].values,\n",
    "                       'reference_lbl':df_label_list_E_tax[0]['sil']['mean'].values,\n",
    "                       'reference_lbl_unc':df_label_list_E_tax_unc[0]['sil']['mean'].values})\n",
    "df_csv.to_csv('../assets/Fig_3e_source.csv',index=True)\n",
    "\n",
    "df_csv = pd.DataFrame({'consensus_lbl':df_label_list_T_gmm[0]['sil']['mean'].values,\n",
    "                       'reference_lbl':df_label_list_T_tax[0]['sil']['mean'].values,\n",
    "                       'reference_lbl_unc':df_label_list_T_tax_unc[0]['sil']['mean'].values})\n",
    "df_csv.to_csv('../assets/Fig_3d_source.csv',index=True)"
   ]
  },
  {
   "cell_type": "code",
   "execution_count": 37,
   "metadata": {},
   "outputs": [],
   "source": [
    "import seaborn as sns\n",
    "sns.set()\n",
    "sns.set_style('ticks',{'axes.grid' : False}) \n",
    "%matplotlib inline"
   ]
  },
  {
   "cell_type": "code",
   "execution_count": 56,
   "metadata": {},
   "outputs": [
    {
     "data": {
      "image/png": "[encoded data removed]",
      "text/plain": [
       "<Figure size 216x432 with 1 Axes>"
      ]
     },
     "metadata": {
      "needs_background": "light"
     },
     "output_type": "display_data"
    }
   ],
   "source": [
    "fs = 15\n",
    "plt.figure(figsize=(3,6))\n",
    "col=['dodgerblue','firebrick','silver']\n",
    "plt.plot(df_label_list_E_gmm[0]['sil']['mean'].values, lw=2, color=col[0],label=r'consensus labels')\n",
    "#plt.plot(df_label_list_E_tax[0]['sil']['mean'].values,lw=2, color=col[1],label=r'ref. taxonomy (33)')\n",
    "plt.plot(df_label_list_E_tax_unc[0]['sil']['mean'].values, lw=2, color=col[2],label=r'ref. taxonomy (33)')\n",
    "\n",
    "\n",
    "ax = plt.gca()\n",
    "ax.set_title(r'$z_e$',fontsize=fs)\n",
    "ax.set_xlabel('Sorted labels',fontsize=fs)\n",
    "#ax.set_ylabel('Avgerage silhouette score per label',fontsize=fs)\n",
    "ax.set_ylabel(' ',fontsize=fs)\n",
    "#ax.set_ylabel('Avgerage silhouette score per label',fontsize=fs,rotation=-90)\n",
    "#ax.yaxis.set_label_position(\"right\")\n",
    "#ax.yaxis.tick_right()\n",
    "ax.set_ylim(-1,1)\n",
    "ax.set_yticks([-1,0,1])\n",
    "ax.set_xticks([0,15,30])\n",
    "#ax.set_yticklabels([' ',' ',' '])\n",
    "plt.setp(ax.get_xticklabels(), fontsize=fs)\n",
    "plt.setp(ax.get_yticklabels(), fontsize=fs)\n",
    "#plt.legend(fontsize=12,frameon=False)\n",
    "plt.tight_layout()\n",
    "#plt.savefig(fig_path+f'gmm_labels_vs_taxonomy33_ze.png',dpi=300)\n",
    "#plt.savefig(fig_path+f'Fig_3e.pdf')\n",
    "plt.savefig(fig_path+f'Fig_ED_8c.pdf')\n",
    "plt.show()"
   ]
  },
  {
   "cell_type": "code",
   "execution_count": 53,
   "metadata": {},
   "outputs": [
    {
     "name": "stdout",
     "output_type": "stream",
     "text": [
      "Consensus    0.23 + 0.27\n",
      "Taxonomy 33   0.02 + 0.33\n"
     ]
    },
    {
     "data": {
      "image/png": "[encoded data removed]",
      "text/plain": [
       "<Figure size 216x432 with 1 Axes>"
      ]
     },
     "metadata": {
      "needs_background": "light"
     },
     "output_type": "display_data"
    }
   ],
   "source": [
    "plt.figure(figsize=(3,6))\n",
    "\n",
    "plt.plot(df_label_list_T_gmm[0]['sil']['mean'].values,  lw=2,  color=col[0],label=r'consensus labels'+'\\n'+ r'$\\lambda_{te}=1.0$')\n",
    "#plt.plot(df_label_list_T_tax[0]['sil']['mean'].values,  lw=2,  color=col[1],label=r'ref. taxonomy (33)')\n",
    "plt.plot(df_label_list_T_tax_unc[0]['sil']['mean'].values,  lw=2,  color=col[2],label=r'ref. taxonomy (33)'+'\\n'+ r'$\\lambda_{te}=0.0$')\n",
    "\n",
    "x = np.mean(df_label_list_T_gmm[0][\"sil\"][\"mean\"].values)\n",
    "y = np.std(df_label_list_T_gmm[0][\"sil\"][\"mean\"].values)\n",
    "print(f'Consensus    {x:0.2f} + {y:0.2f}')\n",
    "x=np.mean(df_label_list_T_tax[0]['sil']['mean'].values)\n",
    "y=np.std(df_label_list_T_tax[0]['sil']['mean'].values)\n",
    "print(f'Taxonomy 33   {x:0.2f} + {y:0.2f}')\n",
    "\n",
    "\n",
    "ax = plt.gca()\n",
    "ax.set_title(r'$z_t$',fontsize=fs)\n",
    "ax.set_xlabel('Sorted labels',fontsize=fs)\n",
    "#ax.set_ylabel('Avgerage silhouette score per label',fontsize=fs,rotation=-90)\n",
    "# ax.yaxis.set_label_position(\"right\")\n",
    "# ax.yaxis.tick_right()\n",
    "ax.set_ylabel('Avgerage silhouette score per label',fontsize=fs)\n",
    "ax.set_ylim(-1,1)\n",
    "ax.set_yticks([-1,0,1])\n",
    "ax.set_xticks([0,15,30])\n",
    "plt.setp(ax.get_xticklabels(), fontsize=fs)\n",
    "plt.setp(ax.get_yticklabels(), fontsize=fs)\n",
    "plt.tight_layout()\n",
    "#plt.savefig(fig_path+f'gmm_labels_vs_taxonomy33_zt.png',dpi=300)\n",
    "#plt.savefig(fig_path+f'Fig_3d.pdf')\n",
    "plt.legend(fontsize=10,frameon=False)\n",
    "plt.savefig(fig_path+f'Fig_ED_8b.pdf')\n",
    "plt.show()"
   ]
  },
  {
   "cell_type": "code",
   "execution_count": 12,
   "metadata": {},
   "outputs": [],
   "source": [
    "n_worst=10\n",
    "unreliable_clusters = np.intersect1d(df_label_list_T_gmm[0][0:n_worst]['lbl'].values,df_label_list_E_gmm[0][0:n_worst]['lbl'].values)"
   ]
  },
  {
   "cell_type": "code",
   "execution_count": 13,
   "metadata": {},
   "outputs": [
    {
     "data": {
      "text/html": [
       "<div>\n",
       "<style scoped>\n",
       "    .dataframe tbody tr th:only-of-type {\n",
       "        vertical-align: middle;\n",
       "    }\n",
       "\n",
       "    .dataframe tbody tr th {\n",
       "        vertical-align: top;\n",
       "    }\n",
       "\n",
       "    .dataframe thead tr th {\n",
       "        text-align: left;\n",
       "    }\n",
       "</style>\n",
       "<table border=\"1\" class=\"dataframe\">\n",
       "  <thead>\n",
       "    <tr>\n",
       "      <th></th>\n",
       "      <th>lbl</th>\n",
       "      <th colspan=\"2\" halign=\"left\">sil</th>\n",
       "    </tr>\n",
       "    <tr>\n",
       "      <th></th>\n",
       "      <th></th>\n",
       "      <th>mean</th>\n",
       "      <th>std</th>\n",
       "    </tr>\n",
       "  </thead>\n",
       "  <tbody>\n",
       "    <tr>\n",
       "      <th>0</th>\n",
       "      <td>1</td>\n",
       "      <td>-0.668872</td>\n",
       "      <td>0.154438</td>\n",
       "    </tr>\n",
       "    <tr>\n",
       "      <th>1</th>\n",
       "      <td>13</td>\n",
       "      <td>-0.347262</td>\n",
       "      <td>0.134515</td>\n",
       "    </tr>\n",
       "    <tr>\n",
       "      <th>2</th>\n",
       "      <td>9</td>\n",
       "      <td>-0.296254</td>\n",
       "      <td>0.112122</td>\n",
       "    </tr>\n",
       "    <tr>\n",
       "      <th>3</th>\n",
       "      <td>28</td>\n",
       "      <td>-0.253059</td>\n",
       "      <td>0.193271</td>\n",
       "    </tr>\n",
       "    <tr>\n",
       "      <th>4</th>\n",
       "      <td>7</td>\n",
       "      <td>-0.211839</td>\n",
       "      <td>0.200849</td>\n",
       "    </tr>\n",
       "    <tr>\n",
       "      <th>6</th>\n",
       "      <td>17</td>\n",
       "      <td>-0.092525</td>\n",
       "      <td>0.150189</td>\n",
       "    </tr>\n",
       "    <tr>\n",
       "      <th>9</th>\n",
       "      <td>24</td>\n",
       "      <td>0.001514</td>\n",
       "      <td>0.190524</td>\n",
       "    </tr>\n",
       "  </tbody>\n",
       "</table>\n",
       "</div>"
      ],
      "text/plain": [
       "  lbl       sil          \n",
       "           mean       std\n",
       "0   1 -0.668872  0.154438\n",
       "1  13 -0.347262  0.134515\n",
       "2   9 -0.296254  0.112122\n",
       "3  28 -0.253059  0.193271\n",
       "4   7 -0.211839  0.200849\n",
       "6  17 -0.092525  0.150189\n",
       "9  24  0.001514  0.190524"
      ]
     },
     "execution_count": 13,
     "metadata": {},
     "output_type": "execute_result"
    }
   ],
   "source": [
    "df_label_list_E_gmm[0][df_label_list_E_gmm[0]['lbl'].isin(unreliable_clusters)]"
   ]
  },
  {
   "cell_type": "code",
   "execution_count": 14,
   "metadata": {},
   "outputs": [
    {
     "data": {
      "text/html": [
       "<div>\n",
       "<style scoped>\n",
       "    .dataframe tbody tr th:only-of-type {\n",
       "        vertical-align: middle;\n",
       "    }\n",
       "\n",
       "    .dataframe tbody tr th {\n",
       "        vertical-align: top;\n",
       "    }\n",
       "\n",
       "    .dataframe thead tr th {\n",
       "        text-align: left;\n",
       "    }\n",
       "</style>\n",
       "<table border=\"1\" class=\"dataframe\">\n",
       "  <thead>\n",
       "    <tr>\n",
       "      <th></th>\n",
       "      <th>lbl</th>\n",
       "      <th colspan=\"2\" halign=\"left\">sil</th>\n",
       "    </tr>\n",
       "    <tr>\n",
       "      <th></th>\n",
       "      <th></th>\n",
       "      <th>mean</th>\n",
       "      <th>std</th>\n",
       "    </tr>\n",
       "  </thead>\n",
       "  <tbody>\n",
       "    <tr>\n",
       "      <th>0</th>\n",
       "      <td>1</td>\n",
       "      <td>-0.433628</td>\n",
       "      <td>0.335519</td>\n",
       "    </tr>\n",
       "    <tr>\n",
       "      <th>1</th>\n",
       "      <td>7</td>\n",
       "      <td>-0.304104</td>\n",
       "      <td>0.206137</td>\n",
       "    </tr>\n",
       "    <tr>\n",
       "      <th>2</th>\n",
       "      <td>9</td>\n",
       "      <td>-0.270276</td>\n",
       "      <td>0.086487</td>\n",
       "    </tr>\n",
       "    <tr>\n",
       "      <th>3</th>\n",
       "      <td>13</td>\n",
       "      <td>-0.260740</td>\n",
       "      <td>0.212850</td>\n",
       "    </tr>\n",
       "    <tr>\n",
       "      <th>4</th>\n",
       "      <td>28</td>\n",
       "      <td>-0.181354</td>\n",
       "      <td>0.198278</td>\n",
       "    </tr>\n",
       "    <tr>\n",
       "      <th>6</th>\n",
       "      <td>17</td>\n",
       "      <td>0.013605</td>\n",
       "      <td>0.284825</td>\n",
       "    </tr>\n",
       "    <tr>\n",
       "      <th>9</th>\n",
       "      <td>24</td>\n",
       "      <td>0.141834</td>\n",
       "      <td>0.236050</td>\n",
       "    </tr>\n",
       "  </tbody>\n",
       "</table>\n",
       "</div>"
      ],
      "text/plain": [
       "  lbl       sil          \n",
       "           mean       std\n",
       "0   1 -0.433628  0.335519\n",
       "1   7 -0.304104  0.206137\n",
       "2   9 -0.270276  0.086487\n",
       "3  13 -0.260740  0.212850\n",
       "4  28 -0.181354  0.198278\n",
       "6  17  0.013605  0.284825\n",
       "9  24  0.141834  0.236050"
      ]
     },
     "execution_count": 14,
     "metadata": {},
     "output_type": "execute_result"
    }
   ],
   "source": [
    "df_label_list_T_gmm[0][df_label_list_T_gmm[0]['lbl'].isin(unreliable_clusters)]"
   ]
  },
  {
   "cell_type": "code",
   "execution_count": null,
   "metadata": {},
   "outputs": [],
   "source": []
  }
 ],
 "metadata": {
  "kernelspec": {
   "display_name": "Python 3",
   "language": "python",
   "name": "python3"
  },
  "language_info": {
   "codemirror_mode": {
    "name": "ipython",
    "version": 3
   },
   "file_extension": ".py",
   "mimetype": "text/x-python",
   "name": "python",
   "nbconvert_exporter": "python",
   "pygments_lexer": "ipython3",
   "version": "3.7.9-final"
  }
 },
 "nbformat": 4,
 "nbformat_minor": 4
}