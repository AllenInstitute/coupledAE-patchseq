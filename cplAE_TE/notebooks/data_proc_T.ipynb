{
 "cells": [
  {
   "source": [
    " ### Pre-processing and curation of T data\n",
    " - Updated dataset to match cells used in Gouwens et al. 2020"
   ],
   "cell_type": "markdown",
   "metadata": {}
  },
  {
   "cell_type": "code",
   "execution_count": 1,
   "metadata": {},
   "outputs": [],
   "source": [
    "import feather\n",
    "import numpy as np\n",
    "import pandas as pd\n",
    "import scipy.io as sio\n",
    "from cplAE_TE.utils.load_helpers import get_paths, load_dataset, load_summary_files\n",
    "\n",
    "beta_threshold = 0.4\n",
    "\n",
    "def set_raw_data_paths():\n",
    "    pth={}\n",
    "    base_path = '/Users/fruity/Dropbox/AllenInstitute/CellTypes/dat/raw/patchseq-inh/'\n",
    "    pth['T_dat'] = base_path + 'data.feather'\n",
    "    pth['T_ann'] = base_path + 'anno.feather'\n",
    "    pth['gene_set'] = base_path + 'good_genes_beta_score.csv'\n",
    "    pth['specimen_ids'] = base_path + 'specimen_ids.txt'\n",
    "    pth['color_ref'] = base_path + 'color_ref.csv'    \n",
    "    return pth"
   ]
  },
  {
   "cell_type": "code",
   "execution_count": 2,
   "metadata": {},
   "outputs": [],
   "source": [
    "pth = set_raw_data_paths()\n",
    "T_dat = feather.read_dataframe(pth['T_dat'])\n",
    "T_ann = feather.read_dataframe(pth['T_ann'])"
   ]
  },
  {
   "cell_type": "code",
   "execution_count": 3,
   "metadata": {},
   "outputs": [],
   "source": [
    "#Keep samples that were published in Gouwens et al. 2020\n",
    "ids = pd.read_csv(pth['specimen_ids'],header=None)\n",
    "ids.rename(columns = {0:'specimen_id'}, inplace = True) \n",
    "\n",
    "T_ann = T_ann.loc[T_ann['spec_id_label'].astype(np.int64).isin(ids['specimen_id'])]\n",
    "T_ann = T_ann[['spec_id_label',\n",
    "               'sample_id',\n",
    "               'topLeaf_id',\n",
    "               'topLeaf_label',\n",
    "               'topLeaf_color','Tree_call_label']].reset_index(drop=True)"
   ]
  },
  {
   "cell_type": "code",
   "execution_count": 4,
   "metadata": {},
   "outputs": [
    {
     "output_type": "execute_result",
     "data": {
      "text/plain": [
       "  mapping_confidence Tree_call_label\n",
       "0  highly_consistent            Core\n",
       "1  highly_consistent              I1\n",
       "2       inconsistent           PoorQ\n",
       "3     mod_consistent              I2\n",
       "4     mod_consistent              I3"
      ],
      "text/html": "<div>\n<style scoped>\n    .dataframe tbody tr th:only-of-type {\n        vertical-align: middle;\n    }\n\n    .dataframe tbody tr th {\n        vertical-align: top;\n    }\n\n    .dataframe thead th {\n        text-align: right;\n    }\n</style>\n<table border=\"1\" class=\"dataframe\">\n  <thead>\n    <tr style=\"text-align: right;\">\n      <th></th>\n      <th>mapping_confidence</th>\n      <th>Tree_call_label</th>\n    </tr>\n  </thead>\n  <tbody>\n    <tr>\n      <th>0</th>\n      <td>highly_consistent</td>\n      <td>Core</td>\n    </tr>\n    <tr>\n      <th>1</th>\n      <td>highly_consistent</td>\n      <td>I1</td>\n    </tr>\n    <tr>\n      <th>2</th>\n      <td>inconsistent</td>\n      <td>PoorQ</td>\n    </tr>\n    <tr>\n      <th>3</th>\n      <td>mod_consistent</td>\n      <td>I2</td>\n    </tr>\n    <tr>\n      <th>4</th>\n      <td>mod_consistent</td>\n      <td>I3</td>\n    </tr>\n  </tbody>\n</table>\n</div>"
     },
     "metadata": {},
     "execution_count": 4
    }
   ],
   "source": [
    "# match the mapping confidence labels with data published in Gouwens et al. 2020\n",
    "condlist = [np.logical_or(T_ann['Tree_call_label']=='Core',T_ann['Tree_call_label']=='I1'),\n",
    "            np.logical_or(T_ann['Tree_call_label']=='I2',T_ann['Tree_call_label']=='I3'),\n",
    "            T_ann['Tree_call_label']=='PoorQ']\n",
    "\n",
    "choicelist  = ['highly_consistent',\n",
    "               'mod_consistent',\n",
    "               'inconsistent']\n",
    "\n",
    "T_ann['mapping_confidence'] = np.select(condlist, choicelist, default='highly consistent')\n",
    "\n",
    "T_ann = T_ann.rename(columns={'topLeaf_id':'cluster_id',\n",
    "                      'topLeaf_color':'cluster_color',\n",
    "                      'topLeaf_label':'cluster'})\n",
    "\n",
    "# show the resulting mapping\n",
    "T_ann[['mapping_confidence','Tree_call_label']].drop_duplicates().sort_values(by='mapping_confidence').reset_index(drop=True)"
   ]
  },
  {
   "cell_type": "code",
   "execution_count": 5,
   "metadata": {},
   "outputs": [
    {
     "output_type": "execute_result",
     "data": {
      "text/plain": [
       "                   mapping_confidence\n",
       "highly_consistent                2954\n",
       "mod_consistent                    900\n",
       "inconsistent                      415"
      ],
      "text/html": "<div>\n<style scoped>\n    .dataframe tbody tr th:only-of-type {\n        vertical-align: middle;\n    }\n\n    .dataframe tbody tr th {\n        vertical-align: top;\n    }\n\n    .dataframe thead th {\n        text-align: right;\n    }\n</style>\n<table border=\"1\" class=\"dataframe\">\n  <thead>\n    <tr style=\"text-align: right;\">\n      <th></th>\n      <th>mapping_confidence</th>\n    </tr>\n  </thead>\n  <tbody>\n    <tr>\n      <th>highly_consistent</th>\n      <td>2954</td>\n    </tr>\n    <tr>\n      <th>mod_consistent</th>\n      <td>900</td>\n    </tr>\n    <tr>\n      <th>inconsistent</th>\n      <td>415</td>\n    </tr>\n  </tbody>\n</table>\n</div>"
     },
     "metadata": {},
     "execution_count": 5
    }
   ],
   "source": [
    "#These numbers match 2020 Gouwens et al. numbers in Fig. S1 G. \n",
    "T_ann['mapping_confidence'].value_counts().to_frame()"
   ]
  },
  {
   "cell_type": "markdown",
   "metadata": {},
   "source": [
    " - Drop cells that are mapped inconsistently to leaf nodes\n",
    " - Drop cell types with less than at least `10` samples"
   ]
  },
  {
   "cell_type": "code",
   "execution_count": 6,
   "metadata": {},
   "outputs": [],
   "source": [
    "#Remove 'inconsistent' cells\n",
    "T_ann = T_ann[T_ann['mapping_confidence'] != 'inconsistent'].reset_index(drop=True)"
   ]
  },
  {
   "cell_type": "code",
   "execution_count": 7,
   "metadata": {},
   "outputs": [],
   "source": [
    "#Keep cells that have at least 10 samples\n",
    "keep_types = T_ann['cluster'].value_counts()>=10\n",
    "keep_types = keep_types.index[keep_types].values\n",
    "T_ann = T_ann.loc[T_ann['cluster'].isin(keep_types)]"
   ]
  },
  {
   "cell_type": "code",
   "execution_count": 8,
   "metadata": {},
   "outputs": [],
   "source": [
    "#Update colors for different labels\n",
    "ref_df = pd.read_csv(pth['color_ref'])\n",
    "ref_df = ref_df[['cluster_label','cluster_color','dendcluster_id']]\n",
    "ref_df.rename(columns={'cluster_label':'cluster','dendcluster_id':'cluster_id'},inplace=True)\n",
    "\n",
    "#Update annotation dataframe\n",
    "T_ann = T_ann.merge(right=ref_df,how='left',left_on='cluster',right_on='cluster',suffixes=('_old',''))\n",
    "T_ann = T_ann[['spec_id_label','sample_id','cluster','cluster_color','cluster_id','mapping_confidence',]]\n",
    "\n",
    "#Get ordered cluster id for well sampled cells\n",
    "old_id = np.sort(np.unique(T_ann['cluster_id'].values))\n",
    "new_id = np.arange(old_id.size)\n",
    "ref_df = pd.DataFrame({'cluster_id':new_id,'old_id':old_id})\n",
    "\n",
    "#Update annotation dataframe\n",
    "T_ann = T_ann.merge(right=ref_df,how='left',left_on='cluster_id',right_on='old_id',suffixes=('_old',''))\n",
    "T_ann = T_ann[['spec_id_label','sample_id','cluster','cluster_color','cluster_id','mapping_confidence',]]"
   ]
  },
  {
   "cell_type": "code",
   "execution_count": 9,
   "metadata": {},
   "outputs": [],
   "source": [
    "#Sort dataset by cell type to make annotation file easier to human-read\n",
    "T_ann = T_ann.sort_values('cluster_id', axis=0)\n",
    "T_ann = T_ann.reset_index(drop=True)"
   ]
  },
  {
   "cell_type": "code",
   "execution_count": 10,
   "metadata": {},
   "outputs": [
    {
     "output_type": "execute_result",
     "data": {
      "text/plain": [
       "                     index  new_count  old_count  diff\n",
       "0         Sst Calb2 Pdlim5        260        237    23\n",
       "1         Pvalb Reln Itm2a        224        203    21\n",
       "2           Sst Hpse Cbln4        221        199    22\n",
       "3               Lamp5 Lsp1        175        158    17\n",
       "4               Pvalb Tpbg        167        148    19\n",
       "5       Pvalb Sema3e Kank4        166        152    14\n",
       "6          Sst Rxfp1 Prdm8        141        136     5\n",
       "7        Lamp5 Plch2 Dock5        138        130     8\n",
       "8                 Sst Esm1        131        112    19\n",
       "9           Vip Ptprt Pkp2        123        114     9\n",
       "10               Sst Chodl        121        110    11\n",
       "11          Sncg Vip Itih5        120         83    37\n",
       "12        Sst Crhr2 Efemp1        109        119   -10\n",
       "13        Sst Tac2 Tacstd2        107        112    -5\n",
       "14      Vip Crispld2 Kcne4         98         93     5\n",
       "15          Sst Rxfp1 Eya1         93         87     6\n",
       "16          Vip Pygm C1ql1         87         80     7\n",
       "17           Vip Lmo1 Myl1         80         76     4\n",
       "18      Pvalb Akr1c18 Ntf3         63         50    13\n",
       "19          Vip Chat Htr1f         62         59     3\n",
       "20          Sst Tac1 Htr1d         61         63    -2\n",
       "21        Lamp5 Ntn1 Npy2r         59         62    -3\n",
       "22         Sst Hpse Sema3c         57         49     8\n",
       "23          Sst Myh8 Etv1          57         43    14\n",
       "24        Sst Calb2 Necab1         53         42    11\n",
       "25        Sst Mme Fam114a1         49         39    10\n",
       "26       Vip Col15a1 Pde1a         49         32    17\n",
       "27            Pvalb Th Sst         47         40     7\n",
       "28              Sncg Gpr50         42         18    24\n",
       "29         Pvalb Reln Tac1         42         33     9\n",
       "30            Pvalb Gabrg1         41         37     4\n",
       "31  Sst Crh 4930553C11Rik          41         28    13\n",
       "32      Vip Crispld2 Htr2c         40         39     1\n",
       "33                 Sst Nts         38         36     2\n",
       "34          Sncg Vip Nptx2         38         24    14\n",
       "35        Sst Nr2f2 Necab1         36         27     9\n",
       "36      Vip Arhgap36 Hmcn1         35         32     3\n",
       "37          Sst Tac1 Tacr3         33         14    19\n",
       "38    Vip Rspo4 Rxfp1 Chat         32         28     4\n",
       "39        Vip Lmo1 Fam159b         31         26     5\n",
       "40          Vip Lect1 Oxtr         29         23     6\n",
       "41         Pvalb Calb1 Sst         26         21     5\n",
       "42           Sst Tac2 Myh4         23         12    11\n",
       "43             Pvalb Vipr2         22         17     5\n",
       "44       Pvalb Gpr149 Islr         22         21     1\n",
       "45        Vip Gpc3 Slc18a3         19         17     2\n",
       "46   Lamp5 Fam19a1 Tmem182         19         14     5\n",
       "47        Sst Chrna2 Glra3         19         16     3\n",
       "48      Vip Igfbp4 Mab21l1         16         22    -6\n",
       "49       Serpinf1 Aqp5 Vip         16         14     2\n",
       "50              Lamp5 Lhx6         15         15     0\n",
       "51          Sst Myh8 Fibin         14         13     1\n",
       "52            Sncg Slc17a8         12          4     8\n",
       "53        Sst Chrna2 Ptgdr          0         11   -11\n",
       "54         Vip Rspo1 Itga4          0          9    -9\n",
       "55        Vip Igfbp6 Car10          0          5    -5\n",
       "56      Lamp5 Fam19a1 Pax6          0          5    -5\n",
       "57             Lamp5 Krt73          0          1    -1\n",
       "58          Serpinf1 Clrn1          0          1    -1"
      ],
      "text/html": "<div>\n<style scoped>\n    .dataframe tbody tr th:only-of-type {\n        vertical-align: middle;\n    }\n\n    .dataframe tbody tr th {\n        vertical-align: top;\n    }\n\n    .dataframe thead th {\n        text-align: right;\n    }\n</style>\n<table border=\"1\" class=\"dataframe\">\n  <thead>\n    <tr style=\"text-align: right;\">\n      <th></th>\n      <th>index</th>\n      <th>new_count</th>\n      <th>old_count</th>\n      <th>diff</th>\n    </tr>\n  </thead>\n  <tbody>\n    <tr>\n      <th>0</th>\n      <td>Sst Calb2 Pdlim5</td>\n      <td>260</td>\n      <td>237</td>\n      <td>23</td>\n    </tr>\n    <tr>\n      <th>1</th>\n      <td>Pvalb Reln Itm2a</td>\n      <td>224</td>\n      <td>203</td>\n      <td>21</td>\n    </tr>\n    <tr>\n      <th>2</th>\n      <td>Sst Hpse Cbln4</td>\n      <td>221</td>\n      <td>199</td>\n      <td>22</td>\n    </tr>\n    <tr>\n      <th>3</th>\n      <td>Lamp5 Lsp1</td>\n      <td>175</td>\n      <td>158</td>\n      <td>17</td>\n    </tr>\n    <tr>\n      <th>4</th>\n      <td>Pvalb Tpbg</td>\n      <td>167</td>\n      <td>148</td>\n      <td>19</td>\n    </tr>\n    <tr>\n      <th>5</th>\n      <td>Pvalb Sema3e Kank4</td>\n      <td>166</td>\n      <td>152</td>\n      <td>14</td>\n    </tr>\n    <tr>\n      <th>6</th>\n      <td>Sst Rxfp1 Prdm8</td>\n      <td>141</td>\n      <td>136</td>\n      <td>5</td>\n    </tr>\n    <tr>\n      <th>7</th>\n      <td>Lamp5 Plch2 Dock5</td>\n      <td>138</td>\n      <td>130</td>\n      <td>8</td>\n    </tr>\n    <tr>\n      <th>8</th>\n      <td>Sst Esm1</td>\n      <td>131</td>\n      <td>112</td>\n      <td>19</td>\n    </tr>\n    <tr>\n      <th>9</th>\n      <td>Vip Ptprt Pkp2</td>\n      <td>123</td>\n      <td>114</td>\n      <td>9</td>\n    </tr>\n    <tr>\n      <th>10</th>\n      <td>Sst Chodl</td>\n      <td>121</td>\n      <td>110</td>\n      <td>11</td>\n    </tr>\n    <tr>\n      <th>11</th>\n      <td>Sncg Vip Itih5</td>\n      <td>120</td>\n      <td>83</td>\n      <td>37</td>\n    </tr>\n    <tr>\n      <th>12</th>\n      <td>Sst Crhr2 Efemp1</td>\n      <td>109</td>\n      <td>119</td>\n      <td>-10</td>\n    </tr>\n    <tr>\n      <th>13</th>\n      <td>Sst Tac2 Tacstd2</td>\n      <td>107</td>\n      <td>112</td>\n      <td>-5</td>\n    </tr>\n    <tr>\n      <th>14</th>\n      <td>Vip Crispld2 Kcne4</td>\n      <td>98</td>\n      <td>93</td>\n      <td>5</td>\n    </tr>\n    <tr>\n      <th>15</th>\n      <td>Sst Rxfp1 Eya1</td>\n      <td>93</td>\n      <td>87</td>\n      <td>6</td>\n    </tr>\n    <tr>\n      <th>16</th>\n      <td>Vip Pygm C1ql1</td>\n      <td>87</td>\n      <td>80</td>\n      <td>7</td>\n    </tr>\n    <tr>\n      <th>17</th>\n      <td>Vip Lmo1 Myl1</td>\n      <td>80</td>\n      <td>76</td>\n      <td>4</td>\n    </tr>\n    <tr>\n      <th>18</th>\n      <td>Pvalb Akr1c18 Ntf3</td>\n      <td>63</td>\n      <td>50</td>\n      <td>13</td>\n    </tr>\n    <tr>\n      <th>19</th>\n      <td>Vip Chat Htr1f</td>\n      <td>62</td>\n      <td>59</td>\n      <td>3</td>\n    </tr>\n    <tr>\n      <th>20</th>\n      <td>Sst Tac1 Htr1d</td>\n      <td>61</td>\n      <td>63</td>\n      <td>-2</td>\n    </tr>\n    <tr>\n      <th>21</th>\n      <td>Lamp5 Ntn1 Npy2r</td>\n      <td>59</td>\n      <td>62</td>\n      <td>-3</td>\n    </tr>\n    <tr>\n      <th>22</th>\n      <td>Sst Hpse Sema3c</td>\n      <td>57</td>\n      <td>49</td>\n      <td>8</td>\n    </tr>\n    <tr>\n      <th>23</th>\n      <td>Sst Myh8 Etv1</td>\n      <td>57</td>\n      <td>43</td>\n      <td>14</td>\n    </tr>\n    <tr>\n      <th>24</th>\n      <td>Sst Calb2 Necab1</td>\n      <td>53</td>\n      <td>42</td>\n      <td>11</td>\n    </tr>\n    <tr>\n      <th>25</th>\n      <td>Sst Mme Fam114a1</td>\n      <td>49</td>\n      <td>39</td>\n      <td>10</td>\n    </tr>\n    <tr>\n      <th>26</th>\n      <td>Vip Col15a1 Pde1a</td>\n      <td>49</td>\n      <td>32</td>\n      <td>17</td>\n    </tr>\n    <tr>\n      <th>27</th>\n      <td>Pvalb Th Sst</td>\n      <td>47</td>\n      <td>40</td>\n      <td>7</td>\n    </tr>\n    <tr>\n      <th>28</th>\n      <td>Sncg Gpr50</td>\n      <td>42</td>\n      <td>18</td>\n      <td>24</td>\n    </tr>\n    <tr>\n      <th>29</th>\n      <td>Pvalb Reln Tac1</td>\n      <td>42</td>\n      <td>33</td>\n      <td>9</td>\n    </tr>\n    <tr>\n      <th>30</th>\n      <td>Pvalb Gabrg1</td>\n      <td>41</td>\n      <td>37</td>\n      <td>4</td>\n    </tr>\n    <tr>\n      <th>31</th>\n      <td>Sst Crh 4930553C11Rik</td>\n      <td>41</td>\n      <td>28</td>\n      <td>13</td>\n    </tr>\n    <tr>\n      <th>32</th>\n      <td>Vip Crispld2 Htr2c</td>\n      <td>40</td>\n      <td>39</td>\n      <td>1</td>\n    </tr>\n    <tr>\n      <th>33</th>\n      <td>Sst Nts</td>\n      <td>38</td>\n      <td>36</td>\n      <td>2</td>\n    </tr>\n    <tr>\n      <th>34</th>\n      <td>Sncg Vip Nptx2</td>\n      <td>38</td>\n      <td>24</td>\n      <td>14</td>\n    </tr>\n    <tr>\n      <th>35</th>\n      <td>Sst Nr2f2 Necab1</td>\n      <td>36</td>\n      <td>27</td>\n      <td>9</td>\n    </tr>\n    <tr>\n      <th>36</th>\n      <td>Vip Arhgap36 Hmcn1</td>\n      <td>35</td>\n      <td>32</td>\n      <td>3</td>\n    </tr>\n    <tr>\n      <th>37</th>\n      <td>Sst Tac1 Tacr3</td>\n      <td>33</td>\n      <td>14</td>\n      <td>19</td>\n    </tr>\n    <tr>\n      <th>38</th>\n      <td>Vip Rspo4 Rxfp1 Chat</td>\n      <td>32</td>\n      <td>28</td>\n      <td>4</td>\n    </tr>\n    <tr>\n      <th>39</th>\n      <td>Vip Lmo1 Fam159b</td>\n      <td>31</td>\n      <td>26</td>\n      <td>5</td>\n    </tr>\n    <tr>\n      <th>40</th>\n      <td>Vip Lect1 Oxtr</td>\n      <td>29</td>\n      <td>23</td>\n      <td>6</td>\n    </tr>\n    <tr>\n      <th>41</th>\n      <td>Pvalb Calb1 Sst</td>\n      <td>26</td>\n      <td>21</td>\n      <td>5</td>\n    </tr>\n    <tr>\n      <th>42</th>\n      <td>Sst Tac2 Myh4</td>\n      <td>23</td>\n      <td>12</td>\n      <td>11</td>\n    </tr>\n    <tr>\n      <th>43</th>\n      <td>Pvalb Vipr2</td>\n      <td>22</td>\n      <td>17</td>\n      <td>5</td>\n    </tr>\n    <tr>\n      <th>44</th>\n      <td>Pvalb Gpr149 Islr</td>\n      <td>22</td>\n      <td>21</td>\n      <td>1</td>\n    </tr>\n    <tr>\n      <th>45</th>\n      <td>Vip Gpc3 Slc18a3</td>\n      <td>19</td>\n      <td>17</td>\n      <td>2</td>\n    </tr>\n    <tr>\n      <th>46</th>\n      <td>Lamp5 Fam19a1 Tmem182</td>\n      <td>19</td>\n      <td>14</td>\n      <td>5</td>\n    </tr>\n    <tr>\n      <th>47</th>\n      <td>Sst Chrna2 Glra3</td>\n      <td>19</td>\n      <td>16</td>\n      <td>3</td>\n    </tr>\n    <tr>\n      <th>48</th>\n      <td>Vip Igfbp4 Mab21l1</td>\n      <td>16</td>\n      <td>22</td>\n      <td>-6</td>\n    </tr>\n    <tr>\n      <th>49</th>\n      <td>Serpinf1 Aqp5 Vip</td>\n      <td>16</td>\n      <td>14</td>\n      <td>2</td>\n    </tr>\n    <tr>\n      <th>50</th>\n      <td>Lamp5 Lhx6</td>\n      <td>15</td>\n      <td>15</td>\n      <td>0</td>\n    </tr>\n    <tr>\n      <th>51</th>\n      <td>Sst Myh8 Fibin</td>\n      <td>14</td>\n      <td>13</td>\n      <td>1</td>\n    </tr>\n    <tr>\n      <th>52</th>\n      <td>Sncg Slc17a8</td>\n      <td>12</td>\n      <td>4</td>\n      <td>8</td>\n    </tr>\n    <tr>\n      <th>53</th>\n      <td>Sst Chrna2 Ptgdr</td>\n      <td>0</td>\n      <td>11</td>\n      <td>-11</td>\n    </tr>\n    <tr>\n      <th>54</th>\n      <td>Vip Rspo1 Itga4</td>\n      <td>0</td>\n      <td>9</td>\n      <td>-9</td>\n    </tr>\n    <tr>\n      <th>55</th>\n      <td>Vip Igfbp6 Car10</td>\n      <td>0</td>\n      <td>5</td>\n      <td>-5</td>\n    </tr>\n    <tr>\n      <th>56</th>\n      <td>Lamp5 Fam19a1 Pax6</td>\n      <td>0</td>\n      <td>5</td>\n      <td>-5</td>\n    </tr>\n    <tr>\n      <th>57</th>\n      <td>Lamp5 Krt73</td>\n      <td>0</td>\n      <td>1</td>\n      <td>-1</td>\n    </tr>\n    <tr>\n      <th>58</th>\n      <td>Serpinf1 Clrn1</td>\n      <td>0</td>\n      <td>1</td>\n      <td>-1</td>\n    </tr>\n  </tbody>\n</table>\n</div>"
     },
     "metadata": {},
     "execution_count": 10
    }
   ],
   "source": [
    "#Compare with Gala et al. 2020 Bioarxiv dataset version\n",
    "import scipy.io as sio\n",
    "\n",
    "def comparison_check(T_ann):\n",
    "    \"\"\"Compare labels in this dataset with datasaet used in BioArxiv version,\n",
    "    \"\"\"\n",
    "    new_counts = T_ann['cluster'].value_counts().to_frame()\n",
    "    new_counts = new_counts.rename(columns={'cluster':'new_count'}).reset_index()\n",
    "\n",
    "    O = sio.loadmat('/Users/fruity/Dropbox/AllenInstitute/CellTypes/code/cplAE_patchseq_TE/data/proc/PS_v5_beta_0-4_pc_scaled_ipfx_eqTE.mat',squeeze_me=True)\n",
    "    old_counts = pd.DataFrame(dict((k, O[k]) for k in ('cluster','cluster_color')))\n",
    "    old_counts = old_counts['cluster'].value_counts().to_frame()\n",
    "    old_counts = old_counts.rename(columns={'cluster':'old_count'}).reset_index()\n",
    "\n",
    "    compare_df = new_counts.merge(old_counts,how='outer',left_on='index',right_on='index')\n",
    "    compare_df.fillna(value=0,inplace = True)\n",
    "    compare_df['diff'] = compare_df['new_count'] - compare_df['old_count']\n",
    "    compare_df = compare_df.astype({'new_count': 'int', 'old_count': 'int', 'diff':'int'})\n",
    "    return compare_df\n",
    "\n",
    "comparison_check(T_ann)"
   ]
  },
  {
   "cell_type": "code",
   "execution_count": 11,
   "metadata": {},
   "outputs": [],
   "source": [
    "keep_gene_id = pd.read_csv(pth['gene_set'])\n",
    "keep_gene_id = keep_gene_id[keep_gene_id.BetaScore>beta_threshold]['Gene'].to_list()\n",
    "\n",
    "#Restrict T data based on genes:\n",
    "keepcols = ['sample_id'] + keep_gene_id\n",
    "T_dat = T_dat[keepcols]"
   ]
  },
  {
   "cell_type": "code",
   "execution_count": 12,
   "metadata": {},
   "outputs": [],
   "source": [
    "#Restrict to samples in the annotation dataframe\n",
    "T_dat = T_dat[T_dat['sample_id'].isin(T_ann['sample_id'])]\n",
    "T_dat.set_index(keys='sample_id',inplace=True)\n",
    "T_dat = T_dat.reindex(labels=T_ann['sample_id'])\n",
    "T_dat.reset_index(drop=False,inplace=True)\n"
   ]
  },
  {
   "cell_type": "code",
   "execution_count": 13,
   "metadata": {},
   "outputs": [],
   "source": [
    "assert (T_ann['sample_id'].sort_index(axis=0) == T_dat['sample_id'].sort_index(axis=0)).all(), 'Order of annotation and data samples is different!'\n",
    "T_dat.to_csv('/Users/fruity/Dropbox/AllenInstitute/CellTypes/dat/proc/patchseq-inh/T_data.csv',index=False)\n",
    "T_ann.to_csv('/Users/fruity/Dropbox/AllenInstitute/CellTypes/dat/proc/patchseq-inh/T_annotations.csv',index=False)"
   ]
  }
 ],
 "metadata": {
  "kernelspec": {
   "name": "python380jvsc74a57bd04493257e2e548bf46436051dac2c15e7ef62df75bd50a245fb8168f4f154a254",
   "display_name": "Python 3.8.0 64-bit ('ncs': conda)"
  },
  "language_info": {
   "codemirror_mode": {
    "name": "ipython",
    "version": 3
   },
   "file_extension": ".py",
   "mimetype": "text/x-python",
   "name": "python",
   "nbconvert_exporter": "python",
   "pygments_lexer": "ipython3",
   "version": "3.8.0"
  }
 },
 "nbformat": 4,
 "nbformat_minor": 4
}