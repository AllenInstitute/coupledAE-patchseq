{
 "cells": [
  {
   "cell_type": "code",
   "execution_count": 1,
   "metadata": {},
   "outputs": [
    {
     "name": "stdout",
     "output_type": "stream",
     "text": [
      "load orig data took 281.39ms\n",
      "load folds took 16.123sec\n"
     ]
    }
   ],
   "source": [
    "from utils.load import load_dataset, load_summary_files, taxonomy_assignments\n",
    "from refactor.utils.compute import silhouette_analysis\n",
    "from timebudget import timebudget\n",
    "\n",
    "fig_path = '/home/rohan/Dropbox/AllenInstitute/CellTypes/doc/Patchseq_NM_2020/'\n",
    "with timebudget('load orig data'):\n",
    "    O = load_dataset()\n",
    "    \n",
    "with timebudget('load folds'):    \n",
    "    folds_1 = load_summary_files(data_type='NM_cc',lambda_TE=1.0, aug=1, load_gmm=True, fold_list=np.arange(21))\n",
    "    folds_0 = load_summary_files(data_type='NM_cc',lambda_TE=0.0, aug=0, load_gmm=False)"
   ]
  },
  {
   "cell_type": "code",
   "execution_count": 2,
   "metadata": {},
   "outputs": [],
   "source": [
    "mse_E=[]\n",
    "mse_T=[]\n",
    "for i in folds_0.keys():\n",
    "    test_ind = folds_0[i]['test_ind']\n",
    "    mse_E.append(np.mean(((O['XE'][test_ind,:]-folds_0[i]['XrE'][test_ind,:])**2)))\n",
    "    mse_T.append(np.mean(((O['XT'][test_ind,:]-folds_0[i]['XrT'][test_ind,:])**2)))\n",
    "\n",
    "fold_id = np.array(list(folds_0.keys()))\n",
    "best_T_model_key = np.argsort(mse_T)\n",
    "best_T_model_key = fold_id[best_T_model_key]\n",
    "best_E_model_key = np.argsort(mse_E)\n",
    "best_E_model_key = fold_id[best_E_model_key]"
   ]
  },
  {
   "cell_type": "code",
   "execution_count": 3,
   "metadata": {},
   "outputs": [
    {
     "name": "stdout",
     "output_type": "stream",
     "text": [
      "[17 14  2 15 13]\n"
     ]
    }
   ],
   "source": [
    "mse_E=[]\n",
    "mse_T=[]\n",
    "for i in folds_0.keys():\n",
    "    test_ind = folds_1[i]['test_ind']\n",
    "    mse_E.append(np.mean(((O['XE'][test_ind,:]-folds_1[i]['XrE'][test_ind,:])**2)))\n",
    "    mse_T.append(np.mean(((O['XT'][test_ind,:]-folds_1[i]['XrT'][test_ind,:])**2)))\n",
    "\n",
    "fold_id = np.array(list(folds_1.keys()))\n",
    "best_TE_model_key = np.argsort(np.array(mse_T)+np.array(mse_E))\n",
    "best_TE_model_key = fold_id[best_TE_model_key]\n",
    "print(best_TE_model_key[:5])"
   ]
  },
  {
   "cell_type": "code",
   "execution_count": 4,
   "metadata": {},
   "outputs": [],
   "source": [
    "#Based on 95% test cells (calculated in denovo_clustering notebook):\n",
    "best_TE_model_key = np.array([11,17,1,14,10])"
   ]
  },
  {
   "cell_type": "markdown",
   "metadata": {},
   "source": [
    "#### QDA on best uncoupled representations to get 33 taxonomy labels"
   ]
  },
  {
   "cell_type": "code",
   "execution_count": 98,
   "metadata": {},
   "outputs": [],
   "source": [
    "from sklearn.metrics import adjusted_mutual_info_score as AMI\n",
    "from sklearn.discriminant_analysis import QuadraticDiscriminantAnalysis as QDA\n",
    "from refactor.utils.compute import contingency,contingency_metric\n",
    "\n",
    "n_best = 5\n",
    "factor = 1\n",
    "n_required_classes=33\n",
    "merged_labels,n_classes = taxonomy_assignments(O['cluster'].copy(),O=O.copy(),n_required_classes=n_required_classes, merge_on='well_sampled')\n",
    "\n",
    "ami_list_TE = []\n",
    "ami_list_TE_test = []\n",
    "\n",
    "ami_list_T_GT = []\n",
    "ami_list_T_GT_test = []\n",
    "\n",
    "consistency_TE = []\n",
    "consistency_TE_test = []\n",
    "\n",
    "\n",
    "#For transcriptomic representation:\n",
    "for k in range(n_best):\n",
    "    all_inds = O['well_sampled_ind'].copy()\n",
    "    test_inds = folds_0[best_E_model_key[k]]['well_sampled_test_ind'].copy()\n",
    "    train_inds = folds_0[best_E_model_key[k]]['well_sampled_train_ind'].copy()\n",
    "\n",
    "    zT = folds_0[best_T_model_key[k]]['zT']\n",
    "    zE = folds_0[best_E_model_key[k]]['zE']\n",
    "    \n",
    "    qda = QDA(reg_param=1e-2,store_covariance=True)\n",
    "\n",
    "    qda.fit(zE[train_inds,:],merged_labels[train_inds])\n",
    "    lbl_pred_E = qda.predict(zE)\n",
    "\n",
    "    qda.fit(zT[train_inds,:],merged_labels[train_inds])\n",
    "    lbl_pred_T = qda.predict(zT)\n",
    "    \n",
    "\n",
    "    ami_list_T_GT.append(AMI(lbl_pred_T[all_inds],merged_labels[all_inds]))\n",
    "    ami_list_T_GT_test.append(AMI(lbl_pred_T[test_inds],merged_labels[test_inds]))\n",
    "\n",
    "    ami_list_TE.append(AMI(lbl_pred_E[all_inds],lbl_pred_T[all_inds]))    \n",
    "    ami_list_TE_test.append(AMI(lbl_pred_E[test_inds],lbl_pred_T[test_inds]))\n",
    "\n",
    "    C_all = contingency(a=lbl_pred_E[all_inds].copy(), b=lbl_pred_T[all_inds].copy(), \n",
    "                    unique_a=np.unique(merged_labels).copy(), \n",
    "                    unique_b=np.unique(merged_labels).copy())\n",
    "    _, _, reliable_diag_frac, _, _, _ = contingency_metric(C_all,verbose=False,factor=factor)\n",
    "    consistency_TE.append(reliable_diag_frac)\n",
    "    \n",
    "    C = contingency(a=lbl_pred_E[test_inds].copy(), b=lbl_pred_T[test_inds].copy(), \n",
    "                    unique_a=np.unique(merged_labels).copy(), \n",
    "                    unique_b=np.unique(merged_labels).copy())\n",
    "    _, _, reliable_diag_frac, _, _, _ = contingency_metric(C,verbose=False,factor=factor)\n",
    "    consistency_TE_test.append(reliable_diag_frac)"
   ]
  },
  {
   "cell_type": "code",
   "execution_count": 99,
   "metadata": {},
   "outputs": [],
   "source": [
    "#from refactor.utils.plots import matrix_scatterplot\n",
    "#matrix_scatterplot(C_all,[],[],,scale_factor=2)"
   ]
  },
  {
   "cell_type": "code",
   "execution_count": 100,
   "metadata": {},
   "outputs": [
    {
     "name": "stdout",
     "output_type": "stream",
     "text": [
      "All T vs E consistency: 0.259 + 0.012\n",
      "Test T vs E consistency: 0.259 + 0.012\n"
     ]
    }
   ],
   "source": [
    "#print(f'All T vs GT AMI:  {np.mean(ami_list_T_GT):0.3f} + {np.std(ami_list_T_GT):0.3f}')\n",
    "#print(f'Test T vs GT AMI: {np.mean(ami_list_T_GT_test):0.3f} + {np.std(ami_list_T_GT_test):0.3f}')\n",
    "\n",
    "#print(f'All T vs E AMI:   {np.mean(ami_list_TE):0.3f} + {np.std(ami_list_TE):0.3f}')\n",
    "#print(f'Test T vs E AMI:  {np.mean(ami_list_TE_test):0.3f} + {np.std(ami_list_TE_test):0.3f}')\n",
    "\n",
    "print(f'All T vs E consistency: {np.mean(consistency_TE):0.3f} + {np.std(consistency_TE):0.3f}')\n",
    "print(f'Test T vs E consistency: {np.mean(consistency_TE_test):0.3f} + {np.std(consistency_TE_test):0.3f}')"
   ]
  },
  {
   "cell_type": "markdown",
   "metadata": {},
   "source": [
    "#### Do same for coupled autoencoder labels with coupled autoencoder labels"
   ]
  },
  {
   "cell_type": "code",
   "execution_count": 101,
   "metadata": {},
   "outputs": [
    {
     "name": "stdout",
     "output_type": "stream",
     "text": [
      "All T vs E consistency: 0.867 + 0.041\n",
      "Test T vs E consistency: 0.576 + 0.027\n"
     ]
    }
   ],
   "source": [
    "ami_list_TE_coupled = []\n",
    "consistency_list_TE_coupled = []\n",
    "\n",
    "ami_list_TE_coupled_test = []\n",
    "consistency_list_TE_coupled_test = []\n",
    "\n",
    "\n",
    "for k in range(n_best):\n",
    "    all_inds = O['well_sampled_ind'].copy()\n",
    "    test_inds = folds_1[best_TE_model_key[k]]['well_sampled_test_ind'].copy()\n",
    "    train_inds = folds_0[best_TE_model_key[k]]['well_sampled_train_ind'].copy()\n",
    "\n",
    "    labels_T = folds_1[best_TE_model_key[k]]['ccT_lbl_matched'][all_inds]\n",
    "    labels_E = folds_1[best_TE_model_key[k]]['ccE_lbl_matched'][all_inds]\n",
    "    \n",
    "    C = contingency(a=labels_T.copy(), b=labels_E.copy(), unique_a=np.arange(33), unique_b=np.arange(33))\n",
    "    _, _, reliable_diag_frac, _, _, _ = contingency_metric(C,verbose=False,factor=factor)\n",
    "    ami_list_TE_coupled.append(AMI(labels_T,labels_E))\n",
    "    consistency_list_TE_coupled.append(reliable_diag_frac)\n",
    "    \n",
    "    labels_T = folds_1[best_TE_model_key[k]]['ccT_lbl_matched'][test_inds]\n",
    "    labels_E = folds_1[best_TE_model_key[k]]['ccE_lbl_matched'][test_inds]\n",
    "    C = contingency(a=labels_T.copy(), b=labels_E.copy(), unique_a=np.arange(33), unique_b=np.arange(33))\n",
    "    _, _, reliable_diag_frac, _, _, _ = contingency_metric(C,verbose=False,factor=factor)\n",
    "    ami_list_TE_coupled_test.append(AMI(labels_T,labels_E))\n",
    "    consistency_list_TE_coupled_test.append(reliable_diag_frac)    \n",
    "    \n",
    "    \n",
    "#print(f'All T vs E AMI: {np.mean(ami_list_TE_coupled):0.3f} + {np.std(ami_list_TE_coupled):0.3f}')\n",
    "#print(f'Test T vs E AMI: {np.mean(ami_list_TE_coupled_test):0.3f} + {np.std(ami_list_TE_coupled_test):0.3f}')\n",
    "print(f'All T vs E consistency: {np.mean(consistency_list_TE_coupled):0.3f} + {np.std(consistency_list_TE_coupled):0.3f}')\n",
    "print(f'Test T vs E consistency: {np.mean(consistency_list_TE_coupled_test):0.3f} + {np.std(consistency_list_TE_coupled_test):0.3f}')"
   ]
  },
  {
   "cell_type": "code",
   "execution_count": 104,
   "metadata": {},
   "outputs": [
    {
     "data": {
      "text/plain": [
       "[<matplotlib.lines.Line2D at 0x7f4bde138fd0>]"
      ]
     },
     "execution_count": 104,
     "metadata": {},
     "output_type": "execute_result"
    },
    {
     "data": {
      "image/png": "[encoded data removed]",
      "text/plain": [
       "<Figure size 432x288 with 1 Axes>"
      ]
     },
     "metadata": {},
     "output_type": "display_data"
    }
   ],
   "source": [
    "#Mention this in methods - agreement measure is robust to criteria. Below are test sample results.\n",
    "factors = [1,1.2,1.5,2,3,5]\n",
    "cplAE = [0.576,0.479,0.406,0.285,0.133,0.055]\n",
    "unc = [0.259,0.235,0.206,0.141,0.041,0.012]\n",
    "plt.plot(factors,cplAE)\n",
    "plt.plot(factors,unc)"
   ]
  },
  {
   "cell_type": "code",
   "execution_count": 103,
   "metadata": {},
   "outputs": [
    {
     "data": {
      "text/plain": [
       "[<matplotlib.lines.Line2D at 0x7f4bde16ae10>]"
      ]
     },
     "execution_count": 103,
     "metadata": {},
     "output_type": "execute_result"
    },
    {
     "data": {
      "image/png": "[encoded data removed]",
      "text/plain": [
       "<Figure size 432x288 with 1 Axes>"
      ]
     },
     "metadata": {},
     "output_type": "display_data"
    }
   ],
   "source": []
  },
  {
   "cell_type": "code",
   "execution_count": null,
   "metadata": {},
   "outputs": [],
   "source": []
  }
 ],
 "metadata": {
  "kernelspec": {
   "display_name": "Python 3",
   "language": "python",
   "name": "python3"
  },
  "language_info": {
   "codemirror_mode": {
    "name": "ipython",
    "version": 3
   },
   "file_extension": ".py",
   "mimetype": "text/x-python",
   "name": "python",
   "nbconvert_exporter": "python",
   "pygments_lexer": "ipython3",
   "version": "3.7.0"
  }
 },
 "nbformat": 4,
 "nbformat_minor": 4
}
