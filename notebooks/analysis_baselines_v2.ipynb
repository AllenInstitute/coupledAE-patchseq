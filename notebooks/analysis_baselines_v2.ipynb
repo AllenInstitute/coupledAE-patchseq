{
 "cells": [
  {
   "cell_type": "code",
   "execution_count": 1,
   "metadata": {},
   "outputs": [],
   "source": [
    "import toml\n",
    "with open('config_paths.toml',mode='r') as f:\n",
    "    paths = toml.load(f, _dict=dict)"
   ]
  },
  {
   "cell_type": "code",
   "execution_count": null,
   "metadata": {},
   "outputs": [],
   "source": [
    "import cplAE_TE"
   ]
  },
  {
   "cell_type": "code",
   "execution_count": 1,
   "metadata": {},
   "outputs": [],
   "source": [
    "import numpy as np\n",
    "import pandas as pd\n",
    "import matplotlib.pyplot as plt\n",
    "import seaborn as sns\n",
    "import scipy.io as sio\n",
    "from copy import deepcopy\n",
    "from pathlib import Path\n",
    "from tqdm import tqdm\n",
    "\n",
    "from sklearn.discriminant_analysis import QuadraticDiscriminantAnalysis as QDA\n",
    "from sklearn.dummy import DummyClassifier\n",
    "from sklearn.metrics import accuracy_score\n",
    "\n",
    "sns.set_style('ticks',{'axes.grid' : False}) \n",
    "%matplotlib inline\n",
    "\n",
    "from cplAE_TE.utils.tree_helpers import get_merged_ordered_classes"
   ]
  },
  {
   "cell_type": "markdown",
   "metadata": {},
   "source": [
    "**QDA with coupled autoencoder representations**"
   ]
  },
  {
   "cell_type": "code",
   "execution_count": 6,
   "metadata": {},
   "outputs": [],
   "source": [
    "representation_path = '/home/rohan/Remote-AI/dat/result/TE_CS/'\n",
    "origdata_fname = './refactor/data/proc/PS_v5_beta_0-4_pc_scaled_ipfx_eqTE.mat'\n",
    "htree_fname='./refactor/data/proc/dend_RData_Tree_20181220.csv'\n",
    "O = sio.loadmat(origdata_fname,squeeze_me=True)\n",
    "\n",
    "#Representations\n",
    "alpha_T=1.0\n",
    "alpha_E=1.0\n",
    "lambda_TE=1.0\n",
    "n_cvfolds=20\n",
    "latent_dim=3\n",
    "aug = 1\n",
    "modeltype = 'best_loss' #['best_loss','exit_500_ft','exit']"
   ]
  },
  {
   "cell_type": "code",
   "execution_count": 7,
   "metadata": {},
   "outputs": [
    {
     "name": "stderr",
     "output_type": "stream",
     "text": [
      "100%|██████████| 20/20 [00:04<00:00,  4.36it/s]\n"
     ]
    }
   ],
   "source": [
    "#Load all CV sets\n",
    "CVdict={}\n",
    "key_list = ['zE','zT','train_ind','val_ind']\n",
    "for cv in tqdm(range(n_cvfolds)):\n",
    "    cvfold_fname=(f'CS_Edat_pcipfx_aT_{alpha_T:0.1f}_aE_{alpha_E:0.1f}_cs_{lambda_TE:0.1f}'+\\\n",
    "                  f'_ad_{aug:d}_ld_3_bs_200_se_500_ne_1500_cv_{cv:d}_ri_0_{modeltype}-summary').replace('.','-') + '.mat'\n",
    "    \n",
    "    if Path(representation_path+cvfold_fname).is_file(): \n",
    "        X = sio.loadmat(representation_path+cvfold_fname,squeeze_me=True)\n",
    "        CVdict[cv] = {key:X[key] for key in key_list}\n",
    "        del X\n",
    "    else:\n",
    "        print(cvfold_fname,'not found')"
   ]
  },
  {
   "cell_type": "code",
   "execution_count": null,
   "metadata": {},
   "outputs": [],
   "source": [
    "ttypes,counts = np.unique(O['cluster'],return_counts=True)\n",
    "for x in zip(ttypes,counts): print(x)"
   ]
  },
  {
   "cell_type": "code",
   "execution_count": 18,
   "metadata": {},
   "outputs": [
    {
     "name": "stderr",
     "output_type": "stream",
     "text": [
      "100%|██████████| 20/20 [00:01<00:00, 13.12it/s]\n"
     ]
    }
   ],
   "source": [
    "n_min_training_samples = 6\n",
    "dummy_most_freq = DummyClassifier(strategy=\"most_frequent\")\n",
    "dummy_prior = DummyClassifier(strategy=\"stratified\")\n",
    "\n",
    "fiton = 'zE'\n",
    "\n",
    "for cv in tqdm(CVdict.keys()):\n",
    "    D = CVdict[cv]\n",
    "    CVdict[cv]['qda'] = {}\n",
    "    CVdict[cv]['qda']['n_components'] = []\n",
    "    CVdict[cv]['qda']['n_htree_classes'] = []\n",
    "    CVdict[cv]['qda']['acc_train'] = []\n",
    "    CVdict[cv]['qda']['acc_val'] = []\n",
    "    CVdict[cv]['qda']['acc_test'] = []\n",
    "    CVdict[cv]['qda']['acc_most_freq'] = []\n",
    "    CVdict[cv]['qda']['acc_prior'] = []\n",
    "    \n",
    "    for n_classes in [59]:#np.arange(5,61,5):\n",
    "        \n",
    "        merged_labels, _ = get_merged_ordered_classes(data_labels=deepcopy(O['cluster']),\n",
    "                                                      htree_file=htree_fname,\n",
    "                                                      n_required_classes=n_classes,verbose=False)\n",
    "        \n",
    "        X_train = deepcopy(D[fiton][D['train_ind']])\n",
    "        y_train = deepcopy(merged_labels[D['train_ind']])\n",
    "        ind_train = np.arange(0,np.shape(X_train)[0])\n",
    "\n",
    "        X_val   = deepcopy(D[fiton][D['val_ind']])\n",
    "        y_val   = deepcopy(merged_labels[D['val_ind']])\n",
    "        ind_val = np.arange(0,np.shape(X_val)[0])\n",
    "\n",
    "        #Remove types with low sample counts in training set\n",
    "        df = pd.DataFrame({'ind':ind_train,'lbl':y_train})\n",
    "        df_train = df[df.groupby('lbl')['lbl'].transform('count').ge(n_min_training_samples)]\n",
    "        keep_ind = df_train['ind'].values\n",
    "        X_train = X_train[keep_ind,:]\n",
    "        y_train = y_train[keep_ind]\n",
    "\n",
    "        #Print types that were removed\n",
    "        df_train_del = df[df.groupby('lbl')['lbl'].transform('count').lt(n_min_training_samples)]\n",
    "        #print(df_train_del['lbl'].value_counts())\n",
    "        \n",
    "        #Remove types from validation set that are not represented in the training set\n",
    "        df = pd.DataFrame({'ind':ind_val,'lbl':y_val})\n",
    "        df_val = df[df['lbl'].isin(y_train)]\n",
    "        keep_ind = df_val['ind'].values\n",
    "        X_val = X_val[keep_ind,:]\n",
    "        y_val = y_val[keep_ind]\n",
    "\n",
    "        #QDA related metrics\n",
    "        n_lbls = np.size(np.unique(y_train))\n",
    "        qda = QDA(reg_param=1e-2,store_covariance=True)\n",
    "        qda.fit(X_train,y_train)\n",
    "        y_train_pred = qda.predict(X_train)\n",
    "        y_val_pred = qda.predict(X_val)\n",
    "        CVdict[cv]['qda']['n_htree_classes'].append(n_classes)\n",
    "        CVdict[cv]['qda']['n_components'].append(np.unique(qda.classes_).size)\n",
    "        CVdict[cv]['qda']['acc_train'].append(accuracy_score(y_train, y_train_pred))\n",
    "        CVdict[cv]['qda']['acc_val'].append(accuracy_score(y_val, y_val_pred))\n",
    "            \n",
    "        #For dummy classifiers\n",
    "        dummy_most_freq.fit(D[fiton],merged_labels)\n",
    "        most_freq_pred=dummy_most_freq.predict(D[fiton])\n",
    "        dummy_prior.fit(D[fiton],merged_labels)\n",
    "        prior_pred=dummy_prior.predict(D[fiton])\n",
    "        CVdict[cv]['qda']['acc_most_freq'].append(accuracy_score(merged_labels, most_freq_pred))\n",
    "        CVdict[cv]['qda']['acc_prior'].append(accuracy_score(merged_labels, prior_pred))"
   ]
  },
  {
   "cell_type": "code",
   "execution_count": 19,
   "metadata": {},
   "outputs": [],
   "source": [
    "train_acc = []\n",
    "val_acc = []\n",
    "n_components = []\n",
    "dummy_prior_acc=[]\n",
    "dummy_most_freq_acc=[]\n",
    "for cv in CVdict.keys():\n",
    "    train_acc.extend(CVdict[cv]['qda']['acc_train'])\n",
    "    val_acc.extend(CVdict[cv]['qda']['acc_val'])\n",
    "    n_components.extend(CVdict[cv]['qda']['n_components'])\n",
    "    \n",
    "    #For dummy classifiers\n",
    "    dummy_most_freq_acc.extend(CVdict[cv]['qda']['acc_most_freq'])\n",
    "    dummy_prior_acc.extend(CVdict[cv]['qda']['acc_prior'])"
   ]
  },
  {
   "cell_type": "code",
   "execution_count": 20,
   "metadata": {},
   "outputs": [
    {
     "name": "stdout",
     "output_type": "stream",
     "text": [
      "0.033 accuracy for 54 classes with dummy classifier\n"
     ]
    }
   ],
   "source": [
    "dummy_prior_acc = np.array(dummy_prior_acc)\n",
    "n_components = np.array(n_components)\n",
    "n_classes = 54\n",
    "print(f'{np.mean(dummy_prior_acc[n_components==n_classes]):0.3f} accuracy for {n_classes} classes with dummy classifier')"
   ]
  },
  {
   "cell_type": "code",
   "execution_count": 21,
   "metadata": {},
   "outputs": [
    {
     "data": {
      "text/plain": [
       "Text(0, 0.5, 'Accuracy')"
      ]
     },
     "execution_count": 21,
     "metadata": {},
     "output_type": "execute_result"
    },
    {
     "data": {
      "image/png": "[encoded data removed]",
      "text/plain": [
       "<Figure size 288x288 with 1 Axes>"
      ]
     },
     "metadata": {
      "needs_background": "light"
     },
     "output_type": "display_data"
    }
   ],
   "source": [
    "#Visual check before saving results:\n",
    "plt.figure(figsize=(4,4))\n",
    "plt.plot(n_components,train_acc,'.',color='dodgerblue',label='Train')\n",
    "plt.plot(n_components,val_acc,'.',color='orange',label='Val')\n",
    "plt.plot(n_components,dummy_prior_acc,'.',color='green',label='Val')\n",
    "plt.legend()\n",
    "ax = plt.gca()\n",
    "ax.set_ylim(0,1.05)\n",
    "ax.set_xlim(0,60)\n",
    "ax.set_xlabel('Number of components')\n",
    "ax.set_ylabel('Accuracy')"
   ]
  },
  {
   "cell_type": "code",
   "execution_count": 12,
   "metadata": {},
   "outputs": [],
   "source": [
    "res_pth = '/home/rohan/Remote-AI/dat/result/Patchseq_NM_proc/'\n",
    "df=pd.DataFrame({'n_components':n_components,'test_acc':test_acc,'val_acc':val_acc,'train_acc':train_acc})\n",
    "\n",
    "fname = 'QDA_'+fiton+'_CS'+\\\n",
    "                '_aT_'+str(alpha_T)+\\\n",
    "                '_aE_'+str(alpha_E)+\\\n",
    "                '_cs_'+str(lambda_TE)+\\\n",
    "                '_ad_'+str(aug)+\\\n",
    "                '_ld_3_bs_200_se_500_ne_1500'\n",
    "fname = fname.replace('.','-')+'.csv'\n",
    "df.to_csv(res_pth+fname)"
   ]
  },
  {
   "cell_type": "markdown",
   "metadata": {},
   "source": [
    "**QDA with PC-CCA baselines**"
   ]
  },
  {
   "cell_type": "code",
   "execution_count": 3,
   "metadata": {},
   "outputs": [],
   "source": [
    "import numpy as np\n",
    "import pandas as pd\n",
    "import matplotlib.pyplot as plt\n",
    "import seaborn as sns\n",
    "import scipy.io as sio\n",
    "import pdb\n",
    "from timebudget import timebudget\n",
    "from copy import deepcopy\n",
    "\n",
    "from sklearn.discriminant_analysis import QuadraticDiscriminantAnalysis as QDA\n",
    "from sklearn.metrics import accuracy_score\n",
    "from sklearn.cross_decomposition import CCA\n",
    "from sklearn.decomposition import PCA\n",
    "from scipy.linalg import sqrtm\n",
    "\n",
    "sns.set()\n",
    "sns.set_style('ticks',{'axes.grid' : False})\n",
    "%matplotlib inline"
   ]
  },
  {
   "cell_type": "code",
   "execution_count": null,
   "metadata": {},
   "outputs": [],
   "source": [
    "representation_pth = '/home/rohan/Remote-AI/dat/result/TE_NM/'\n",
    "origdata_pth = '/home/rohan/Remote-AI/dat/raw/patchseq-v4/PS_v5_beta_0-4_pc_scaled_ipxf_eqTE.mat'\n",
    "O = sio.loadmat(origdata_pth,squeeze_me=True)\n",
    "\n",
    "#Representations\n",
    "alpha_T=1.0\n",
    "alpha_E=1.0\n",
    "lambda_TE=1.0\n",
    "n_cvfolds=44\n",
    "latent_dim=10\n",
    "aug = 1\n",
    "\n",
    "#Load all CV sets\n",
    "#with timebudget('load all cv sets'):\n",
    "CVdict={}\n",
    "key_list = ['zE','zT','train_ind','val_ind','test_ind']\n",
    "for cv in tqdm(range(n_cvfolds)):\n",
    "    cvfold_fname='NM_Edat_pcipfx_aT_'+str(alpha_T)+\\\n",
    "                '_aE_'+str(alpha_E)+\\\n",
    "                '_cs_'+str(lambda_TE)+\\\n",
    "                '_ad_'+str(aug)+\\\n",
    "                '_ld_'+str(latent_dim)+\\\n",
    "                '_bs_200_se_500_ne_1500_cv_'+str(cv)+\\\n",
    "                '_ri_0-summary'\n",
    "    cvfold_fname=cvfold_fname.replace('.','-')+'.mat'\n",
    "    if isfile(representation_pth+cvfold_fname): \n",
    "        X = sio.loadmat(representation_pth+cvfold_fname,squeeze_me=True)\n",
    "        CVdict[cv] = {key:X[key] for key in key_list}\n",
    "        del X\n",
    "    else:\n",
    "        print(cvfold_fname,'not found')"
   ]
  },
  {
   "cell_type": "code",
   "execution_count": 28,
   "metadata": {},
   "outputs": [],
   "source": [
    "n_min_samples = 6\n",
    "\n",
    "n_pc_T = 50\n",
    "n_pc_E = 50\n",
    "cca_dims = 10\n",
    "fiton = 'zE'\n",
    "cca = CCA(n_components=cca_dims, scale=True, max_iter=1e4, tol=1e-06, copy=True)"
   ]
  },
  {
   "cell_type": "code",
   "execution_count": 29,
   "metadata": {},
   "outputs": [
    {
     "name": "stderr",
     "output_type": "stream",
     "text": [
      "100%|██████████| 44/44 [02:14<00:00,  3.05s/it]\n"
     ]
    }
   ],
   "source": [
    "for cv in tqdm(CVdict.keys()):\n",
    "    D = deepcopy(CVdict[cv])\n",
    "    CVdict[cv]['pc_cca_qda'] = {}\n",
    "    CVdict[cv]['pc_cca_qda']['n_components'] = []\n",
    "    CVdict[cv]['pc_cca_qda']['n_htree_classes'] = []\n",
    "    CVdict[cv]['pc_cca_qda']['acc_train'] = []\n",
    "    CVdict[cv]['pc_cca_qda']['acc_val'] = []\n",
    "    CVdict[cv]['pc_cca_qda']['acc_test'] = []\n",
    "    \n",
    "    XT = deepcopy(O['T_dat'])\n",
    "    XE = deepcopy(np.concatenate([O['E_pc_scaled'],O['E_feature']],axis = 1))\n",
    "    XE[np.isnan(XE)]=0.0\n",
    "    train_ind = D['train_ind']\n",
    "    \n",
    "    #Reduce dims of T data\n",
    "    if n_pc_T is not None:\n",
    "        pca = PCA(n_components=n_pc_T)\n",
    "        pca.fit_transform(XT[train_ind,:])\n",
    "        XT = pca.transform(XT)\n",
    "  \n",
    "    #Reduce dims of E data\n",
    "    if n_pc_E is not None:\n",
    "        pca = PCA(n_components=n_pc_E)\n",
    "        pca.fit_transform(XE[train_ind,:])\n",
    "        XE = pca.transform(XE)\n",
    "\n",
    "    #CCA on T and E data\n",
    "    cca.fit(XT[train_ind,:],XE[train_ind,:])\n",
    "    D['zT'],D['zE'] = cca.transform(XT,XE)\n",
    "    \n",
    "    D['zT'] = D['zT'] - np.mean(D['zT'], axis=0)\n",
    "    D['zT'] = np.matmul(D['zT'], sqrtm(np.linalg.inv(np.cov(np.transpose(D['zT'])))))\n",
    "    \n",
    "    D['zE'] = D['zE'] - np.mean(D['zE'], axis=0)\n",
    "    D['zE'] = np.matmul(D['zE'], sqrtm(np.linalg.inv(np.cov(np.transpose(D['zE'])))))\n",
    "\n",
    "    for n_classes in np.arange(5,61,5):\n",
    "\n",
    "        merged_labels, _ = get_merged_ordered_classes(data_labels=deepcopy(O['cluster']),\n",
    "                                                      htree_file=htree_file,\n",
    "                                                      n_required_classes=n_classes)\n",
    "        \n",
    "        X_train = deepcopy(D[fiton][D['train_ind']])\n",
    "        y_train = deepcopy(merged_labels[D['train_ind']])\n",
    "        ind_train = np.arange(0,np.shape(X_train)[0])\n",
    "\n",
    "        X_val   = deepcopy(D[fiton][D['val_ind']])\n",
    "        y_val = deepcopy(merged_labels[D['val_ind']])\n",
    "        ind_val = np.arange(0,np.shape(X_val)[0])\n",
    "\n",
    "        X_test   = deepcopy(D[fiton][D['test_ind']])\n",
    "        y_test = deepcopy(merged_labels[D['test_ind']])\n",
    "        ind_test = np.arange(0,np.shape(X_test)[0])\n",
    "\n",
    "        #Remove types with low sample counts in training set\n",
    "        df = pd.DataFrame({'ind':ind_train,'lbl':y_train})\n",
    "        df_train = df[df.groupby('lbl')['lbl'].transform('count').ge(n_min_samples)]\n",
    "        keep_ind = df_train['ind'].values\n",
    "        X_train = X_train[keep_ind,:]\n",
    "        y_train = y_train[keep_ind]\n",
    "\n",
    "        #Print types that were removed\n",
    "        #df_train_del = df[df.groupby('lbl')['lbl'].transform('count').lt(n_min_samples)]\n",
    "        #print(df_train_del['lbl'].value_counts())\n",
    "\n",
    "        #Remove types from validation set that are not represented in the training set\n",
    "        df = pd.DataFrame({'ind':ind_val,'lbl':y_val})\n",
    "        df_val = df[df['lbl'].isin(y_train)]\n",
    "        keep_ind = df_val['ind'].values\n",
    "        X_val = X_val[keep_ind,:]\n",
    "        y_val = y_val[keep_ind]\n",
    "\n",
    "        #Remove types from test set that are not represented in the training set\n",
    "        df = pd.DataFrame({'ind':ind_test,'lbl':y_test})\n",
    "        df_test = df[df['lbl'].isin(y_test)]\n",
    "        keep_ind = df_test['ind'].values\n",
    "        X_test = X_test[keep_ind,:]\n",
    "        y_test = y_test[keep_ind]\n",
    "\n",
    "        #QDA related metrics\n",
    "        qda = QDA(reg_param=1e-2,store_covariance=True)\n",
    "        qda.fit(X_train,y_train)\n",
    "        y_train_pred = qda.predict(X_train)\n",
    "        y_val_pred = qda.predict(X_val)\n",
    "        y_test_pred = qda.predict(X_test)\n",
    "        CVdict[cv]['pc_cca_qda']['n_htree_classes'].append(n_classes)\n",
    "        CVdict[cv]['pc_cca_qda']['n_components'].append(np.unique(qda.classes_).size)\n",
    "        CVdict[cv]['pc_cca_qda']['acc_train'].append(accuracy_score(y_train, y_train_pred))\n",
    "        CVdict[cv]['pc_cca_qda']['acc_val'].append(accuracy_score(y_val, y_val_pred))\n",
    "        CVdict[cv]['pc_cca_qda']['acc_test'].append(accuracy_score(y_test, y_test_pred))"
   ]
  },
  {
   "cell_type": "code",
   "execution_count": 30,
   "metadata": {},
   "outputs": [],
   "source": [
    "test_acc = []\n",
    "val_acc = []\n",
    "train_acc = []\n",
    "n_components = []\n",
    "for cv in CVdict.keys():\n",
    "    test_acc.extend(CVdict[cv]['pc_cca_qda']['acc_test'])\n",
    "    val_acc.extend(CVdict[cv]['pc_cca_qda']['acc_val'])\n",
    "    train_acc.extend(CVdict[cv]['pc_cca_qda']['acc_train'])\n",
    "    n_components.extend(CVdict[cv]['pc_cca_qda']['n_components'])"
   ]
  },
  {
   "cell_type": "code",
   "execution_count": 31,
   "metadata": {},
   "outputs": [
    {
     "data": {
      "text/plain": [
       "Text(0, 0.5, 'Accuracy')"
      ]
     },
     "execution_count": 31,
     "metadata": {},
     "output_type": "execute_result"
    },
    {
     "data": {
      "image/png": "[encoded data removed]",
      "text/plain": [
       "<Figure size 288x288 with 1 Axes>"
      ]
     },
     "metadata": {
      "needs_background": "light"
     },
     "output_type": "display_data"
    }
   ],
   "source": [
    "plt.figure(figsize=(4,4))\n",
    "plt.plot(n_components,test_acc,'.',color='red',label='Test')\n",
    "plt.plot(n_components,train_acc,'.',color='dodgerblue',label='Train')\n",
    "plt.plot(n_components,val_acc,'.',color='orange',label='Val')\n",
    "plt.legend()\n",
    "ax = plt.gca()\n",
    "ax.set_ylim(0,1.05)\n",
    "ax.set_xlim(0,60)\n",
    "ax.set_xlabel('Number of components')\n",
    "ax.set_ylabel('Accuracy')"
   ]
  },
  {
   "cell_type": "code",
   "execution_count": 32,
   "metadata": {},
   "outputs": [],
   "source": [
    "res_pth = '/home/rohan/Remote-AI/dat/result/Patchseq_NM_proc/'\n",
    "df=pd.DataFrame({'n_components':n_components,'test_acc':test_acc,'val_acc':val_acc,'train_acc':train_acc})\n",
    "\n",
    "fname = 'QDA_'+fiton+'_PCCCA_'+\\\n",
    "        'CS_Edat_pcipfx_'+str(n_pc_T)+'-'+str(n_pc_E)+'-pc-'+\\\n",
    "        str(cca_dims)+'-cca'\n",
    "                \n",
    "fname = fname.replace('.','-')+'.csv'\n",
    "df.to_csv(res_pth+fname)"
   ]
  },
  {
   "cell_type": "code",
   "execution_count": null,
   "metadata": {},
   "outputs": [],
   "source": []
  },
  {
   "cell_type": "markdown",
   "metadata": {},
   "source": [
    "**Supervised celltype classification comparisons with linear baselines**\n",
    "\n",
    "1. QDA parameters should be the same\n",
    "2. Validation sets for PC-CCA and AE should be the same"
   ]
  },
  {
   "cell_type": "code",
   "execution_count": 1,
   "metadata": {},
   "outputs": [],
   "source": [
    "import numpy as np\n",
    "import pandas as pd\n",
    "import matplotlib.pyplot as plt\n",
    "import seaborn as sns\n",
    "import scipy.io as sio\n",
    "from copy import deepcopy\n",
    "\n",
    "sns.set()\n",
    "sns.set_style('ticks',{'axes.grid' : False}) \n",
    "%matplotlib inline"
   ]
  },
  {
   "cell_type": "code",
   "execution_count": 3,
   "metadata": {},
   "outputs": [
    {
     "ename": "IndexError",
     "evalue": "list index out of range",
     "output_type": "error",
     "traceback": [
      "\u001b[0;31m---------------------------------------------------------------------------\u001b[0m",
      "\u001b[0;31mIndexError\u001b[0m                                Traceback (most recent call last)",
      "\u001b[0;32m<ipython-input-3-e7b4a0289499>\u001b[0m in \u001b[0;36m<module>\u001b[0;34m\u001b[0m\n\u001b[1;32m     30\u001b[0m             \u001b[0my_\u001b[0m\u001b[0;34m.\u001b[0m\u001b[0mappend\u001b[0m\u001b[0;34m(\u001b[0m\u001b[0mnp\u001b[0m\u001b[0;34m.\u001b[0m\u001b[0mmean\u001b[0m\u001b[0;34m(\u001b[0m\u001b[0mdf\u001b[0m\u001b[0;34m[\u001b[0m\u001b[0;34m'val_acc'\u001b[0m\u001b[0;34m]\u001b[0m\u001b[0;34m.\u001b[0m\u001b[0mvalues\u001b[0m\u001b[0;34m[\u001b[0m\u001b[0mind\u001b[0m\u001b[0;34m]\u001b[0m\u001b[0;34m)\u001b[0m\u001b[0;34m)\u001b[0m\u001b[0;34m\u001b[0m\u001b[0;34m\u001b[0m\u001b[0m\n\u001b[1;32m     31\u001b[0m             \u001b[0myerr_\u001b[0m\u001b[0;34m.\u001b[0m\u001b[0mappend\u001b[0m\u001b[0;34m(\u001b[0m\u001b[0mnp\u001b[0m\u001b[0;34m.\u001b[0m\u001b[0mstd\u001b[0m\u001b[0;34m(\u001b[0m\u001b[0mdf\u001b[0m\u001b[0;34m[\u001b[0m\u001b[0;34m'val_acc'\u001b[0m\u001b[0;34m]\u001b[0m\u001b[0;34m.\u001b[0m\u001b[0mvalues\u001b[0m\u001b[0;34m[\u001b[0m\u001b[0mind\u001b[0m\u001b[0;34m]\u001b[0m\u001b[0;34m)\u001b[0m\u001b[0;34m)\u001b[0m\u001b[0;34m\u001b[0m\u001b[0;34m\u001b[0m\u001b[0m\n\u001b[0;32m---> 32\u001b[0;31m         \u001b[0mplt\u001b[0m\u001b[0;34m.\u001b[0m\u001b[0merrorbar\u001b[0m\u001b[0;34m(\u001b[0m\u001b[0mx_\u001b[0m\u001b[0;34m,\u001b[0m\u001b[0my_\u001b[0m\u001b[0;34m,\u001b[0m\u001b[0myerr_\u001b[0m\u001b[0;34m,\u001b[0m\u001b[0mmarker\u001b[0m\u001b[0;34m=\u001b[0m\u001b[0;34m'o'\u001b[0m\u001b[0;34m,\u001b[0m\u001b[0mcolor\u001b[0m\u001b[0;34m=\u001b[0m\u001b[0mcol\u001b[0m\u001b[0;34m[\u001b[0m\u001b[0mi\u001b[0m\u001b[0;34m]\u001b[0m\u001b[0;34m,\u001b[0m\u001b[0mlabel\u001b[0m\u001b[0;34m=\u001b[0m\u001b[0mlbl\u001b[0m\u001b[0;34m[\u001b[0m\u001b[0mi\u001b[0m\u001b[0;34m]\u001b[0m\u001b[0;34m)\u001b[0m\u001b[0;34m\u001b[0m\u001b[0;34m\u001b[0m\u001b[0m\n\u001b[0m\u001b[1;32m     33\u001b[0m \u001b[0;34m\u001b[0m\u001b[0m\n\u001b[1;32m     34\u001b[0m     \u001b[0;32mif\u001b[0m \u001b[0mfiton\u001b[0m\u001b[0;34m==\u001b[0m\u001b[0;34m'zT'\u001b[0m\u001b[0;34m:\u001b[0m\u001b[0;34m\u001b[0m\u001b[0;34m\u001b[0m\u001b[0m\n",
      "\u001b[0;31mIndexError\u001b[0m: list index out of range"
     ]
    },
    {
     "data": {
      "image/png": "[encoded data removed]",
      "text/plain": [
       "<Figure size 288x288 with 1 Axes>"
      ]
     },
     "metadata": {
      "needs_background": "light"
     },
     "output_type": "display_data"
    }
   ],
   "source": [
    "fiton_txt=['z_t','z_e']\n",
    "for txt_ind,fiton in enumerate(['zT','zE']):\n",
    "    res_pth = '/home/rohan/Remote-AI/dat/result/Patchseq_NM_proc/'\n",
    "    #'QDA_{:s}_NM_aT_1-0_aE_1-0_cs_0-5_ad_0_ld_3_bs_200_se_500_ne_1500.csv'.format(fiton),\\\n",
    "    #'QDA_{:s}_NM_aT_1-0_aE_1-0_cs_1-0_ad_0_ld_3_bs_200_se_500_ne_1500.csv'.format(fiton),\\\n",
    "    fname_list = [f'QDA_{fiton}_NM_aT_1-0_aE_1-0_cs_0-0_ad_0_ld_3_bs_200_se_500_ne_1500.csv',\\\n",
    "                  f'QDA_{fiton}_NM_aT_1-0_aE_1-0_cs_1-0_ad_1_ld_3_bs_200_se_500_ne_1500.csv',\\\n",
    "                  f'QDA_{fiton}_NM_aT_1-0_aE_1-0_cs_1-0_ad_1_ld_3_bs_200_se_500_ne_1500.csv',\\\n",
    "                  f'QDA_{fiton}_NM_aT_1-0_aE_1-0_cs_1-0_ad_0_ld_3_bs_200_se_500_ne_1500.csv',\\\n",
    "                  f'QDA_{fiton}_PCCCA_NM_Edat_pcipfx_10-10-pc-3-cca.csv',\\\n",
    "                  f'QDA_{fiton}_PCCCA_NM_Edat_pcipfx_50-50-pc-3-cca.csv']\n",
    "\n",
    "    df_list = [pd.read_csv(res_pth+fname) for fname in fname_list]\n",
    "\n",
    "    plt.figure(figsize=(4,4))\n",
    "    col = ['gray',\\\n",
    "           'lightskyblue','dodgerblue',\\\n",
    "           'lightcoral','red']\n",
    "    lbl = [r'$\\lambda_{te}$ = 0.0',\\\n",
    "           r'$\\lambda_{te}$ = 1.0',\\\n",
    "           'PC-CCA (10,10)',\\\n",
    "           'PC-CCA (50,50)']\n",
    "    for i,df in enumerate(df_list):\n",
    "        x_=[]\n",
    "        y_=[]\n",
    "        yerr_=[]\n",
    "        for n in np.unique(df['n_components'].values):\n",
    "            ind = df['n_components'].values==n\n",
    "            x_.append(n)\n",
    "            y_.append(np.mean(df['val_acc'].values[ind]))\n",
    "            yerr_.append(np.std(df['val_acc'].values[ind]))\n",
    "        plt.errorbar(x_,y_,yerr_,marker='o',color=col[i],label=lbl[i])\n",
    "\n",
    "    if fiton=='zT':\n",
    "        plt.legend()\n",
    "    ax = plt.gca()\n",
    "    ax.set_ylim(0.2,1.05)\n",
    "    ax.set_xlim(0,60)\n",
    "    ax.set_xlabel('Number of components')\n",
    "    ax.set_ylabel('Accuracy')\n",
    "    ax.set_title(r'${:s}$ $\\rightarrow$ celltype'.format(fiton_txt[txt_ind]))\n",
    "    \n",
    "    plt.tight_layout()\n",
    "    plt.show()\n",
    "    #plt.savefig('/home/rohan/Dropbox/AllenInstitute/CellTypes/doc/Patchseq_NM_2020/{:s}-to-celltype-20-fold.png'.format(fiton),dpi=300)\n",
    "    "
   ]
  },
  {
   "cell_type": "markdown",
   "metadata": {},
   "source": [
    "**Reconstruction comparisons**"
   ]
  },
  {
   "cell_type": "code",
   "execution_count": 1,
   "metadata": {},
   "outputs": [],
   "source": [
    "import numpy as np\n",
    "import pandas as pd\n",
    "import matplotlib.pyplot as plt\n",
    "import seaborn as sns\n",
    "import scipy.io as sio\n",
    "import pdb\n",
    "from timebudget import timebudget\n",
    "from copy import deepcopy\n",
    "from os.path import isfile\n",
    "from tqdm import tqdm\n",
    "\n",
    "from sklearn.decomposition import PCA\n",
    "from scipy.linalg import sqrtm\n",
    "from sklearn.metrics import r2_score as r2"
   ]
  },
  {
   "cell_type": "code",
   "execution_count": 2,
   "metadata": {},
   "outputs": [],
   "source": [
    "from refactor.utils.compute import CCA_extended"
   ]
  },
  {
   "cell_type": "code",
   "execution_count": 3,
   "metadata": {},
   "outputs": [
    {
     "name": "stderr",
     "output_type": "stream",
     "text": [
      "100%|██████████| 44/44 [00:28<00:00,  1.56it/s]\n"
     ]
    }
   ],
   "source": [
    "representation_pth = '/home/rohan/Remote-AI/dat/result/TE_NM/'\n",
    "origdata_pth = '/home/rohan/Remote-AI/dat/raw/patchseq-v4/PS_v5_beta_0-4_pc_scaled_ipxf_eqTE.mat'\n",
    "O = sio.loadmat(origdata_pth,squeeze_me=True)\n",
    "\n",
    "#Representations\n",
    "alpha_T=1.0\n",
    "alpha_E=1.0\n",
    "lambda_TE=1.0\n",
    "latent_dim=10\n",
    "n_cvfolds=44\n",
    "aug = 1\n",
    "\n",
    "#Load all CV sets\n",
    "#with timebudget('load all cv sets'):\n",
    "CVdict={}\n",
    "key_list = ['XrT','XrE_from_XT','XrT_from_XE','XrE','zE','zT','train_ind','val_ind','test_ind']\n",
    "for cv in tqdm(range(n_cvfolds)):\n",
    "    cvfold_fname='NM_Edat_pcipfx_aT_'+str(alpha_T)+\\\n",
    "                '_aE_'+str(alpha_E)+\\\n",
    "                '_cs_'+str(lambda_TE)+\\\n",
    "                '_ad_'+str(aug)+\\\n",
    "                '_ld_'+str(latent_dim)+\\\n",
    "                '_bs_200_se_500_ne_1500_cv_'+str(cv)+\\\n",
    "                '_ri_0_500_ft-summary'\n",
    "    cvfold_fname=cvfold_fname.replace('.','-')+'.mat'\n",
    "    if isfile(representation_pth+cvfold_fname): \n",
    "        X = sio.loadmat(representation_pth+cvfold_fname,squeeze_me=True)\n",
    "        CVdict[cv] = {key:X[key] for key in key_list}\n",
    "        del X\n",
    "    else:\n",
    "        print(cvfold_fname,'not found')"
   ]
  },
  {
   "cell_type": "code",
   "execution_count": 4,
   "metadata": {},
   "outputs": [],
   "source": [
    "n_pc_T = 50\n",
    "n_pc_E = 50\n",
    "cca_dims = latent_dim"
   ]
  },
  {
   "cell_type": "code",
   "execution_count": 5,
   "metadata": {},
   "outputs": [
    {
     "name": "stderr",
     "output_type": "stream",
     "text": [
      "100%|██████████| 44/44 [01:01<00:00,  1.40s/it]\n"
     ]
    }
   ],
   "source": [
    "XT_orig = O['T_dat']\n",
    "XE_orig = np.concatenate([O['E_pc_scaled'],O['E_feature']],axis = 1)\n",
    "mask_E = np.ones_like(XE_orig)\n",
    "mask_E[np.isnan(XE_orig)]=0.0\n",
    "XE_orig[np.isnan(XE_orig)]=0.0\n",
    "\n",
    "ind_list = ['train','val','test']\n",
    "\n",
    "for cv in tqdm(CVdict.keys()):\n",
    "    cca = CCA_extended(n_components=cca_dims, scale=True, max_iter=1e4, tol=1e-06, copy=True)\n",
    "    \n",
    "    CVdict[cv]['ae'] = {}\n",
    "    CVdict[cv]['cca'] = {}\n",
    "    \n",
    "    D = deepcopy(CVdict[cv])\n",
    "    XT = deepcopy(XT_orig)\n",
    "    XE = deepcopy(XE_orig)\n",
    "    train_ind = D['train_ind']\n",
    "\n",
    "    #Reduce dims of T data\n",
    "    pcaT = PCA(n_components=n_pc_T)\n",
    "    pcaT.fit_transform(XT[train_ind,:])\n",
    "    XTpc = pcaT.transform(XT)\n",
    "\n",
    "    #Reduce dims of E data\n",
    "    pcaE = PCA(n_components=n_pc_E)\n",
    "    pcaE.fit_transform(XE[train_ind,:])\n",
    "    XEpc = pcaE.transform(XE)\n",
    "\n",
    "    #CCA on T and E data\n",
    "    cca.fit(XTpc[train_ind,:],XEpc[train_ind,:])\n",
    "    XTcca,XEcca = cca.transform(XTpc,XEpc)\n",
    "        \n",
    "    #Reconstruction from CCA co-ordinates----------------------------\n",
    "    #Within modality reconstruction\n",
    "    XrTpc,XrEpc = cca.inverse_transform_xy(XTcca,XEcca)\n",
    "    XrT = pcaT.inverse_transform(XrTpc)\n",
    "    XrE = pcaE.inverse_transform(XrEpc)\n",
    "    \n",
    "    T_se = (XT_orig - XrT)**2\n",
    "    E_se = ((XE_orig - XrE)**2)\n",
    "\n",
    "    #Within modality reconstruction - MSE and R2 calculations\n",
    "    for s in ind_list:\n",
    "        CVdict[cv]['cca']['XT_from_XT_'+s] = np.mean(T_se[D[s+'_ind'],:])\n",
    "        CVdict[cv]['cca']['XE_from_XE_'+s] = np.nanmean(E_se[D[s+'_ind'],:])\n",
    "        CVdict[cv]['cca']['XT_from_XT_R2_'+s] = r2(XT_orig[D[s+'_ind'],:],XrT[D[s+'_ind'],:])\n",
    "        CVdict[cv]['cca']['XE_from_XE_R2_'+s] = r2(XE_orig[D[s+'_ind'],:],XrE[D[s+'_ind'],:])\n",
    "    \n",
    "    #Cross modality reconstruction\n",
    "    XrTpc,XrEpc = cca.inverse_transform_xy(XEcca,XTcca) #Input order to inverse_transform_xy is flipped\n",
    "    XrT = pcaT.inverse_transform(XrTpc)\n",
    "    XrE = pcaE.inverse_transform(XrEpc)\n",
    "    \n",
    "    T_se = (XT_orig - XrT)**2\n",
    "    E_se = (XE_orig - XrE)**2\n",
    "    \n",
    "    for s in ind_list:\n",
    "        CVdict[cv]['cca']['XT_from_XE_'+s] = np.mean(T_se[D[s+'_ind'],:])\n",
    "        CVdict[cv]['cca']['XE_from_XT_'+s] = np.nanmean(E_se[D[s+'_ind'],:])\n",
    "        CVdict[cv]['cca']['XT_from_XE_R2_'+s] = r2(XT_orig[D[s+'_ind'],:],XrT[D[s+'_ind'],:])\n",
    "        CVdict[cv]['cca']['XE_from_XT_R2_'+s] = r2(XE_orig[D[s+'_ind'],:],XrE[D[s+'_ind'],:])\n",
    "        \n",
    "        \n",
    "    #Within Modality AE\n",
    "    T_se = (XT_orig - D['XrT'])**2\n",
    "    E_se = (XE_orig - D['XrE'])**2\n",
    "    for s in ind_list:\n",
    "        CVdict[cv]['ae']['XT_from_XT_'+s] = np.mean(T_se[D[s+'_ind'],:])\n",
    "        CVdict[cv]['ae']['XE_from_XE_'+s] = np.nanmean(E_se[D[s+'_ind'],:])\n",
    "        CVdict[cv]['ae']['XT_from_XT_R2_'+s] = r2(XT_orig[D[s+'_ind'],:],D['XrT'][D[s+'_ind'],:])\n",
    "        CVdict[cv]['ae']['XE_from_XE_R2_'+s] = r2(XE_orig[D[s+'_ind'],:],D['XrE'][D[s+'_ind'],:])\n",
    "        \n",
    "    #Cross modality reconstruction AE\n",
    "    T_se = (XT_orig - D['XrT_from_XE'])**2\n",
    "    E_se = (XE_orig - D['XrE_from_XT'])**2\n",
    "    for s in ind_list:\n",
    "        CVdict[cv]['ae']['XT_from_XE_'+s] = np.mean(T_se[D[s+'_ind'],:])\n",
    "        CVdict[cv]['ae']['XE_from_XT_'+s] = np.nanmean(E_se[D[s+'_ind'],:])\n",
    "        CVdict[cv]['ae']['XT_from_XE_R2_'+s] = r2(XT_orig[D[s+'_ind'],:],D['XrT_from_XE'][D[s+'_ind'],:])\n",
    "        CVdict[cv]['ae']['XE_from_XT_R2_'+s] = r2(XE_orig[D[s+'_ind'],:],D['XrE_from_XT'][D[s+'_ind'],:])\n"
   ]
  },
  {
   "cell_type": "code",
   "execution_count": 6,
   "metadata": {},
   "outputs": [],
   "source": [
    "result_path = '/home/rohan/Remote-AI/dat/result/Patchseq_NM_proc/'\n",
    "\n",
    "L={}\n",
    "L['cv'] = []\n",
    "for i,cv in enumerate(CVdict.keys()):\n",
    "    L['cv'].append(cv)\n",
    "    for k in CVdict[cv]['cca'].keys():\n",
    "        if i == 0:\n",
    "            L[k]=[]\n",
    "        L[k].append(CVdict[cv]['cca'][k])\n",
    "        \n",
    "df_cca = pd.DataFrame(L)\n",
    "fname = 'Recon_CCA_NM_{:d}-{:d}-pc_{:d}_cca.csv'.format(n_pc_T,n_pc_T,cca_dims)\n",
    "df_cca.to_csv(result_path+fname)\n",
    "\n",
    "\n",
    "\n",
    "M={}\n",
    "M['cv'] = []\n",
    "for i,cv in enumerate(CVdict.keys()):\n",
    "    M['cv'].append(cv)\n",
    "    for k in CVdict[cv]['ae'].keys():\n",
    "        if i == 0:\n",
    "            M[k]=[]\n",
    "        M[k].append(CVdict[cv]['ae'][k])\n",
    "\n",
    "df_ae = pd.DataFrame(M)\n",
    "fname = 'Recon_AE_NM_aT_{:.1f}_aE_{:.1f}'\\\n",
    "        '_cs_{:.1f}_ad_{:d}_ld_{:d}'.format(alpha_T,alpha_E,lambda_TE,aug,latent_dim)\n",
    "fname = fname.replace('.','-')+'.csv'\n",
    "df_ae.to_csv(result_path+fname)"
   ]
  },
  {
   "cell_type": "code",
   "execution_count": null,
   "metadata": {},
   "outputs": [],
   "source": []
  },
  {
   "cell_type": "code",
   "execution_count": 1,
   "metadata": {},
   "outputs": [],
   "source": [
    "result_path = '/home/rohan/Remote-AI/dat/result/Patchseq_NM_proc/'\n",
    "fname_list = ['Recon_CCA_NM_10-10-pc_3_cca.csv',\\\n",
    "              'Recon_CCA_NM_50-50-pc_3_cca.csv',\\\n",
    "              'Recon_AE_NM_aT_1-0_aE_1-0_cs_0-5_ad_1_ld_3_bs_200_se_500_ne_1500_ft_500.csv',\\\n",
    "              'Recon_AE_NM_aT_1-0_aE_1-0_cs_1-0_ad_1_ld_3_bs_200_se_500_ne_1500_ft_500.csv',\\\n",
    "              'Recon_AE_NM_aT_1-0_aE_1-0_cs_0-0_ad_0_ld_3_bs_200_se_500_ne_1500_ft_500.csv'              \n",
    "              ]\n",
    "df_list = []\n",
    "\n",
    "for fname in fname_list:\n",
    "    #print(fname)\n",
    "    df_list.append(pd.read_csv(result_path+fname))"
   ]
  },
  {
   "cell_type": "code",
   "execution_count": 2,
   "metadata": {},
   "outputs": [],
   "source": [
    "#Remove single cross validation fold - something went wrong here.\n",
    "df_list[3].drop(index=35,inplace=True)"
   ]
  },
  {
   "cell_type": "code",
   "execution_count": 3,
   "metadata": {},
   "outputs": [
    {
     "data": {
      "image/png": "[encoded data removed]",
      "text/plain": [
       "<Figure size 432x288 with 1 Axes>"
      ]
     },
     "metadata": {
      "needs_background": "light"
     },
     "output_type": "display_data"
    }
   ],
   "source": [
    "col = ['lightcoral','red',\\\n",
    "       'lightskyblue','dodgerblue',\\\n",
    "       'gray',]\n",
    "\n",
    "#r'$\\lambda_{te}$ = 0.5 (aug)',r'$\\lambda_{te}$ = 1.0 (aug)',\\\n",
    "lbl = ['PC-CCA (10,10)','PC-CCA (50,50)',\\\n",
    "       r'$\\lambda_{te}$ = 0.5',\\\n",
    "       r'$\\lambda_{te}$ = 1.0',\\\n",
    "       r'$\\lambda_{te}$ = 0.0'] \n",
    "h_list=[]\n",
    "plt.figure(figsize=(6,4))\n",
    "for grp,key in enumerate(['XE_from_XE_',\n",
    "                          'XE_from_XT_',\n",
    "                          'XT_from_XT_',\n",
    "                          'XT_from_XE_']):\n",
    "    meas = 'R2_val'\n",
    "    key = key+meas\n",
    "    for i,df in enumerate(df_list):\n",
    "\n",
    "        if (key in ['XE_from_XT_'+meas,'XT_from_XE_'+meas]):\n",
    "            if i not in [4]: #Ignore cross modal reconstruction for lambda_TE=0\n",
    "                plt.bar((i+0.5+(6*grp)),np.mean(df[key].values),color=col[i],alpha=0.5)\n",
    "                h = plt.errorbar((i+0.5+(6*grp)),np.mean(df[key].values),np.std(df[key].values),marker='o',ms=1,color=col[i],label=lbl[i])\n",
    "        else:\n",
    "            plt.bar((i+(6*grp)),np.mean(df[key].values),color=col[i],alpha=0.5)\n",
    "            h = plt.errorbar((i+(6*grp)),np.mean(df[key].values),np.std(df[key].values),marker='o',ms=1,color=col[i],label=lbl[i])\n",
    "\n",
    "            if grp==0:\n",
    "                h_list.append(h) #To get handles for legends\n",
    "                \n",
    "plt.legend(handles=h_list,labels=lbl)\n",
    "ax = plt.gca()\n",
    "ax.set_ylim(0,0.65)\n",
    "ax.set_xlabel('')\n",
    "ax.set_xticks(np.array([2,8,14,20]))\n",
    "ax.set_xticklabels([r'$X_{e}$ $\\rightarrow$ $\\widetilde{X}_{e}$',\n",
    "                    r'$X_{t}$ $\\rightarrow$ $\\widetilde{X}_{e}$',\n",
    "                    r'$X_{t}$ $\\rightarrow$ $\\widetilde{X}_{t}$',\n",
    "                    r'$X_{e}$ $\\rightarrow$ $\\widetilde{X}_{t}$',])\n",
    "ax.set_ylabel(r'$R^2$')\n",
    "plt.tight_layout()\n",
    "#plt.savefig('/home/rohan/Dropbox/AllenInstitute/CellTypes/doc/Patchseq_NM_2020/Reconstructions'+meas+'.png',dpi=300)\n",
    "plt.show()"
   ]
  },
  {
   "cell_type": "markdown",
   "metadata": {},
   "source": [
    "**5 dim results**"
   ]
  },
  {
   "cell_type": "code",
   "execution_count": 6,
   "metadata": {},
   "outputs": [],
   "source": [
    "#Results also available for ad_0\n",
    "result_path = '/home/rohan/Remote-AI/dat/result/Patchseq_NM_proc/'\n",
    "fname_list = ['Recon_CCA_NM_50-50-pc_3_cca.csv',\\\n",
    "              'Recon_CCA_NM_50-50-pc_5_cca.csv',\\\n",
    "              'Recon_CCA_NM_50-50-pc_10_cca.csv',\\\n",
    "              'Recon_AE_NM_aT_1-0_aE_1-0_cs_1-0_ad_0_ld_3_bs_200_se_500_ne_1500_ft_500.csv',\\\n",
    "              'Recon_AE_NM_aT_1-0_aE_1-0_cs_1-0_ad_1_ld_3_bs_200_se_500_ne_1500_ft_500.csv',\\\n",
    "              'Recon_AE_NM_aT_1-0_aE_1-0_cs_1-0_ad_1_ld_5_bs_200_se_500_ne_1500_ft_500.csv',\\\n",
    "              'Recon_AE_NM_aT_1-0_aE_1-0_cs_1-0_ad_1_ld_10_bs_200_se_500_ne_1500_ft_500.csv',\\\n",
    "              ]\n",
    "df_list = []\n",
    "\n",
    "for fname in fname_list:\n",
    "    #print(fname)\n",
    "    df_list.append(pd.read_csv(result_path+fname))"
   ]
  },
  {
   "cell_type": "code",
   "execution_count": 7,
   "metadata": {},
   "outputs": [],
   "source": [
    "#Remove single cross validation fold - something went wrong here.\n",
    "df_list[3].drop(index=35,inplace=True)"
   ]
  },
  {
   "cell_type": "code",
   "execution_count": null,
   "metadata": {},
   "outputs": [],
   "source": [
    "col = ['lightcoral','tomato','red','grey',\n",
    "       'lightskyblue','dodgerblue','royalblue']\n",
    "\n",
    "#r'$\\lambda_{te}$ = 0.5 (aug)',r'$\\lambda_{te}$ = 1.0 (aug)',\\\n",
    "lbl = ['3 dim PC-CCA (50,50)',\\\n",
    "       '5 dim PC-CCA (50,50)',\\\n",
    "       '10 dim PC-CCA (50,50)',\\\n",
    "       r'3 dim $\\lambda_{te}$ = 1.0, no augmentation',\\\n",
    "       r'3 dim $\\lambda_{te}$ = 1.0',\\\n",
    "       r'5 dim $\\lambda_{te}$ = 1.0',\\\n",
    "       r'10 dim $\\lambda_{te}$ = 1.0']\n",
    "       \n",
    "\n",
    "h_list=[]\n",
    "plt.figure(figsize=(6,4))\n",
    "for grp,key in enumerate(['XE_from_XE_',\n",
    "                          'XE_from_XT_',\n",
    "                          'XT_from_XT_',\n",
    "                          'XT_from_XE_']):\n",
    "    meas = 'R2_val'\n",
    "    key = key+meas\n",
    "    for i,df in enumerate(df_list):\n",
    "        print(col[i])\n",
    "        plt.bar((i+(8*grp)),np.mean(df[key].values),color=col[i],alpha=0.5)\n",
    "        h = plt.errorbar((i+(8*grp)),np.mean(df[key].values),np.std(df[key].values),marker='o',ms=1,color=col[i],label=lbl[i])\n",
    "\n",
    "        if grp==0:\n",
    "            h_list.append(h) #To get handles for legends\n",
    "            #pass\n",
    "                \n",
    "plt.legend(handles=h_list,labels=lbl)\n",
    "ax = plt.gca()\n",
    "ax.set_ylim(0,0.65)\n",
    "ax.set_xlabel('')\n",
    "ax.set_xticks(np.array([0,1,2,3])*8+2.5)\n",
    "ax.set_xticklabels([r'$X_{e}$ $\\rightarrow$ $\\widetilde{X}_{e}$',\n",
    "                    r'$X_{t}$ $\\rightarrow$ $\\widetilde{X}_{e}$',\n",
    "                    r'$X_{t}$ $\\rightarrow$ $\\widetilde{X}_{t}$',\n",
    "                    r'$X_{e}$ $\\rightarrow$ $\\widetilde{X}_{t}$',])\n",
    "ax.set_ylabel(r'$R^2$')\n",
    "plt.tight_layout()\n",
    "#plt.savefig('/home/rohan/Dropbox/AllenInstitute/CellTypes/doc/Patchseq_NM_2020/reconstruction_dim_dependence.png',dpi=300)\n",
    "plt.show()"
   ]
  },
  {
   "cell_type": "code",
   "execution_count": null,
   "metadata": {},
   "outputs": [],
   "source": []
  },
  {
   "cell_type": "code",
   "execution_count": null,
   "metadata": {},
   "outputs": [],
   "source": []
  },
  {
   "cell_type": "markdown",
   "metadata": {},
   "source": [
    "### Reconstruction error comparisons with CCA, and cplAE with and without augmentation"
   ]
  },
  {
   "cell_type": "code",
   "execution_count": 11,
   "metadata": {},
   "outputs": [],
   "source": [
    "from sklearn.metrics import r2_score as r2\n",
    "import seaborn as sns\n",
    "import scipy.io as sio\n",
    "from pathlib import Path\n",
    "import matplotlib\n",
    "matplotlib.rcParams['pdf.fonttype'] = 42\n",
    "matplotlib.rcParams['ps.fonttype'] = 42 \n",
    "\n",
    "from sklearn.discriminant_analysis import QuadraticDiscriminantAnalysis as QDA\n",
    "sns.set_style('ticks',{'axes.grid' : False}) \n",
    "%matplotlib inline\n",
    "\n",
    "def calc_r2(XT,XE,CVdict):\n",
    "    r2_T_from_T=[]\n",
    "    r2_T_from_E=[]\n",
    "    r2_E_from_E=[]\n",
    "    r2_E_from_T=[]\n",
    "    for cv in CVdict.keys():\n",
    "        ind = CVdict[cv]['val_ind']\n",
    "        r2_T_from_T.append(r2(XT[ind,:], CVdict[cv]['XrT'][ind,:]))\n",
    "        r2_T_from_E.append(r2(XT[ind,:], CVdict[cv]['XrT_from_XE'][ind,:]))\n",
    "        r2_E_from_E.append(r2(XE[ind,:], CVdict[cv]['XrE'][ind,:]))\n",
    "        r2_E_from_T.append(r2(XE[ind,:], CVdict[cv]['XrE_from_XT'][ind,:]))\n",
    "\n",
    "    return [np.mean(x) for x in [r2_E_from_E, r2_E_from_T, r2_T_from_T, r2_T_from_E]],\\\n",
    "           [np.std(x) for x in [r2_E_from_E, r2_E_from_T, r2_T_from_T, r2_T_from_E]],\\\n",
    "           pd.DataFrame({'r2_E_from_E':r2_E_from_E, 'r2_E_from_T':r2_E_from_T, 'r2_T_from_T':r2_T_from_T, 'r2_T_from_E':r2_T_from_E})\n",
    "\n",
    "\n",
    "\n",
    "representation_path = '/home/rohan/Remote-AI/dat/result/TE_CS/'\n",
    "origdata_fname = './refactor/data/proc/PS_v5_beta_0-4_pc_scaled_ipfx_eqTE.mat'\n",
    "htree_fname='./refactor/data/proc/dend_RData_Tree_20181220.csv'\n",
    "O = sio.loadmat(origdata_fname,squeeze_me=True)\n",
    "O['E_pcipxf'] = np.concatenate([O['E_pc_scaled'],O['E_feature']],axis = 1)\n",
    "O['E_pcipxf'][np.isnan(O['E_pcipxf'])]=0\n",
    "XT = O['T_dat'].copy()\n",
    "XE = O['E_pcipxf'].copy()\n",
    "R = {}"
   ]
  },
  {
   "cell_type": "code",
   "execution_count": 12,
   "metadata": {},
   "outputs": [
    {
     "name": "stdout",
     "output_type": "stream",
     "text": [
      "aug 0 best_loss cplAE E->E: 0.502+0.016  T->E: 0.215+0.021  T->T: 0.267+0.005  E->T: 0.086+0.009\n",
      "aug 1 best_loss cplAE E->E: 0.479+0.016  T->E: 0.332+0.020  T->T: 0.260+0.006  E->T: 0.163+0.009\n"
     ]
    }
   ],
   "source": [
    "#Load cplAE CV sets\n",
    "alpha_T=1.0\n",
    "alpha_E=1.0\n",
    "lambda_TE=1.0\n",
    "n_cvfolds=20\n",
    "latent_dim=3\n",
    "\n",
    "for modeltype in ['best_loss']:\n",
    "    for aug in [0,1]:\n",
    "        CVdict={}\n",
    "        key_list = ['XrT','XrT_from_XE','XrE','XrE_from_XT','zE','zT','train_ind','val_ind']\n",
    "        for cv in range(n_cvfolds):\n",
    "            cvfold_fname=(f'CS_Edat_pcipfx_aT_{alpha_T:0.1f}_aE_{alpha_E:0.1f}_cs_{lambda_TE:0.1f}'+\\\n",
    "                          f'_ad_{aug:d}_ld_3_bs_200_se_500_ne_1500_cv_{cv:d}_ri_0_{modeltype}-summary').replace('.','-') + '.mat'\n",
    "\n",
    "            if Path(representation_path+cvfold_fname).is_file(): \n",
    "                X = sio.loadmat(representation_path+cvfold_fname,squeeze_me=True)\n",
    "                CVdict[cv] = {key:X[key] for key in key_list}\n",
    "                del X\n",
    "            else:print(cvfold_fname,'not found')\n",
    "\n",
    "        [avg,std,df] = calc_r2(XT=XT.copy(),XE=XE.copy(),CVdict=CVdict)\n",
    "        print(f'aug {aug} {modeltype} cplAE E->E: {avg[0]:0.3f}+{std[0]:0.3f}  T->E: {avg[1]:0.3f}+{std[1]:0.3f}  T->T: {avg[2]:0.3f}+{std[2]:0.3f}  E->T: {avg[3]:0.3f}+{std[3]:0.3f}')\n",
    "        R[f'ae_{aug}_mean'] = avg\n",
    "        R[f'ae_{aug}_std'] = std\n",
    "        R[f'ae_{aug}_df'] = df"
   ]
  },
  {
   "cell_type": "code",
   "execution_count": 13,
   "metadata": {},
   "outputs": [
    {
     "name": "stdout",
     "output_type": "stream",
     "text": [
      "10-3 pccca E->E: 0.318+0.010  T->E: 0.250+0.014  T->T: 0.136+0.003  E->T: 0.100+0.005\n",
      "20-3 pccca E->E: 0.309+0.011  T->E: 0.258+0.014  T->T: 0.132+0.003  E->T: 0.105+0.005\n",
      "50-3 pccca E->E: 0.302+0.011  T->E: 0.262+0.013  T->T: 0.132+0.003  E->T: 0.110+0.004\n"
     ]
    }
   ],
   "source": [
    "#Load pc-cca CV sets\n",
    "n_cvfolds=20\n",
    "cca_dim=3\n",
    "for pc_dim in [10,20,50]:\n",
    "    \n",
    "    CVdict={}\n",
    "    key_list = ['XrT','XrT_from_XE','XrE','XrE_from_XT','zE','zT','train_ind','val_ind']\n",
    "    for cv in range(n_cvfolds):\n",
    "        cvfold_fname=f'PCCCA_Edat_pcipfx_pcT_{pc_dim}_pcE_{pc_dim}_cca_{cca_dim}_cv_{cv}.mat'\n",
    "\n",
    "        if Path(representation_path+cvfold_fname).is_file(): \n",
    "            X = sio.loadmat(representation_path+cvfold_fname,squeeze_me=True)\n",
    "            CVdict[cv] = {key:X[key] for key in key_list}\n",
    "            del X\n",
    "        else: print(cvfold_fname,'not found')\n",
    "\n",
    "    [avg,std,df] = calc_r2(XT=XT.copy(),XE=XE.copy(),CVdict=CVdict)    \n",
    "    print(f'{pc_dim}-{cca_dim} pccca E->E: {avg[0]:0.3f}+{std[0]:0.3f}  T->E: {avg[1]:0.3f}+{std[1]:0.3f}  T->T: {avg[2]:0.3f}+{std[2]:0.3f}  E->T: {avg[3]:0.3f}+{std[3]:0.3f}')\n",
    "    R[f'pc_{pc_dim}_cca_{cca_dim}_mean'] = avg\n",
    "    R[f'pc_{pc_dim}_cca_{cca_dim}_std'] = std\n",
    "    R[f'pc_{pc_dim}_cca_{cca_dim}_df'] = df"
   ]
  },
  {
   "cell_type": "code",
   "execution_count": 4,
   "metadata": {},
   "outputs": [
    {
     "data": {
      "text/plain": [
       "dict_keys(['ae_0_mean', 'ae_0_std', 'ae_1_mean', 'ae_1_std', 'pc_10_cca_3_mean', 'pc_10_cca_3_std', 'pc_20_cca_3_mean', 'pc_20_cca_3_std', 'pc_50_cca_3_mean', 'pc_50_cca_3_std'])"
      ]
     },
     "execution_count": 4,
     "metadata": {},
     "output_type": "execute_result"
    }
   ],
   "source": [
    "R.keys()"
   ]
  },
  {
   "cell_type": "code",
   "execution_count": 8,
   "metadata": {},
   "outputs": [],
   "source": [
    "import matplotlib\n",
    "# matplotlib.rcParams['pdf.fonttype'] = 42\n",
    "# matplotlib.rcParams['ps.fonttype'] = 42 \n",
    "matplotlib.rc('font', family='sans-serif') \n",
    "matplotlib.rc('font', serif='Helvetica') \n",
    "matplotlib.rc('text', usetex='false') \n",
    "matplotlib.rcParams.update({'font.size': 22})\n",
    "\n",
    "import matplotlib.pyplot as plt\n",
    "import seaborn as sns\n",
    "sns.set_style('ticks',{'axes.grid' : False}) \n",
    "%matplotlib inline\n",
    "import matplotlib.lines as mlines"
   ]
  },
  {
   "cell_type": "code",
   "execution_count": 21,
   "metadata": {},
   "outputs": [
    {
     "data": {
      "image/png": "[encoded data removed]",
      "text/plain": [
       "<Figure size 432x288 with 1 Axes>"
      ]
     },
     "metadata": {
      "needs_background": "light"
     },
     "output_type": "display_data"
    }
   ],
   "source": [
    "lbl = ['']\n",
    "col = ['lightcoral',\n",
    "       'red',\\\n",
    "       'gray',\n",
    "       'dodgerblue']\n",
    "\n",
    "#r'$\\lambda_{te}$ = 0.5 (aug)',r'$\\lambda_{te}$ = 1.0 (aug)',\\\n",
    "lbl = ['PC-CCA (10,10)',\n",
    "       'PC-CCA (50,50)',\\\n",
    "       r'$\\lambda_{te}$ = 1.0 without augmentation',\\\n",
    "       r'$\\lambda_{te}$ = 1.0 with augmentation'] \n",
    "\n",
    "h_list=[]\n",
    "plt.figure(figsize=(6,4))\n",
    "for grp in range(4):\n",
    "    for i,key in enumerate(['pc_10_cca_3_',\n",
    "                            'pc_50_cca_3_',\n",
    "                            'ae_0_',\n",
    "                            'ae_1_']):\n",
    "        x = (i+(8*grp))\n",
    "        plt.bar(x,R[f'{key}mean'][grp],color=col[i],alpha=0.1)\n",
    "        values = R[f'{key}df'][R[f'{key}df'].columns[grp]].values\n",
    "        h = plt.scatter(x = np.array([x]*values.size)+(np.random.rand(values.size,)-0.5)*0.3, \n",
    "                        y = values,\n",
    "                        s=12,c=col[i],alpha=0.4,label=lbl[i],edgecolor='None')\n",
    "        h = plt.errorbar(x,R[f'{key}mean'][grp],R[f'{key}std'][grp],\n",
    "                         marker='.',ms=4, color='k',capsize=4, lw=2, elinewidth=2)\n",
    "        h_leg=mlines.Line2D([], [], color=col[i] ,linestyle='None', marker='o',markersize=5, label=lbl[i])\n",
    "        if grp == 0: h_list.append(h_leg)\n",
    "                \n",
    "plt.legend(handles=h_list,labels=lbl,frameon=False)\n",
    "ax = plt.gca()\n",
    "ax.set_ylim(0,0.65)\n",
    "ax.set_xlabel('')\n",
    "ax.set_xticks(np.array([0,1,2,3])*8+1.5)\n",
    "ax.set_xticklabels([r'$X_{e}$ $\\rightarrow$ $\\widetilde{X}_{e}$',\n",
    "                    r'$X_{t}$ $\\rightarrow$ $\\widetilde{X}_{e}$',\n",
    "                    r'$X_{t}$ $\\rightarrow$ $\\widetilde{X}_{t}$',\n",
    "                    r'$X_{e}$ $\\rightarrow$ $\\widetilde{X}_{t}$',])\n",
    "ax.set_ylabel(r'$R^2$')\n",
    "ax.tick_params(axis='x', which='major', labelsize=15)\n",
    "plt.tight_layout()\n",
    "plt.savefig('../docs/NCS/Fig_ED_4.pdf')\n",
    "plt.savefig('../docs/Fig_ED_4.jpg',dpi=300)\n",
    "plt.show()"
   ]
  },
  {
   "cell_type": "code",
   "execution_count": 26,
   "metadata": {},
   "outputs": [],
   "source": [
    "fname = ['pc-cca-10-10','pc-cca-50-50','No aug','with aug']\n",
    "for i,key in enumerate(['pc_10_cca_3_',\n",
    "                        'pc_50_cca_3_',\n",
    "                        'ae_0_',\n",
    "                        'ae_1_']):\n",
    "\n",
    "    R[f'{key}df'].to_csv(f'../assets/Fig_ED_4_source_data_{fname[i]}.csv',index=False)"
   ]
  }
 ],
 "metadata": {
  "kernelspec": {
   "display_name": "Python 3",
   "language": "python",
   "name": "python3"
  },
  "language_info": {
   "codemirror_mode": {
    "name": "ipython",
    "version": 3
   },
   "file_extension": ".py",
   "mimetype": "text/x-python",
   "name": "python",
   "nbconvert_exporter": "python",
   "pygments_lexer": "ipython3",
   "version": "3.7.0"
  }
 },
 "nbformat": 4,
 "nbformat_minor": 4
}
