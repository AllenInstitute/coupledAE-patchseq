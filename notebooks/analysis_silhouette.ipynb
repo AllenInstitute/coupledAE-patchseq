{
 "cells": [
  {
   "cell_type": "code",
   "execution_count": 1,
   "metadata": {},
   "outputs": [
    {
     "name": "stdout",
     "output_type": "stream",
     "text": [
      "load orig data took 270.11ms\n",
      "load folds took 12.684sec\n"
     ]
    }
   ],
   "source": [
    "from utils.load import load_dataset, load_summary_files, taxonomy_assignments\n",
    "from refactor.utils.compute import silhouette_analysis\n",
    "from timebudget import timebudget\n",
    "\n",
    "fig_path = '/home/rohan/Dropbox/AllenInstitute/CellTypes/doc/NCS/'\n",
    "with timebudget('load orig data'):\n",
    "    O = load_dataset()\n",
    "    \n",
    "with timebudget('load folds'):    \n",
    "    folds_1 = load_summary_files(data_type='NM_cc',lambda_TE=1.0, aug=1, load_gmm=True, fold_list=np.arange(21))\n",
    "    folds_0 = load_summary_files(data_type='NM_cc',lambda_TE=0.0, aug=0, load_gmm=False)"
   ]
  },
  {
   "cell_type": "code",
   "execution_count": 2,
   "metadata": {},
   "outputs": [],
   "source": [
    "mse_E=[]\n",
    "mse_T=[]\n",
    "for i in folds_0.keys():\n",
    "    test_ind = folds_0[i]['test_ind']\n",
    "    mse_E.append(np.mean(((O['XE'][test_ind,:]-folds_0[i]['XrE'][test_ind,:])**2)))\n",
    "    mse_T.append(np.mean(((O['XT'][test_ind,:]-folds_0[i]['XrT'][test_ind,:])**2)))\n",
    "\n",
    "fold_id = np.array(list(folds_0.keys()))\n",
    "best_T_model_key = np.argsort(mse_T)\n",
    "best_T_model_key = fold_id[best_T_model_key]\n",
    "best_E_model_key = np.argsort(mse_E)\n",
    "best_E_model_key = fold_id[best_E_model_key]"
   ]
  },
  {
   "cell_type": "code",
   "execution_count": 3,
   "metadata": {},
   "outputs": [
    {
     "name": "stdout",
     "output_type": "stream",
     "text": [
      "[17 14  2 15 13]\n"
     ]
    }
   ],
   "source": [
    "mse_E=[]\n",
    "mse_T=[]\n",
    "for i in folds_0.keys():\n",
    "    test_ind = folds_1[i]['test_ind']\n",
    "    mse_E.append(np.mean(((O['XE'][test_ind,:]-folds_1[i]['XrE'][test_ind,:])**2)))\n",
    "    mse_T.append(np.mean(((O['XT'][test_ind,:]-folds_1[i]['XrT'][test_ind,:])**2)))\n",
    "\n",
    "fold_id = np.array(list(folds_1.keys()))\n",
    "best_TE_model_key = np.argsort(np.array(mse_T)+np.array(mse_E))\n",
    "best_TE_model_key = fold_id[best_TE_model_key]\n",
    "print(best_TE_model_key[:5])"
   ]
  },
  {
   "cell_type": "code",
   "execution_count": 4,
   "metadata": {},
   "outputs": [],
   "source": [
    "#Based on 95% test cells (calculated in denovo_clustering notebook):\n",
    "best_TE_model_key = np.array([11,17,1,14,10])"
   ]
  },
  {
   "cell_type": "markdown",
   "metadata": {},
   "source": [
    "#### Overall average silhouette scores on test cells with uncoupled representations"
   ]
  },
  {
   "cell_type": "code",
   "execution_count": 5,
   "metadata": {},
   "outputs": [],
   "source": [
    "#Uncoupled zE with different resolution of taxonomy:\n",
    "s_mean_list_E_to_tax=[]\n",
    "s_mean_list_T_to_tax=[]\n",
    "n_classes_list=[]\n",
    "n_best=5\n",
    "\n",
    "for n_required_classes in np.arange(10,54,1):\n",
    "    merged_labels,n_classes = taxonomy_assignments(O['cluster'].copy(),datadict=O.copy(),n_required_classes=n_required_classes, merge_on='well_sampled')\n",
    "    for k in range(n_best):\n",
    "        n_classes_list.append(n_classes)\n",
    "        all_inds = O['well_sampled_ind'].copy()\n",
    "        test_inds = folds_0[best_E_model_key[k]]['well_sampled_test_ind'].copy()\n",
    "\n",
    "        zE = folds_0[best_E_model_key[k]]['zE'][test_inds,:].copy()\n",
    "        lbl = merged_labels[test_inds].copy()\n",
    "        df_E_sample,df_E_label = silhouette_analysis(z=zE,lbl=lbl)\n",
    "        s_mean_list_E_to_tax.append(df_E_sample['sil'].mean())\n",
    "        \n",
    "        zT = folds_0[best_T_model_key[k]]['zT'][test_inds,:].copy()\n",
    "        lbl = merged_labels[test_inds].copy()\n",
    "        df_T_sample,df_T_label = silhouette_analysis(z=zT,lbl=lbl)\n",
    "        s_mean_list_T_to_tax.append(df_T_sample['sil'].mean())"
   ]
  },
  {
   "cell_type": "code",
   "execution_count": 6,
   "metadata": {},
   "outputs": [],
   "source": [
    "df = pd.DataFrame({'sil_E':s_mean_list_E_to_tax,'sil_T':s_mean_list_T_to_tax,'n_classes':n_classes_list})\n",
    "df_n_class = df.groupby('n_classes').agg([np.mean,np.std]).reset_index()\n",
    "df_n_class = df_n_class.loc[df_n_class['n_classes']>25]"
   ]
  },
  {
   "cell_type": "code",
   "execution_count": 7,
   "metadata": {},
   "outputs": [],
   "source": [
    "import matplotlib.pyplot as plt"
   ]
  },
  {
   "cell_type": "markdown",
   "metadata": {},
   "source": [
    "Markdown - storing source data script\n",
    "\n",
    "```\n",
    "x = df_n_class['n_classes'].values\n",
    "y = df_n_class['sil_T']['mean'].values\n",
    "std = df_n_class['sil_T']['std'].values\n",
    "df = pd.DataFrame({'x':x,'y':y,'std':std})\n",
    "df.to_csv(fig_path+'Source_data_Fig_Ed_8a.csv',index=False)\n",
    "\n",
    "x = df_n_class['n_classes'].values\n",
    "y = df_n_class['sil_E']['mean'].values\n",
    "std = df_n_class['sil_E']['std'].values\n",
    "df = pd.DataFrame({'x':x,'y':y,'std':std})\n",
    "df.to_csv(fig_path+'Source_data_Fig_Ed_8b.csv',index=False)\n",
    "```"
   ]
  },
  {
   "cell_type": "code",
   "execution_count": 30,
   "metadata": {},
   "outputs": [
    {
     "data": {
      "image/png": "[encoded data removed]",
      "text/plain": [
       "<Figure size 288x288 with 1 Axes>"
      ]
     },
     "metadata": {
      "needs_background": "light"
     },
     "output_type": "display_data"
    }
   ],
   "source": [
    "plt.figure(figsize = (4,4))\n",
    "plt.errorbar(df_n_class['n_classes'].values,df_n_class['sil_T']['mean'].values,df_n_class['sil_T']['std'].values,\n",
    "             color='darkblue',label=r'$X_{t}$ $\\rightarrow$ ref. taxonomy',\n",
    "             linestyle='-',marker='.',ms=5)\n",
    "plt.errorbar(df_n_class['n_classes'].values,df_n_class['sil_E']['mean'].values,df_n_class['sil_T']['std'].values,\n",
    "             color='lightskyblue',label=r'$X_{e}$ $\\rightarrow$ ref. taxonomy',\n",
    "             linestyle='-',marker='.',ms=5)\n",
    "\n",
    "ax = plt.gca()\n",
    "ax.set_ylabel('Average silhouette score')\n",
    "ax.set_xlabel('Number of classes in merged taxonomy')\n",
    "ax.set_xticks(np.arange(30,55,5))\n",
    "ax.set_ylim(-0.3,0.3)\n",
    "plt.legend(frameon=False)\n",
    "plt.tight_layout()\n",
    "#plt.savefig(fig_path+f'avg_silhouette_scores_taxonomy_best_{n_best:d}.pdf',dpi=300)\n",
    "plt.savefig(fig_path+f'Fig_ED_8.jpg',dpi=300)\n",
    "plt.savefig(fig_path+f'Fig_ED_8.pdf')\n",
    "plt.show()"
   ]
  },
  {
   "cell_type": "markdown",
   "metadata": {},
   "source": [
    "#### Coupled representations with GMM labels and 33-taxonomy"
   ]
  },
  {
   "cell_type": "code",
   "execution_count": 10,
   "metadata": {},
   "outputs": [],
   "source": [
    "df_sample_list_E_gmm= []\n",
    "df_label_list_E_gmm = []\n",
    "\n",
    "df_sample_list_T_gmm = []\n",
    "df_label_list_T_gmm = []\n",
    "\n",
    "df_sample_list_E_tax= []\n",
    "df_label_list_E_tax = []\n",
    "\n",
    "df_sample_list_T_tax = []\n",
    "df_label_list_T_tax = []\n",
    "\n",
    "tax_labels,n_classes = taxonomy_assignments(O['cluster'].copy(),datadict=O.copy(),n_required_classes=33, merge_on='well_sampled')\n",
    "\n",
    "for k in range(n_best):\n",
    "    all_inds = O['well_sampled_ind'].copy()\n",
    "    test_inds = folds_1[best_TE_model_key[k]]['well_sampled_test_ind'].copy()\n",
    "    \n",
    "    #zE -> Gmm E\n",
    "    zE = folds_1[best_TE_model_key[k]]['zE'][test_inds,:].copy()\n",
    "    lbl = folds_1[best_TE_model_key[k]]['ccE_lbl_matched'][test_inds].copy()\n",
    "    df_sample,df_label = silhouette_analysis(z=zE,lbl=lbl)\n",
    "    df_sample_list_E_gmm.append(df_sample)\n",
    "    df_label_list_E_gmm.append(df_label)\n",
    "    \n",
    "    #zE -> taxonomy\n",
    "    zE = folds_1[best_TE_model_key[k]]['zE'][test_inds,:].copy()\n",
    "    lbl = tax_labels.copy()[test_inds]\n",
    "    df_sample,df_label = silhouette_analysis(z=zE,lbl=lbl)\n",
    "    df_sample_list_E_tax.append(df_sample)\n",
    "    df_label_list_E_tax.append(df_label)\n",
    "    \n",
    "    #zT -> Gmm T\n",
    "    zT = folds_1[best_TE_model_key[k]]['zT'][test_inds,:].copy()\n",
    "    lbl = folds_1[best_TE_model_key[k]]['ccT_lbl_matched'][test_inds].copy()\n",
    "    df_sample,df_label = silhouette_analysis(z=zT,lbl=lbl)\n",
    "    df_sample_list_T_gmm.append(df_sample)\n",
    "    df_label_list_T_gmm.append(df_label)\n",
    "    \n",
    "    #zT -> taxonomy\n",
    "    zT = folds_1[best_TE_model_key[k]]['zT'][test_inds,:].copy()\n",
    "    lbl = tax_labels.copy()[test_inds]\n",
    "    df_sample,df_label = silhouette_analysis(z=zT,lbl=lbl)\n",
    "    df_sample_list_T_tax.append(df_sample)\n",
    "    df_label_list_T_tax.append(df_label)"
   ]
  },
  {
   "cell_type": "code",
   "execution_count": 11,
   "metadata": {},
   "outputs": [
    {
     "name": "stdout",
     "output_type": "stream",
     "text": [
      "Coupled E rep. with GMM: s = 0.044 + 0.017\n",
      "Coupled T rep. with GMM: s = 0.235 + 0.009\n",
      "Coupled E rep. with taxonomy: s = -0.133 + 0.008\n",
      "Coupled T rep. with taxonomy: s = 0.135 + 0.009\n"
     ]
    }
   ],
   "source": [
    "s_tax_coupled = np.array([df['sil'].mean() for df in df_sample_list_E_gmm])\n",
    "print(f'Coupled E rep. with GMM: s = {np.mean(s_tax_coupled):0.3f} + {np.std(s_tax_coupled):0.3f}')\n",
    "\n",
    "s_tax_coupled = np.array([df['sil'].mean() for df in df_sample_list_T_gmm])\n",
    "print(f'Coupled T rep. with GMM: s = {np.mean(s_tax_coupled):0.3f} + {np.std(s_tax_coupled):0.3f}')\n",
    "\n",
    "s_tax_coupled = np.array([df['sil'].mean() for df in df_sample_list_E_tax])\n",
    "print(f'Coupled E rep. with taxonomy: s = {np.mean(s_tax_coupled):0.3f} + {np.std(s_tax_coupled):0.3f}')\n",
    "\n",
    "s_tax_coupled = np.array([df['sil'].mean() for df in df_sample_list_T_tax])\n",
    "print(f'Coupled T rep. with taxonomy: s = {np.mean(s_tax_coupled):0.3f} + {np.std(s_tax_coupled):0.3f}')"
   ]
  },
  {
   "cell_type": "markdown",
   "metadata": {},
   "source": [
    "#### Uncoupled representation with 33-label taxonomy"
   ]
  },
  {
   "cell_type": "code",
   "execution_count": 12,
   "metadata": {},
   "outputs": [],
   "source": [
    "df_sample_list_E_tax_unc = []\n",
    "df_label_list_E_tax_unc = []\n",
    "\n",
    "df_sample_list_T_tax_unc = []\n",
    "df_label_list_T_tax_unc = []\n",
    "\n",
    "tax_labels,n_classes = taxonomy_assignments(O['cluster'].copy(),datadict=O.copy(),n_required_classes=33, merge_on='well_sampled')\n",
    "\n",
    "for i in folds_0.keys():\n",
    "    \n",
    "    zE = folds_0[i]['zE'][test_inds,:].copy()\n",
    "    lbl = tax_labels.copy()[test_inds]\n",
    "    df_sample,df_label = silhouette_analysis(z=zE,lbl=lbl)\n",
    "    df_sample_list_E_tax_unc.append(df_sample)\n",
    "    df_label_list_E_tax_unc.append(df_label)\n",
    "    \n",
    "    zT = folds_1[i]['zT'][test_inds,:].copy()\n",
    "    lbl = tax_labels.copy()[test_inds]\n",
    "    df_sample,df_label = silhouette_analysis(z=zT,lbl=lbl)\n",
    "    df_sample_list_T_tax_unc.append(df_sample)\n",
    "    df_label_list_T_tax_unc.append(df_label)"
   ]
  },
  {
   "cell_type": "code",
   "execution_count": 13,
   "metadata": {},
   "outputs": [
    {
     "name": "stdout",
     "output_type": "stream",
     "text": [
      "Uncoupled E rep. with taxonomy: s = -0.188 + 0.026\n",
      "Uncoupled T rep. with taxonomy: s = 0.132 + 0.022\n"
     ]
    }
   ],
   "source": [
    "s_tax_unc = np.array([df['sil'].mean() for df in df_sample_list_E_tax_unc])\n",
    "print(f'Uncoupled E rep. with taxonomy: s = {np.mean(s_tax_unc):0.3f} + {np.std(s_tax_unc):0.3f}')\n",
    "\n",
    "s_tax_unc = np.array([df['sil'].mean() for df in df_sample_list_T_tax_unc])\n",
    "print(f'Uncoupled T rep. with taxonomy: s = {np.mean(s_tax_unc):0.3f} + {np.std(s_tax_unc):0.3f}')"
   ]
  },
  {
   "cell_type": "code",
   "execution_count": 14,
   "metadata": {},
   "outputs": [
    {
     "name": "stdout",
     "output_type": "stream",
     "text": [
      "Consensus    0.10 + 0.28\n",
      "Taxonomy 33   -0.17 + 0.28\n"
     ]
    }
   ],
   "source": [
    "x = np.mean(df_label_list_E_gmm[0][\"sil\"][\"mean\"].values)\n",
    "y = np.std(df_label_list_E_gmm[0][\"sil\"][\"mean\"].values)\n",
    "print(f'Consensus    {x:0.2f} + {y:0.2f}')\n",
    "x=np.mean(df_label_list_E_tax[0]['sil']['mean'].values)\n",
    "y=np.std(df_label_list_E_tax[0]['sil']['mean'].values)\n",
    "print(f'Taxonomy 33   {x:0.2f} + {y:0.2f}')"
   ]
  },
  {
   "cell_type": "code",
   "execution_count": 26,
   "metadata": {},
   "outputs": [],
   "source": [
    "df_csv = pd.DataFrame({'consensus_lbl':df_label_list_E_gmm[0]['sil']['mean'].values,\n",
    "                       'reference_lbl':df_label_list_E_tax[0]['sil']['mean'].values,\n",
    "                       'reference_lbl_unc':df_label_list_E_tax_unc[0]['sil']['mean'].values})\n",
    "df_csv.to_csv(fig_path+'Fig_3e_source.csv',index=True)\n",
    "\n",
    "df_csv = pd.DataFrame({'consensus_lbl':df_label_list_T_gmm[0]['sil']['mean'].values,\n",
    "                       'reference_lbl':df_label_list_T_tax[0]['sil']['mean'].values,\n",
    "                       'reference_lbl_unc':df_label_list_T_tax_unc[0]['sil']['mean'].values})\n",
    "df_csv.to_csv(fig_path+'Fig_3d_source.csv',index=True)"
   ]
  },
  {
   "cell_type": "code",
   "execution_count": 37,
   "metadata": {},
   "outputs": [],
   "source": [
    "import seaborn as sns\n",
    "sns.set()\n",
    "sns.set_style('ticks',{'axes.grid' : False}) \n",
    "%matplotlib inline"
   ]
  },
  {
   "cell_type": "code",
   "execution_count": 56,
   "metadata": {},
   "outputs": [
    {
     "data": {
      "image/png": "[encoded data removed]",
      "text/plain": [
       "<Figure size 216x432 with 1 Axes>"
      ]
     },
     "metadata": {
      "needs_background": "light"
     },
     "output_type": "display_data"
    }
   ],
   "source": [
    "fs = 15\n",
    "plt.figure(figsize=(3,6))\n",
    "col=['dodgerblue','firebrick','silver']\n",
    "plt.plot(df_label_list_E_gmm[0]['sil']['mean'].values, lw=2, color=col[0],label=r'consensus labels')\n",
    "#plt.plot(df_label_list_E_tax[0]['sil']['mean'].values,lw=2, color=col[1],label=r'ref. taxonomy (33)')\n",
    "plt.plot(df_label_list_E_tax_unc[0]['sil']['mean'].values, lw=2, color=col[2],label=r'ref. taxonomy (33)')\n",
    "\n",
    "\n",
    "ax = plt.gca()\n",
    "ax.set_title(r'$z_e$',fontsize=fs)\n",
    "ax.set_xlabel('Sorted labels',fontsize=fs)\n",
    "#ax.set_ylabel('Avgerage silhouette score per label',fontsize=fs)\n",
    "ax.set_ylabel(' ',fontsize=fs)\n",
    "#ax.set_ylabel('Avgerage silhouette score per label',fontsize=fs,rotation=-90)\n",
    "#ax.yaxis.set_label_position(\"right\")\n",
    "#ax.yaxis.tick_right()\n",
    "ax.set_ylim(-1,1)\n",
    "ax.set_yticks([-1,0,1])\n",
    "ax.set_xticks([0,15,30])\n",
    "#ax.set_yticklabels([' ',' ',' '])\n",
    "plt.setp(ax.get_xticklabels(), fontsize=fs)\n",
    "plt.setp(ax.get_yticklabels(), fontsize=fs)\n",
    "#plt.legend(fontsize=12,frameon=False)\n",
    "plt.tight_layout()\n",
    "#plt.savefig(fig_path+f'gmm_labels_vs_taxonomy33_ze.png',dpi=300)\n",
    "#plt.savefig(fig_path+f'Fig_3e.pdf')\n",
    "plt.savefig(fig_path+f'Fig_ED_8c.pdf')\n",
    "plt.show()"
   ]
  },
  {
   "cell_type": "code",
   "execution_count": 53,
   "metadata": {},
   "outputs": [
    {
     "name": "stdout",
     "output_type": "stream",
     "text": [
      "Consensus    0.23 + 0.27\n",
      "Taxonomy 33   0.02 + 0.33\n"
     ]
    },
    {
     "data": {
      "image/png": "[encoded data removed]",
      "text/plain": [
       "<Figure size 216x432 with 1 Axes>"
      ]
     },
     "metadata": {
      "needs_background": "light"
     },
     "output_type": "display_data"
    }
   ],
   "source": [
    "plt.figure(figsize=(3,6))\n",
    "\n",
    "plt.plot(df_label_list_T_gmm[0]['sil']['mean'].values,  lw=2,  color=col[0],label=r'consensus labels'+'\\n'+ r'$\\lambda_{te}=1.0$')\n",
    "#plt.plot(df_label_list_T_tax[0]['sil']['mean'].values,  lw=2,  color=col[1],label=r'ref. taxonomy (33)')\n",
    "plt.plot(df_label_list_T_tax_unc[0]['sil']['mean'].values,  lw=2,  color=col[2],label=r'ref. taxonomy (33)'+'\\n'+ r'$\\lambda_{te}=0.0$')\n",
    "\n",
    "x = np.mean(df_label_list_T_gmm[0][\"sil\"][\"mean\"].values)\n",
    "y = np.std(df_label_list_T_gmm[0][\"sil\"][\"mean\"].values)\n",
    "print(f'Consensus    {x:0.2f} + {y:0.2f}')\n",
    "x=np.mean(df_label_list_T_tax[0]['sil']['mean'].values)\n",
    "y=np.std(df_label_list_T_tax[0]['sil']['mean'].values)\n",
    "print(f'Taxonomy 33   {x:0.2f} + {y:0.2f}')\n",
    "\n",
    "\n",
    "ax = plt.gca()\n",
    "ax.set_title(r'$z_t$',fontsize=fs)\n",
    "ax.set_xlabel('Sorted labels',fontsize=fs)\n",
    "#ax.set_ylabel('Avgerage silhouette score per label',fontsize=fs,rotation=-90)\n",
    "# ax.yaxis.set_label_position(\"right\")\n",
    "# ax.yaxis.tick_right()\n",
    "ax.set_ylabel('Avgerage silhouette score per label',fontsize=fs)\n",
    "ax.set_ylim(-1,1)\n",
    "ax.set_yticks([-1,0,1])\n",
    "ax.set_xticks([0,15,30])\n",
    "plt.setp(ax.get_xticklabels(), fontsize=fs)\n",
    "plt.setp(ax.get_yticklabels(), fontsize=fs)\n",
    "plt.tight_layout()\n",
    "#plt.savefig(fig_path+f'gmm_labels_vs_taxonomy33_zt.png',dpi=300)\n",
    "#plt.savefig(fig_path+f'Fig_3d.pdf')\n",
    "plt.legend(fontsize=10,frameon=False)\n",
    "plt.savefig(fig_path+f'Fig_ED_8b.pdf')\n",
    "plt.show()"
   ]
  },
  {
   "cell_type": "code",
   "execution_count": 12,
   "metadata": {},
   "outputs": [],
   "source": [
    "n_worst=10\n",
    "unreliable_clusters = np.intersect1d(df_label_list_T_gmm[0][0:n_worst]['lbl'].values,df_label_list_E_gmm[0][0:n_worst]['lbl'].values)"
   ]
  },
  {
   "cell_type": "code",
   "execution_count": 13,
   "metadata": {},
   "outputs": [
    {
     "data": {
      "text/html": [
       "<div>\n",
       "<style scoped>\n",
       "    .dataframe tbody tr th:only-of-type {\n",
       "        vertical-align: middle;\n",
       "    }\n",
       "\n",
       "    .dataframe tbody tr th {\n",
       "        vertical-align: top;\n",
       "    }\n",
       "\n",
       "    .dataframe thead tr th {\n",
       "        text-align: left;\n",
       "    }\n",
       "</style>\n",
       "<table border=\"1\" class=\"dataframe\">\n",
       "  <thead>\n",
       "    <tr>\n",
       "      <th></th>\n",
       "      <th>lbl</th>\n",
       "      <th colspan=\"2\" halign=\"left\">sil</th>\n",
       "    </tr>\n",
       "    <tr>\n",
       "      <th></th>\n",
       "      <th></th>\n",
       "      <th>mean</th>\n",
       "      <th>std</th>\n",
       "    </tr>\n",
       "  </thead>\n",
       "  <tbody>\n",
       "    <tr>\n",
       "      <th>0</th>\n",
       "      <td>1</td>\n",
       "      <td>-0.668872</td>\n",
       "      <td>0.154438</td>\n",
       "    </tr>\n",
       "    <tr>\n",
       "      <th>1</th>\n",
       "      <td>13</td>\n",
       "      <td>-0.347262</td>\n",
       "      <td>0.134515</td>\n",
       "    </tr>\n",
       "    <tr>\n",
       "      <th>2</th>\n",
       "      <td>9</td>\n",
       "      <td>-0.296254</td>\n",
       "      <td>0.112122</td>\n",
       "    </tr>\n",
       "    <tr>\n",
       "      <th>3</th>\n",
       "      <td>28</td>\n",
       "      <td>-0.253059</td>\n",
       "      <td>0.193271</td>\n",
       "    </tr>\n",
       "    <tr>\n",
       "      <th>4</th>\n",
       "      <td>7</td>\n",
       "      <td>-0.211839</td>\n",
       "      <td>0.200849</td>\n",
       "    </tr>\n",
       "    <tr>\n",
       "      <th>6</th>\n",
       "      <td>17</td>\n",
       "      <td>-0.092525</td>\n",
       "      <td>0.150189</td>\n",
       "    </tr>\n",
       "    <tr>\n",
       "      <th>9</th>\n",
       "      <td>24</td>\n",
       "      <td>0.001514</td>\n",
       "      <td>0.190524</td>\n",
       "    </tr>\n",
       "  </tbody>\n",
       "</table>\n",
       "</div>"
      ],
      "text/plain": [
       "  lbl       sil          \n",
       "           mean       std\n",
       "0   1 -0.668872  0.154438\n",
       "1  13 -0.347262  0.134515\n",
       "2   9 -0.296254  0.112122\n",
       "3  28 -0.253059  0.193271\n",
       "4   7 -0.211839  0.200849\n",
       "6  17 -0.092525  0.150189\n",
       "9  24  0.001514  0.190524"
      ]
     },
     "execution_count": 13,
     "metadata": {},
     "output_type": "execute_result"
    }
   ],
   "source": [
    "df_label_list_E_gmm[0][df_label_list_E_gmm[0]['lbl'].isin(unreliable_clusters)]"
   ]
  },
  {
   "cell_type": "code",
   "execution_count": 14,
   "metadata": {},
   "outputs": [
    {
     "data": {
      "text/html": [
       "<div>\n",
       "<style scoped>\n",
       "    .dataframe tbody tr th:only-of-type {\n",
       "        vertical-align: middle;\n",
       "    }\n",
       "\n",
       "    .dataframe tbody tr th {\n",
       "        vertical-align: top;\n",
       "    }\n",
       "\n",
       "    .dataframe thead tr th {\n",
       "        text-align: left;\n",
       "    }\n",
       "</style>\n",
       "<table border=\"1\" class=\"dataframe\">\n",
       "  <thead>\n",
       "    <tr>\n",
       "      <th></th>\n",
       "      <th>lbl</th>\n",
       "      <th colspan=\"2\" halign=\"left\">sil</th>\n",
       "    </tr>\n",
       "    <tr>\n",
       "      <th></th>\n",
       "      <th></th>\n",
       "      <th>mean</th>\n",
       "      <th>std</th>\n",
       "    </tr>\n",
       "  </thead>\n",
       "  <tbody>\n",
       "    <tr>\n",
       "      <th>0</th>\n",
       "      <td>1</td>\n",
       "      <td>-0.433628</td>\n",
       "      <td>0.335519</td>\n",
       "    </tr>\n",
       "    <tr>\n",
       "      <th>1</th>\n",
       "      <td>7</td>\n",
       "      <td>-0.304104</td>\n",
       "      <td>0.206137</td>\n",
       "    </tr>\n",
       "    <tr>\n",
       "      <th>2</th>\n",
       "      <td>9</td>\n",
       "      <td>-0.270276</td>\n",
       "      <td>0.086487</td>\n",
       "    </tr>\n",
       "    <tr>\n",
       "      <th>3</th>\n",
       "      <td>13</td>\n",
       "      <td>-0.260740</td>\n",
       "      <td>0.212850</td>\n",
       "    </tr>\n",
       "    <tr>\n",
       "      <th>4</th>\n",
       "      <td>28</td>\n",
       "      <td>-0.181354</td>\n",
       "      <td>0.198278</td>\n",
       "    </tr>\n",
       "    <tr>\n",
       "      <th>6</th>\n",
       "      <td>17</td>\n",
       "      <td>0.013605</td>\n",
       "      <td>0.284825</td>\n",
       "    </tr>\n",
       "    <tr>\n",
       "      <th>9</th>\n",
       "      <td>24</td>\n",
       "      <td>0.141834</td>\n",
       "      <td>0.236050</td>\n",
       "    </tr>\n",
       "  </tbody>\n",
       "</table>\n",
       "</div>"
      ],
      "text/plain": [
       "  lbl       sil          \n",
       "           mean       std\n",
       "0   1 -0.433628  0.335519\n",
       "1   7 -0.304104  0.206137\n",
       "2   9 -0.270276  0.086487\n",
       "3  13 -0.260740  0.212850\n",
       "4  28 -0.181354  0.198278\n",
       "6  17  0.013605  0.284825\n",
       "9  24  0.141834  0.236050"
      ]
     },
     "execution_count": 14,
     "metadata": {},
     "output_type": "execute_result"
    }
   ],
   "source": [
    "df_label_list_T_gmm[0][df_label_list_T_gmm[0]['lbl'].isin(unreliable_clusters)]"
   ]
  },
  {
   "cell_type": "code",
   "execution_count": null,
   "metadata": {},
   "outputs": [],
   "source": []
  }
 ],
 "metadata": {
  "kernelspec": {
   "display_name": "Python 3",
   "language": "python",
   "name": "python3"
  },
  "language_info": {
   "codemirror_mode": {
    "name": "ipython",
    "version": 3
   },
   "file_extension": ".py",
   "mimetype": "text/x-python",
   "name": "python",
   "nbconvert_exporter": "python",
   "pygments_lexer": "ipython3",
   "version": "3.7.0"
  }
 },
 "nbformat": 4,
 "nbformat_minor": 4
}
