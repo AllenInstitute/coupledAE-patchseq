{
 "cells": [
  {
   "cell_type": "markdown",
   "metadata": {},
   "source": [
    "Differences compared to NeurIPS version:\n",
    "\n",
    " - Dataset only has inhibitory cells now\n",
    " - E dataset has new features\n",
    " - sPC loadings are scaled differently\n",
    " - QDA is performed independently for each cut (instead of pooling probabilities)"
   ]
  },
  {
   "cell_type": "code",
   "execution_count": 1,
   "metadata": {},
   "outputs": [],
   "source": [
    "import numpy as np\n",
    "import pandas as pd\n",
    "import matplotlib.pyplot as plt\n",
    "import seaborn as sns\n",
    "import scipy.io as sio\n",
    "from timebudget import timebudget\n",
    "from copy import deepcopy\n",
    "from pathlib import Path\n",
    "from tqdm import tqdm\n",
    "\n",
    "from sklearn.discriminant_analysis import QuadraticDiscriminantAnalysis as QDA\n",
    "from sklearn.dummy import DummyClassifier\n",
    "from sklearn.metrics import accuracy_score\n",
    "\n",
    "sns.set()\n",
    "sns.set_style('ticks',{'axes.grid' : False}) \n",
    "%matplotlib inline\n",
    "\n",
    "from utils.tree_helpers import get_merged_ordered_classes"
   ]
  },
  {
   "cell_type": "markdown",
   "metadata": {},
   "source": [
    "**QDA with coupled autoencoder representations**"
   ]
  },
  {
   "cell_type": "code",
   "execution_count": 2,
   "metadata": {},
   "outputs": [
    {
     "name": "stderr",
     "output_type": "stream",
     "text": [
      "100%|██████████| 44/44 [00:26<00:00,  1.63it/s]\n"
     ]
    }
   ],
   "source": [
    "representation_pth = '/home/rohan/Remote-AI/dat/result/TE_NM/'\n",
    "origdata_pth = '/home/rohan/Remote-AI/dat/raw/patchseq-v4/PS_v5_beta_0-4_pc_scaled_ipxf_eqTE.mat'\n",
    "htree_file='/home/rohan/Dropbox/AllenInstitute/CellTypes/dat/raw/patchseq-v4/dend_RData_Tree_20181220.csv'\n",
    "O = sio.loadmat(origdata_pth,squeeze_me=True)\n",
    "\n",
    "#Representations\n",
    "alpha_T=1.0\n",
    "alpha_E=1.0\n",
    "lambda_TE=1.0\n",
    "n_cvfolds=44\n",
    "latent_dim=3\n",
    "aug = 1\n",
    "\n",
    "#Load all CV sets\n",
    "CVdict={}\n",
    "key_list = ['zE','zT','train_ind','val_ind','test_ind']\n",
    "for cv in tqdm(range(n_cvfolds)):\n",
    "    cvfold_fname=(f'NM_Edat_pcipfx_aT_{alpha_T:0.1f}_aE_{alpha_E:0.1f}_cs_{lambda_TE:0.1f}'+\\\n",
    "                  f'_ad_{aug:d}_ld_3_bs_200_se_500_ne_1500_cv_{cv:d}_ri_0_500_ft-summary').replace('.','-') + '.mat'\n",
    "    \n",
    "    if Path(representation_pth+cvfold_fname).is_file(): \n",
    "        X = sio.loadmat(representation_pth+cvfold_fname,squeeze_me=True)\n",
    "        CVdict[cv] = {key:X[key] for key in key_list}\n",
    "        del X\n",
    "    else:\n",
    "        print(cvfold_fname,'not found')"
   ]
  },
  {
   "cell_type": "code",
   "execution_count": 5,
   "metadata": {},
   "outputs": [],
   "source": [
    "a = (list(zip(a,b))).sort(key=lambda x: x[1])"
   ]
  },
  {
   "cell_type": "code",
   "execution_count": 9,
   "metadata": {},
   "outputs": [],
   "source": [
    "(a,b) = np.unique(O['cluster'],return_counts=True)\n",
    "s = list(zip(a,b))\n",
    "s.sort(key=lambda x: x[1])"
   ]
  },
  {
   "cell_type": "code",
   "execution_count": null,
   "metadata": {},
   "outputs": [],
   "source": [
    "n_min_samples = 6\n",
    "dummy_most_freq = DummyClassifier(strategy=\"most_frequent\")\n",
    "dummy_prior = DummyClassifier(strategy=\"stratified\")\n",
    "\n",
    "fiton = 'zT'\n",
    "\n",
    "for cv in tqdm(CVdict.keys()):\n",
    "    D = CVdict[cv]\n",
    "    CVdict[cv]['qda'] = {}\n",
    "    CVdict[cv]['qda']['n_components'] = []\n",
    "    CVdict[cv]['qda']['n_htree_classes'] = []\n",
    "    CVdict[cv]['qda']['acc_train'] = []\n",
    "    CVdict[cv]['qda']['acc_val'] = []\n",
    "    CVdict[cv]['qda']['acc_test'] = []\n",
    "    CVdict[cv]['qda']['acc_most_freq'] = []\n",
    "    CVdict[cv]['qda']['acc_prior'] = []\n",
    "    \n",
    "    for n_classes in [59]:#np.arange(5,61,5):\n",
    "        \n",
    "        merged_labels, _ = get_merged_ordered_classes(data_labels=deepcopy(O['cluster']),\n",
    "                                                      htree_file=htree_file,\n",
    "                                                      n_required_classes=n_classes)\n",
    "        \n",
    "        X_train = deepcopy(D[fiton][D['train_ind']])\n",
    "        y_train = deepcopy(merged_labels[D['train_ind']])\n",
    "        ind_train = np.arange(0,np.shape(X_train)[0])\n",
    "\n",
    "        X_val   = deepcopy(D[fiton][D['val_ind']])\n",
    "        y_val   = deepcopy(merged_labels[D['val_ind']])\n",
    "        ind_val = np.arange(0,np.shape(X_val)[0])\n",
    "\n",
    "        X_test   = deepcopy(D[fiton][D['test_ind']])\n",
    "        y_test   = deepcopy(merged_labels[D['test_ind']])\n",
    "        ind_test = np.arange(0,np.shape(X_test)[0])\n",
    "\n",
    "        #Remove types with low sample counts in training set\n",
    "        df = pd.DataFrame({'ind':ind_train,'lbl':y_train})\n",
    "        df_train = df[df.groupby('lbl')['lbl'].transform('count').ge(n_min_samples)]\n",
    "        keep_ind = df_train['ind'].values\n",
    "        X_train = X_train[keep_ind,:]\n",
    "        y_train = y_train[keep_ind]\n",
    "\n",
    "        #Print types that were removed\n",
    "        df_train_del = df[df.groupby('lbl')['lbl'].transform('count').lt(n_min_samples)]\n",
    "        print(df_train_del['lbl'].value_counts())\n",
    "        \n",
    "        #Remove types from validation set that are not represented in the training set\n",
    "        df = pd.DataFrame({'ind':ind_val,'lbl':y_val})\n",
    "        df_val = df[df['lbl'].isin(y_train)]\n",
    "        keep_ind = df_val['ind'].values\n",
    "        X_val = X_val[keep_ind,:]\n",
    "        y_val = y_val[keep_ind]\n",
    "\n",
    "        #Remove types from test set that are not represented in the training set\n",
    "        df = pd.DataFrame({'ind':ind_test,'lbl':y_test})\n",
    "        df_test = df[df['lbl'].isin(y_test)]\n",
    "        keep_ind = df_test['ind'].values\n",
    "        X_test = X_test[keep_ind,:]\n",
    "        y_test = y_test[keep_ind]\n",
    "\n",
    "        #QDA related metrics\n",
    "        n_lbls = np.size(np.unique(y_train))\n",
    "        qda = QDA(reg_param=1e-2,store_covariance=True)\n",
    "        qda.fit(X_train,y_train)\n",
    "        y_train_pred = qda.predict(X_train)\n",
    "        y_val_pred = qda.predict(X_val)\n",
    "        y_test_pred = qda.predict(X_test)\n",
    "        CVdict[cv]['qda']['n_htree_classes'].append(n_classes)\n",
    "        CVdict[cv]['qda']['n_components'].append(np.unique(qda.classes_).size)\n",
    "        CVdict[cv]['qda']['acc_train'].append(accuracy_score(y_train, y_train_pred))\n",
    "        CVdict[cv]['qda']['acc_val'].append(accuracy_score(y_val, y_val_pred))\n",
    "        CVdict[cv]['qda']['acc_test'].append(accuracy_score(y_test, y_test_pred))\n",
    "            \n",
    "        #For dummy classifiers\n",
    "        dummy_most_freq.fit(D[fiton],merged_labels)\n",
    "        most_freq_pred=dummy_most_freq.predict(D[fiton])\n",
    "        dummy_prior.fit(D[fiton],merged_labels)\n",
    "        prior_pred=dummy_prior.predict(D[fiton])\n",
    "        CVdict[cv]['qda']['acc_most_freq'].append(accuracy_score(merged_labels, most_freq_pred))\n",
    "        CVdict[cv]['qda']['acc_prior'].append(accuracy_score(merged_labels, prior_pred))"
   ]
  },
  {
   "cell_type": "code",
   "execution_count": 5,
   "metadata": {},
   "outputs": [],
   "source": [
    "train_acc = []\n",
    "test_acc = []\n",
    "val_acc = []\n",
    "n_components = []\n",
    "dummy_prior_acc=[]\n",
    "dummy_most_freq_acc=[]\n",
    "for cv in CVdict.keys():\n",
    "    train_acc.extend(CVdict[cv]['qda']['acc_train'])\n",
    "    test_acc.extend(CVdict[cv]['qda']['acc_test'])\n",
    "    val_acc.extend(CVdict[cv]['qda']['acc_val'])\n",
    "    n_components.extend(CVdict[cv]['qda']['n_components'])\n",
    "    \n",
    "    #For dummy classifiers\n",
    "    dummy_most_freq_acc.extend(CVdict[cv]['qda']['acc_most_freq'])\n",
    "    dummy_prior_acc.extend(CVdict[cv]['qda']['acc_prior'])"
   ]
  },
  {
   "cell_type": "code",
   "execution_count": 15,
   "metadata": {},
   "outputs": [
    {
     "data": {
      "text/plain": [
       "array([0.02667839, 0.0313691 , 0.03166227, 0.02990325, 0.0313691 ,\n",
       "       0.02491938, 0.03576664, 0.02961009, 0.03840516, 0.03195544,\n",
       "       0.03283495, 0.03635298, 0.03224861, 0.0313691 , 0.03342128,\n",
       "       0.03107593, 0.03987101, 0.03195544, 0.03547347, 0.03312811,\n",
       "       0.03400762, 0.0351803 , 0.03312811, 0.0351803 , 0.03048959,\n",
       "       0.03576664, 0.03371445, 0.03254178, 0.03400762, 0.03664614,\n",
       "       0.03371445, 0.04075051, 0.03664614, 0.03048959, 0.03342128,\n",
       "       0.03459396, 0.03547347, 0.03400762, 0.03312811, 0.03488713,\n",
       "       0.03635298, 0.02785107, 0.02931692, 0.03019642])"
      ]
     },
     "execution_count": 15,
     "metadata": {},
     "output_type": "execute_result"
    }
   ],
   "source": [
    "dummy_prior_acc = np.array(dummy_prior_acc)\n",
    "n_components = np.array(n_components)\n",
    "dummy_prior_acc[n_components>51]"
   ]
  },
  {
   "cell_type": "code",
   "execution_count": 16,
   "metadata": {},
   "outputs": [
    {
     "data": {
      "text/plain": [
       "0.03320140721196129"
      ]
     },
     "execution_count": 16,
     "metadata": {},
     "output_type": "execute_result"
    }
   ],
   "source": [
    "np.mean(dummy_prior_acc[n_components>51])"
   ]
  },
  {
   "cell_type": "code",
   "execution_count": 10,
   "metadata": {},
   "outputs": [
    {
     "data": {
      "text/plain": [
       "Text(0, 0.5, 'Accuracy')"
      ]
     },
     "execution_count": 10,
     "metadata": {},
     "output_type": "execute_result"
    },
    {
     "data": {
      "image/png": "[encoded data removed]",
      "text/plain": [
       "<Figure size 288x288 with 1 Axes>"
      ]
     },
     "metadata": {
      "needs_background": "light"
     },
     "output_type": "display_data"
    }
   ],
   "source": [
    "#Visual check before saving results:\n",
    "plt.figure(figsize=(4,4))\n",
    "plt.plot(n_components,test_acc,'.',color='red',label='Test')\n",
    "plt.plot(n_components,train_acc,'.',color='dodgerblue',label='Train')\n",
    "plt.plot(n_components,val_acc,'.',color='orange',label='Val')\n",
    "plt.plot(n_components,dummy_prior_acc,'.',color='green',label='Val')\n",
    "plt.legend()\n",
    "ax = plt.gca()\n",
    "ax.set_ylim(0,1.05)\n",
    "ax.set_xlim(0,60)\n",
    "ax.set_xlabel('Number of components')\n",
    "ax.set_ylabel('Accuracy')"
   ]
  },
  {
   "cell_type": "code",
   "execution_count": 12,
   "metadata": {},
   "outputs": [],
   "source": [
    "res_pth = '/home/rohan/Remote-AI/dat/result/Patchseq_NM_proc/'\n",
    "df=pd.DataFrame({'n_components':n_components,'test_acc':test_acc,'val_acc':val_acc,'train_acc':train_acc})\n",
    "\n",
    "fname = 'QDA_'+fiton+'_NM'+\\\n",
    "                '_aT_'+str(alpha_T)+\\\n",
    "                '_aE_'+str(alpha_E)+\\\n",
    "                '_cs_'+str(lambda_TE)+\\\n",
    "                '_ad_'+str(aug)+\\\n",
    "                '_ld_3_bs_200_se_500_ne_1500'\n",
    "fname = fname.replace('.','-')+'.csv'\n",
    "df.to_csv(res_pth+fname)"
   ]
  },
  {
   "cell_type": "markdown",
   "metadata": {},
   "source": [
    "**QDA with PC-CCA baselines**"
   ]
  },
  {
   "cell_type": "code",
   "execution_count": 3,
   "metadata": {},
   "outputs": [],
   "source": [
    "import numpy as np\n",
    "import pandas as pd\n",
    "import matplotlib.pyplot as plt\n",
    "import seaborn as sns\n",
    "import scipy.io as sio\n",
    "import pdb\n",
    "from timebudget import timebudget\n",
    "from copy import deepcopy\n",
    "\n",
    "from sklearn.discriminant_analysis import QuadraticDiscriminantAnalysis as QDA\n",
    "from sklearn.metrics import accuracy_score\n",
    "from sklearn.cross_decomposition import CCA\n",
    "from sklearn.decomposition import PCA\n",
    "from scipy.linalg import sqrtm\n",
    "\n",
    "sns.set()\n",
    "sns.set_style('ticks',{'axes.grid' : False})\n",
    "%matplotlib inline"
   ]
  },
  {
   "cell_type": "code",
   "execution_count": null,
   "metadata": {},
   "outputs": [],
   "source": [
    "representation_pth = '/home/rohan/Remote-AI/dat/result/TE_NM/'\n",
    "origdata_pth = '/home/rohan/Remote-AI/dat/raw/patchseq-v4/PS_v5_beta_0-4_pc_scaled_ipxf_eqTE.mat'\n",
    "O = sio.loadmat(origdata_pth,squeeze_me=True)\n",
    "\n",
    "#Representations\n",
    "alpha_T=1.0\n",
    "alpha_E=1.0\n",
    "lambda_TE=1.0\n",
    "n_cvfolds=44\n",
    "latent_dim=10\n",
    "aug = 1\n",
    "\n",
    "#Load all CV sets\n",
    "#with timebudget('load all cv sets'):\n",
    "CVdict={}\n",
    "key_list = ['zE','zT','train_ind','val_ind','test_ind']\n",
    "for cv in tqdm(range(n_cvfolds)):\n",
    "    cvfold_fname='NM_Edat_pcipfx_aT_'+str(alpha_T)+\\\n",
    "                '_aE_'+str(alpha_E)+\\\n",
    "                '_cs_'+str(lambda_TE)+\\\n",
    "                '_ad_'+str(aug)+\\\n",
    "                '_ld_'+str(latent_dim)+\\\n",
    "                '_bs_200_se_500_ne_1500_cv_'+str(cv)+\\\n",
    "                '_ri_0-summary'\n",
    "    cvfold_fname=cvfold_fname.replace('.','-')+'.mat'\n",
    "    if isfile(representation_pth+cvfold_fname): \n",
    "        X = sio.loadmat(representation_pth+cvfold_fname,squeeze_me=True)\n",
    "        CVdict[cv] = {key:X[key] for key in key_list}\n",
    "        del X\n",
    "    else:\n",
    "        print(cvfold_fname,'not found')"
   ]
  },
  {
   "cell_type": "code",
   "execution_count": 28,
   "metadata": {},
   "outputs": [],
   "source": [
    "n_min_samples = 6\n",
    "\n",
    "n_pc_T = 50\n",
    "n_pc_E = 50\n",
    "cca_dims = 10\n",
    "fiton = 'zE'\n",
    "cca = CCA(n_components=cca_dims, scale=True, max_iter=1e4, tol=1e-06, copy=True)"
   ]
  },
  {
   "cell_type": "code",
   "execution_count": 29,
   "metadata": {},
   "outputs": [
    {
     "name": "stderr",
     "output_type": "stream",
     "text": [
      "100%|██████████| 44/44 [02:14<00:00,  3.05s/it]\n"
     ]
    }
   ],
   "source": [
    "for cv in tqdm(CVdict.keys()):\n",
    "    D = deepcopy(CVdict[cv])\n",
    "    CVdict[cv]['pc_cca_qda'] = {}\n",
    "    CVdict[cv]['pc_cca_qda']['n_components'] = []\n",
    "    CVdict[cv]['pc_cca_qda']['n_htree_classes'] = []\n",
    "    CVdict[cv]['pc_cca_qda']['acc_train'] = []\n",
    "    CVdict[cv]['pc_cca_qda']['acc_val'] = []\n",
    "    CVdict[cv]['pc_cca_qda']['acc_test'] = []\n",
    "    \n",
    "    XT = deepcopy(O['T_dat'])\n",
    "    XE = deepcopy(np.concatenate([O['E_pc_scaled'],O['E_feature']],axis = 1))\n",
    "    XE[np.isnan(XE)]=0.0\n",
    "    train_ind = D['train_ind']\n",
    "    \n",
    "    #Reduce dims of T data\n",
    "    if n_pc_T is not None:\n",
    "        pca = PCA(n_components=n_pc_T)\n",
    "        pca.fit_transform(XT[train_ind,:])\n",
    "        XT = pca.transform(XT)\n",
    "  \n",
    "    #Reduce dims of E data\n",
    "    if n_pc_E is not None:\n",
    "        pca = PCA(n_components=n_pc_E)\n",
    "        pca.fit_transform(XE[train_ind,:])\n",
    "        XE = pca.transform(XE)\n",
    "\n",
    "    #CCA on T and E data\n",
    "    cca.fit(XT[train_ind,:],XE[train_ind,:])\n",
    "    D['zT'],D['zE'] = cca.transform(XT,XE)\n",
    "    \n",
    "    D['zT'] = D['zT'] - np.mean(D['zT'], axis=0)\n",
    "    D['zT'] = np.matmul(D['zT'], sqrtm(np.linalg.inv(np.cov(np.transpose(D['zT'])))))\n",
    "    \n",
    "    D['zE'] = D['zE'] - np.mean(D['zE'], axis=0)\n",
    "    D['zE'] = np.matmul(D['zE'], sqrtm(np.linalg.inv(np.cov(np.transpose(D['zE'])))))\n",
    "\n",
    "    for n_classes in np.arange(5,61,5):\n",
    "\n",
    "        merged_labels, _ = get_merged_ordered_classes(data_labels=deepcopy(O['cluster']),\n",
    "                                                      htree_file=htree_file,\n",
    "                                                      n_required_classes=n_classes)\n",
    "        \n",
    "        X_train = deepcopy(D[fiton][D['train_ind']])\n",
    "        y_train = deepcopy(merged_labels[D['train_ind']])\n",
    "        ind_train = np.arange(0,np.shape(X_train)[0])\n",
    "\n",
    "        X_val   = deepcopy(D[fiton][D['val_ind']])\n",
    "        y_val = deepcopy(merged_labels[D['val_ind']])\n",
    "        ind_val = np.arange(0,np.shape(X_val)[0])\n",
    "\n",
    "        X_test   = deepcopy(D[fiton][D['test_ind']])\n",
    "        y_test = deepcopy(merged_labels[D['test_ind']])\n",
    "        ind_test = np.arange(0,np.shape(X_test)[0])\n",
    "\n",
    "        #Remove types with low sample counts in training set\n",
    "        df = pd.DataFrame({'ind':ind_train,'lbl':y_train})\n",
    "        df_train = df[df.groupby('lbl')['lbl'].transform('count').ge(n_min_samples)]\n",
    "        keep_ind = df_train['ind'].values\n",
    "        X_train = X_train[keep_ind,:]\n",
    "        y_train = y_train[keep_ind]\n",
    "\n",
    "        #Print types that were removed\n",
    "        #df_train_del = df[df.groupby('lbl')['lbl'].transform('count').lt(n_min_samples)]\n",
    "        #print(df_train_del['lbl'].value_counts())\n",
    "\n",
    "        #Remove types from validation set that are not represented in the training set\n",
    "        df = pd.DataFrame({'ind':ind_val,'lbl':y_val})\n",
    "        df_val = df[df['lbl'].isin(y_train)]\n",
    "        keep_ind = df_val['ind'].values\n",
    "        X_val = X_val[keep_ind,:]\n",
    "        y_val = y_val[keep_ind]\n",
    "\n",
    "        #Remove types from test set that are not represented in the training set\n",
    "        df = pd.DataFrame({'ind':ind_test,'lbl':y_test})\n",
    "        df_test = df[df['lbl'].isin(y_test)]\n",
    "        keep_ind = df_test['ind'].values\n",
    "        X_test = X_test[keep_ind,:]\n",
    "        y_test = y_test[keep_ind]\n",
    "\n",
    "        #QDA related metrics\n",
    "        qda = QDA(reg_param=1e-2,store_covariance=True)\n",
    "        qda.fit(X_train,y_train)\n",
    "        y_train_pred = qda.predict(X_train)\n",
    "        y_val_pred = qda.predict(X_val)\n",
    "        y_test_pred = qda.predict(X_test)\n",
    "        CVdict[cv]['pc_cca_qda']['n_htree_classes'].append(n_classes)\n",
    "        CVdict[cv]['pc_cca_qda']['n_components'].append(np.unique(qda.classes_).size)\n",
    "        CVdict[cv]['pc_cca_qda']['acc_train'].append(accuracy_score(y_train, y_train_pred))\n",
    "        CVdict[cv]['pc_cca_qda']['acc_val'].append(accuracy_score(y_val, y_val_pred))\n",
    "        CVdict[cv]['pc_cca_qda']['acc_test'].append(accuracy_score(y_test, y_test_pred))"
   ]
  },
  {
   "cell_type": "code",
   "execution_count": 30,
   "metadata": {},
   "outputs": [],
   "source": [
    "test_acc = []\n",
    "val_acc = []\n",
    "train_acc = []\n",
    "n_components = []\n",
    "for cv in CVdict.keys():\n",
    "    test_acc.extend(CVdict[cv]['pc_cca_qda']['acc_test'])\n",
    "    val_acc.extend(CVdict[cv]['pc_cca_qda']['acc_val'])\n",
    "    train_acc.extend(CVdict[cv]['pc_cca_qda']['acc_train'])\n",
    "    n_components.extend(CVdict[cv]['pc_cca_qda']['n_components'])"
   ]
  },
  {
   "cell_type": "code",
   "execution_count": 31,
   "metadata": {},
   "outputs": [
    {
     "data": {
      "text/plain": [
       "Text(0, 0.5, 'Accuracy')"
      ]
     },
     "execution_count": 31,
     "metadata": {},
     "output_type": "execute_result"
    },
    {
     "data": {
      "image/png": "[encoded data removed]",
      "text/plain": [
       "<Figure size 288x288 with 1 Axes>"
      ]
     },
     "metadata": {
      "needs_background": "light"
     },
     "output_type": "display_data"
    }
   ],
   "source": [
    "plt.figure(figsize=(4,4))\n",
    "plt.plot(n_components,test_acc,'.',color='red',label='Test')\n",
    "plt.plot(n_components,train_acc,'.',color='dodgerblue',label='Train')\n",
    "plt.plot(n_components,val_acc,'.',color='orange',label='Val')\n",
    "plt.legend()\n",
    "ax = plt.gca()\n",
    "ax.set_ylim(0,1.05)\n",
    "ax.set_xlim(0,60)\n",
    "ax.set_xlabel('Number of components')\n",
    "ax.set_ylabel('Accuracy')"
   ]
  },
  {
   "cell_type": "code",
   "execution_count": 32,
   "metadata": {},
   "outputs": [],
   "source": [
    "res_pth = '/home/rohan/Remote-AI/dat/result/Patchseq_NM_proc/'\n",
    "df=pd.DataFrame({'n_components':n_components,'test_acc':test_acc,'val_acc':val_acc,'train_acc':train_acc})\n",
    "\n",
    "fname = 'QDA_'+fiton+'_PCCCA_'+\\\n",
    "        'NM_Edat_pcipfx_'+str(n_pc_T)+'-'+str(n_pc_E)+'-pc-'+\\\n",
    "        str(cca_dims)+'-cca'\n",
    "                \n",
    "fname = fname.replace('.','-')+'.csv'\n",
    "df.to_csv(res_pth+fname)"
   ]
  },
  {
   "cell_type": "code",
   "execution_count": null,
   "metadata": {},
   "outputs": [],
   "source": []
  },
  {
   "cell_type": "markdown",
   "metadata": {},
   "source": [
    "**Supervised celltype classification comparisons with linear baselines**\n",
    "\n",
    "1. QDA parameters should be the same\n",
    "2. Validation sets for PC-CCA and AE should be the same"
   ]
  },
  {
   "cell_type": "code",
   "execution_count": 26,
   "metadata": {},
   "outputs": [],
   "source": [
    "import numpy as np\n",
    "import pandas as pd\n",
    "import matplotlib \n",
    "matplotlib.rcParams['pdf.fonttype'] = 42\n",
    "matplotlib.rcParams['ps.fonttype'] = 42 \n",
    "\n",
    "import matplotlib.pyplot as plt\n",
    "import seaborn as sns\n",
    "import scipy.io as sio\n",
    "from copy import deepcopy\n",
    "\n",
    "sns.set()\n",
    "sns.set_style('ticks',{'axes.grid' : False}) \n",
    "%matplotlib inline"
   ]
  },
  {
   "cell_type": "code",
   "execution_count": 14,
   "metadata": {},
   "outputs": [
    {
     "name": "stdout",
     "output_type": "stream",
     "text": [
      "gray 54 0.7381812656176133 0.04505711995852515\n",
      "===\n",
      "$\\lambda_{te}$ = 0.0\n",
      "lightskyblue 54 0.7015263051259539 0.04745361950935156\n",
      "===\n",
      "$\\lambda_{te}$ = 0.5\n",
      "dodgerblue 54 0.6717149546385718 0.052839001016764954\n",
      "===\n",
      "$\\lambda_{te}$ = 1.0\n",
      "lightcoral 54 0.5743285833277054 0.054689333386407954\n",
      "===\n",
      "PC-CCA (10,10)\n",
      "red 54 0.5505672992503545 0.06235481153640868\n",
      "===\n",
      "PC-CCA (50,50)\n",
      "gray 54 0.30754035253596274 0.04083755423528475\n",
      "===\n",
      "$\\lambda_{te}$ = 0.0\n",
      "lightskyblue 54 0.46075617388172274 0.05267577501462783\n",
      "===\n",
      "$\\lambda_{te}$ = 0.5\n",
      "dodgerblue 54 0.4561862632538664 0.057191751321048034\n",
      "===\n",
      "$\\lambda_{te}$ = 1.0\n",
      "lightcoral 54 0.36829427523018393 0.04769842339815136\n",
      "===\n",
      "PC-CCA (10,10)\n",
      "red 54 0.4275230183922018 0.04873370097300844\n",
      "===\n",
      "PC-CCA (50,50)\n"
     ]
    },
    {
     "data": {
      "image/png": "[encoded data removed]",
      "text/plain": [
       "<Figure size 288x288 with 1 Axes>"
      ]
     },
     "metadata": {
      "needs_background": "light"
     },
     "output_type": "display_data"
    },
    {
     "data": {
      "image/png": "[encoded data removed]",
      "text/plain": [
       "<Figure size 288x288 with 1 Axes>"
      ]
     },
     "metadata": {
      "needs_background": "light"
     },
     "output_type": "display_data"
    }
   ],
   "source": [
    "fiton_txt=['z_t','z_e']\n",
    "for txt_ind,fiton in enumerate(['zT','zE']):\n",
    "    res_pth = '/home/rohan/Remote-AI/dat/result/Patchseq_NM_proc/'\n",
    "    #'QDA_{:s}_NM_aT_1-0_aE_1-0_cs_0-5_ad_0_ld_3_bs_200_se_500_ne_1500.csv'.format(fiton),\\\n",
    "    #'QDA_{:s}_NM_aT_1-0_aE_1-0_cs_1-0_ad_0_ld_3_bs_200_se_500_ne_1500.csv'.format(fiton),\\\n",
    "    fname_list = ['QDA_{:s}_NM_aT_1-0_aE_1-0_cs_0-0_ad_0_ld_3_bs_200_se_500_ne_1500.csv'.format(fiton),\\\n",
    "                  'QDA_{:s}_NM_aT_1-0_aE_1-0_cs_0-5_ad_1_ld_3_bs_200_se_500_ne_1500.csv'.format(fiton),\\\n",
    "                  'QDA_{:s}_NM_aT_1-0_aE_1-0_cs_1-0_ad_1_ld_3_bs_200_se_500_ne_1500.csv'.format(fiton),\\\n",
    "                  'QDA_{:s}_PCCCA_NM_Edat_pcipfx_10-10-pc-3-cca.csv'.format(fiton),\\\n",
    "                  'QDA_{:s}_PCCCA_NM_Edat_pcipfx_50-50-pc-3-cca.csv'.format(fiton)]\n",
    "\n",
    "    df_list = [pd.read_csv(res_pth+fname) for fname in fname_list]\n",
    "    plt.figure(figsize=(4,4))\n",
    "    col = ['gray',\\\n",
    "           'lightskyblue','dodgerblue',\\\n",
    "           'lightcoral','red']\n",
    "    lbl = [r'$\\lambda_{te}$ = 0.0',\\\n",
    "           r'$\\lambda_{te}$ = 0.5',r'$\\lambda_{te}$ = 1.0',\\\n",
    "           'PC-CCA (10,10)','PC-CCA (50,50)']\n",
    "    for i,df in enumerate(df_list):\n",
    "        x_=[]\n",
    "        y_=[]\n",
    "        yerr_=[]\n",
    "        for n in np.unique(df['n_components'].values):\n",
    "            ind = df['n_components'].values==n\n",
    "            x_.append(n)\n",
    "            y_.append(np.mean(df['val_acc'].values[ind]))\n",
    "            yerr_.append(np.std(df['val_acc'].values[ind]))\n",
    "        print(col[i],x_[-1],y_[-1],yerr_[-1])\n",
    "        plt.errorbar(x_,y_,yerr_,marker='o',color=col[i],label=lbl[i])\n",
    "        print('===')\n",
    "        print(lbl[i])\n",
    "        save_df = pd.DataFrame({'x':x_,'y':y_,'std':yerr_})\n",
    "        save_df.to_csv(f'/home/rohan/Dropbox/AllenInstitute/CellTypes/doc/NCS/Fig1-{fiton:s}-{i:d}.csv',index=False)\n",
    "\n",
    "\n",
    "    if fiton=='zT':\n",
    "        plt.legend()\n",
    "        plt.legend(frameon=False)\n",
    "    ax = plt.gca()\n",
    "    ax.set_ylim(0.2,1.05)\n",
    "    ax.set_xlim(0,60)\n",
    "    ax.set_xlabel('Number of classes')\n",
    "    ax.set_ylabel('Classification accuracy')\n",
    "    ax.set_title(r'${:s}$ $\\rightarrow$ Transcriptomic taxonomy'.format(fiton_txt[txt_ind]))\n",
    "    \n",
    "    plt.tight_layout()\n",
    "    #sns.despine()\n",
    "    #plt.savefig('/home/rohan/Dropbox/AllenInstitute/CellTypes/doc/Patchseq_NM_2020/{:s}-to-celltype.png'.format(fiton),dpi=300)\n",
    "    plt.savefig(f'/home/rohan/Dropbox/AllenInstitute/CellTypes/doc/NCS/Fig1{fiton:s}.pdf')\n",
    "    \n",
    "    "
   ]
  },
  {
   "cell_type": "code",
   "execution_count": null,
   "metadata": {},
   "outputs": [],
   "source": []
  },
  {
   "cell_type": "code",
   "execution_count": 3,
   "metadata": {},
   "outputs": [
    {
     "data": {
      "text/html": [
       "<div>\n",
       "<style scoped>\n",
       "    .dataframe tbody tr th:only-of-type {\n",
       "        vertical-align: middle;\n",
       "    }\n",
       "\n",
       "    .dataframe tbody tr th {\n",
       "        vertical-align: top;\n",
       "    }\n",
       "\n",
       "    .dataframe thead th {\n",
       "        text-align: right;\n",
       "    }\n",
       "</style>\n",
       "<table border=\"1\" class=\"dataframe\">\n",
       "  <thead>\n",
       "    <tr style=\"text-align: right;\">\n",
       "      <th></th>\n",
       "      <th>Unnamed: 0</th>\n",
       "      <th>n_components</th>\n",
       "      <th>test_acc</th>\n",
       "      <th>val_acc</th>\n",
       "      <th>train_acc</th>\n",
       "    </tr>\n",
       "  </thead>\n",
       "  <tbody>\n",
       "    <tr>\n",
       "      <th>0</th>\n",
       "      <td>0</td>\n",
       "      <td>5</td>\n",
       "      <td>0.814706</td>\n",
       "      <td>0.840580</td>\n",
       "      <td>0.840440</td>\n",
       "    </tr>\n",
       "    <tr>\n",
       "      <th>1</th>\n",
       "      <td>1</td>\n",
       "      <td>9</td>\n",
       "      <td>0.829412</td>\n",
       "      <td>0.826087</td>\n",
       "      <td>0.832555</td>\n",
       "    </tr>\n",
       "    <tr>\n",
       "      <th>2</th>\n",
       "      <td>2</td>\n",
       "      <td>19</td>\n",
       "      <td>0.541176</td>\n",
       "      <td>0.579710</td>\n",
       "      <td>0.571810</td>\n",
       "    </tr>\n",
       "    <tr>\n",
       "      <th>3</th>\n",
       "      <td>3</td>\n",
       "      <td>19</td>\n",
       "      <td>0.541176</td>\n",
       "      <td>0.579710</td>\n",
       "      <td>0.571810</td>\n",
       "    </tr>\n",
       "    <tr>\n",
       "      <th>4</th>\n",
       "      <td>4</td>\n",
       "      <td>22</td>\n",
       "      <td>0.470588</td>\n",
       "      <td>0.536232</td>\n",
       "      <td>0.528567</td>\n",
       "    </tr>\n",
       "    <tr>\n",
       "      <th>...</th>\n",
       "      <td>...</td>\n",
       "      <td>...</td>\n",
       "      <td>...</td>\n",
       "      <td>...</td>\n",
       "      <td>...</td>\n",
       "    </tr>\n",
       "    <tr>\n",
       "      <th>523</th>\n",
       "      <td>523</td>\n",
       "      <td>36</td>\n",
       "      <td>0.397059</td>\n",
       "      <td>0.388060</td>\n",
       "      <td>0.419506</td>\n",
       "    </tr>\n",
       "    <tr>\n",
       "      <th>524</th>\n",
       "      <td>524</td>\n",
       "      <td>41</td>\n",
       "      <td>0.373529</td>\n",
       "      <td>0.373134</td>\n",
       "      <td>0.401470</td>\n",
       "    </tr>\n",
       "    <tr>\n",
       "      <th>525</th>\n",
       "      <td>525</td>\n",
       "      <td>46</td>\n",
       "      <td>0.311765</td>\n",
       "      <td>0.328358</td>\n",
       "      <td>0.336339</td>\n",
       "    </tr>\n",
       "    <tr>\n",
       "      <th>526</th>\n",
       "      <td>526</td>\n",
       "      <td>50</td>\n",
       "      <td>0.291176</td>\n",
       "      <td>0.303030</td>\n",
       "      <td>0.328203</td>\n",
       "    </tr>\n",
       "    <tr>\n",
       "      <th>527</th>\n",
       "      <td>527</td>\n",
       "      <td>53</td>\n",
       "      <td>0.291176</td>\n",
       "      <td>0.303030</td>\n",
       "      <td>0.320040</td>\n",
       "    </tr>\n",
       "  </tbody>\n",
       "</table>\n",
       "<p>528 rows × 5 columns</p>\n",
       "</div>"
      ],
      "text/plain": [
       "     Unnamed: 0  n_components  test_acc   val_acc  train_acc\n",
       "0             0             5  0.814706  0.840580   0.840440\n",
       "1             1             9  0.829412  0.826087   0.832555\n",
       "2             2            19  0.541176  0.579710   0.571810\n",
       "3             3            19  0.541176  0.579710   0.571810\n",
       "4             4            22  0.470588  0.536232   0.528567\n",
       "..          ...           ...       ...       ...        ...\n",
       "523         523            36  0.397059  0.388060   0.419506\n",
       "524         524            41  0.373529  0.373134   0.401470\n",
       "525         525            46  0.311765  0.328358   0.336339\n",
       "526         526            50  0.291176  0.303030   0.328203\n",
       "527         527            53  0.291176  0.303030   0.320040\n",
       "\n",
       "[528 rows x 5 columns]"
      ]
     },
     "execution_count": 3,
     "metadata": {},
     "output_type": "execute_result"
    }
   ],
   "source": [
    "df_list[0]"
   ]
  },
  {
   "cell_type": "markdown",
   "metadata": {},
   "source": [
    "**Reconstruction comparisons**"
   ]
  },
  {
   "cell_type": "code",
   "execution_count": 21,
   "metadata": {},
   "outputs": [],
   "source": [
    "import numpy as np\n",
    "import pandas as pd\n",
    "import matplotlib.pyplot as plt\n",
    "import seaborn as sns\n",
    "import scipy.io as sio\n",
    "from timebudget import timebudget\n",
    "from copy import deepcopy\n",
    "from os.path import isfile\n",
    "from tqdm import tqdm\n",
    "\n",
    "from sklearn.decomposition import PCA\n",
    "from scipy.linalg import sqrtm\n",
    "from sklearn.metrics import r2_score as r2\n",
    "import matplotlib.lines as mlines"
   ]
  },
  {
   "cell_type": "code",
   "execution_count": 4,
   "metadata": {},
   "outputs": [],
   "source": [
    "from refactor.utils.compute import CCA_extended"
   ]
  },
  {
   "cell_type": "code",
   "execution_count": null,
   "metadata": {},
   "outputs": [],
   "source": [
    "representation_pth = '/home/rohan/Remote-AI/dat/result/TE_NM/'\n",
    "origdata_pth = '/home/rohan/Remote-AI/dat/raw/patchseq-v4/PS_v5_beta_0-4_pc_scaled_ipxf_eqTE.mat'\n",
    "O = sio.loadmat(origdata_pth,squeeze_me=True)\n",
    "\n",
    "#Representations\n",
    "alpha_T=1.0\n",
    "alpha_E=1.0\n",
    "lambda_TE=1.0\n",
    "latent_dim=10\n",
    "n_cvfolds=44\n",
    "aug = 1\n",
    "\n",
    "#Load all CV sets\n",
    "#with timebudget('load all cv sets'):\n",
    "CVdict={}\n",
    "key_list = ['XrT','XrE_from_XT','XrT_from_XE','XrE','zE','zT','train_ind','val_ind','test_ind']\n",
    "for cv in tqdm(range(n_cvfolds)):\n",
    "    cvfold_fname='NM_Edat_pcipfx_aT_'+str(alpha_T)+\\\n",
    "                '_aE_'+str(alpha_E)+\\\n",
    "                '_cs_'+str(lambda_TE)+\\\n",
    "                '_ad_'+str(aug)+\\\n",
    "                '_ld_'+str(latent_dim)+\\\n",
    "                '_bs_200_se_500_ne_1500_cv_'+str(cv)+\\\n",
    "                '_ri_0_500_ft-summary'\n",
    "    cvfold_fname=cvfold_fname.replace('.','-')+'.mat'\n",
    "    if isfile(representation_pth+cvfold_fname): \n",
    "        X = sio.loadmat(representation_pth+cvfold_fname,squeeze_me=True)\n",
    "        CVdict[cv] = {key:X[key] for key in key_list}\n",
    "        del X\n",
    "    else:\n",
    "        print(cvfold_fname,'not found')"
   ]
  },
  {
   "cell_type": "code",
   "execution_count": 4,
   "metadata": {},
   "outputs": [],
   "source": [
    "n_pc_T = 50\n",
    "n_pc_E = 50\n",
    "cca_dims = latent_dim"
   ]
  },
  {
   "cell_type": "code",
   "execution_count": 5,
   "metadata": {},
   "outputs": [
    {
     "name": "stderr",
     "output_type": "stream",
     "text": [
      "100%|██████████| 44/44 [01:01<00:00,  1.40s/it]\n"
     ]
    }
   ],
   "source": [
    "XT_orig = O['T_dat']\n",
    "XE_orig = np.concatenate([O['E_pc_scaled'],O['E_feature']],axis = 1)\n",
    "mask_E = np.ones_like(XE_orig)\n",
    "mask_E[np.isnan(XE_orig)]=0.0\n",
    "XE_orig[np.isnan(XE_orig)]=0.0\n",
    "\n",
    "ind_list = ['train','val','test']\n",
    "\n",
    "for cv in tqdm(CVdict.keys()):\n",
    "    cca = CCA_extended(n_components=cca_dims, scale=True, max_iter=1e4, tol=1e-06, copy=True)\n",
    "    \n",
    "    CVdict[cv]['ae'] = {}\n",
    "    CVdict[cv]['cca'] = {}\n",
    "    \n",
    "    D = deepcopy(CVdict[cv])\n",
    "    XT = deepcopy(XT_orig)\n",
    "    XE = deepcopy(XE_orig)\n",
    "    train_ind = D['train_ind']\n",
    "\n",
    "    #Reduce dims of T data\n",
    "    pcaT = PCA(n_components=n_pc_T)\n",
    "    pcaT.fit_transform(XT[train_ind,:])\n",
    "    XTpc = pcaT.transform(XT)\n",
    "\n",
    "    #Reduce dims of E data\n",
    "    pcaE = PCA(n_components=n_pc_E)\n",
    "    pcaE.fit_transform(XE[train_ind,:])\n",
    "    XEpc = pcaE.transform(XE)\n",
    "\n",
    "    #CCA on T and E data\n",
    "    cca.fit(XTpc[train_ind,:],XEpc[train_ind,:])\n",
    "    XTcca,XEcca = cca.transform(XTpc,XEpc)\n",
    "        \n",
    "    #Reconstruction from CCA co-ordinates----------------------------\n",
    "    #Within modality reconstruction\n",
    "    XrTpc,XrEpc = cca.inverse_transform_xy(XTcca,XEcca)\n",
    "    XrT = pcaT.inverse_transform(XrTpc)\n",
    "    XrE = pcaE.inverse_transform(XrEpc)\n",
    "    \n",
    "    T_se = (XT_orig - XrT)**2\n",
    "    E_se = ((XE_orig - XrE)**2)\n",
    "\n",
    "    #Within modality reconstruction - MSE and R2 calculations\n",
    "    for s in ind_list:\n",
    "        CVdict[cv]['cca']['XT_from_XT_'+s] = np.mean(T_se[D[s+'_ind'],:])\n",
    "        CVdict[cv]['cca']['XE_from_XE_'+s] = np.nanmean(E_se[D[s+'_ind'],:])\n",
    "        CVdict[cv]['cca']['XT_from_XT_R2_'+s] = r2(XT_orig[D[s+'_ind'],:],XrT[D[s+'_ind'],:])\n",
    "        CVdict[cv]['cca']['XE_from_XE_R2_'+s] = r2(XE_orig[D[s+'_ind'],:],XrE[D[s+'_ind'],:])\n",
    "    \n",
    "    #Cross modality reconstruction\n",
    "    XrTpc,XrEpc = cca.inverse_transform_xy(XEcca,XTcca) #Input order to inverse_transform_xy is flipped\n",
    "    XrT = pcaT.inverse_transform(XrTpc)\n",
    "    XrE = pcaE.inverse_transform(XrEpc)\n",
    "    \n",
    "    T_se = (XT_orig - XrT)**2\n",
    "    E_se = (XE_orig - XrE)**2\n",
    "    \n",
    "    for s in ind_list:\n",
    "        CVdict[cv]['cca']['XT_from_XE_'+s] = np.mean(T_se[D[s+'_ind'],:])\n",
    "        CVdict[cv]['cca']['XE_from_XT_'+s] = np.nanmean(E_se[D[s+'_ind'],:])\n",
    "        CVdict[cv]['cca']['XT_from_XE_R2_'+s] = r2(XT_orig[D[s+'_ind'],:],XrT[D[s+'_ind'],:])\n",
    "        CVdict[cv]['cca']['XE_from_XT_R2_'+s] = r2(XE_orig[D[s+'_ind'],:],XrE[D[s+'_ind'],:])\n",
    "        \n",
    "        \n",
    "    #Within Modality AE\n",
    "    T_se = (XT_orig - D['XrT'])**2\n",
    "    E_se = (XE_orig - D['XrE'])**2\n",
    "    for s in ind_list:\n",
    "        CVdict[cv]['ae']['XT_from_XT_'+s] = np.mean(T_se[D[s+'_ind'],:])\n",
    "        CVdict[cv]['ae']['XE_from_XE_'+s] = np.nanmean(E_se[D[s+'_ind'],:])\n",
    "        CVdict[cv]['ae']['XT_from_XT_R2_'+s] = r2(XT_orig[D[s+'_ind'],:],D['XrT'][D[s+'_ind'],:])\n",
    "        CVdict[cv]['ae']['XE_from_XE_R2_'+s] = r2(XE_orig[D[s+'_ind'],:],D['XrE'][D[s+'_ind'],:])\n",
    "        \n",
    "    #Cross modality reconstruction AE\n",
    "    T_se = (XT_orig - D['XrT_from_XE'])**2\n",
    "    E_se = (XE_orig - D['XrE_from_XT'])**2\n",
    "    for s in ind_list:\n",
    "        CVdict[cv]['ae']['XT_from_XE_'+s] = np.mean(T_se[D[s+'_ind'],:])\n",
    "        CVdict[cv]['ae']['XE_from_XT_'+s] = np.nanmean(E_se[D[s+'_ind'],:])\n",
    "        CVdict[cv]['ae']['XT_from_XE_R2_'+s] = r2(XT_orig[D[s+'_ind'],:],D['XrT_from_XE'][D[s+'_ind'],:])\n",
    "        CVdict[cv]['ae']['XE_from_XT_R2_'+s] = r2(XE_orig[D[s+'_ind'],:],D['XrE_from_XT'][D[s+'_ind'],:])\n"
   ]
  },
  {
   "cell_type": "code",
   "execution_count": 6,
   "metadata": {},
   "outputs": [],
   "source": [
    "result_path = '/home/rohan/Remote-AI/dat/result/Patchseq_NM_proc/'\n",
    "\n",
    "L={}\n",
    "L['cv'] = []\n",
    "for i,cv in enumerate(CVdict.keys()):\n",
    "    L['cv'].append(cv)\n",
    "    for k in CVdict[cv]['cca'].keys():\n",
    "        if i == 0:\n",
    "            L[k]=[]\n",
    "        L[k].append(CVdict[cv]['cca'][k])\n",
    "        \n",
    "df_cca = pd.DataFrame(L)\n",
    "fname = 'Recon_CCA_NM_{:d}-{:d}-pc_{:d}_cca.csv'.format(n_pc_T,n_pc_T,cca_dims)\n",
    "df_cca.to_csv(result_path+fname)\n",
    "\n",
    "\n",
    "\n",
    "M={}\n",
    "M['cv'] = []\n",
    "for i,cv in enumerate(CVdict.keys()):\n",
    "    M['cv'].append(cv)\n",
    "    for k in CVdict[cv]['ae'].keys():\n",
    "        if i == 0:\n",
    "            M[k]=[]\n",
    "        M[k].append(CVdict[cv]['ae'][k])\n",
    "\n",
    "df_ae = pd.DataFrame(M)\n",
    "fname = 'Recon_AE_NM_aT_{:.1f}_aE_{:.1f}'\\\n",
    "        '_cs_{:.1f}_ad_{:d}_ld_{:d}'.format(alpha_T,alpha_E,lambda_TE,aug,latent_dim)\n",
    "fname = fname.replace('.','-')+'.csv'\n",
    "df_ae.to_csv(result_path+fname)"
   ]
  },
  {
   "cell_type": "code",
   "execution_count": null,
   "metadata": {},
   "outputs": [],
   "source": []
  },
  {
   "cell_type": "code",
   "execution_count": 16,
   "metadata": {},
   "outputs": [],
   "source": [
    "#Results also available for ad_0\n",
    "result_path = '/home/rohan/Remote-AI/dat/result/Patchseq_NM_proc/'\n",
    "fname_list = ['Recon_CCA_NM_10-10-pc_3_cca.csv',\\\n",
    "              'Recon_CCA_NM_50-50-pc_3_cca.csv',\\\n",
    "              'Recon_AE_NM_aT_1-0_aE_1-0_cs_0-5_ad_1_ld_3_bs_200_se_500_ne_1500_ft_500.csv',\\\n",
    "              'Recon_AE_NM_aT_1-0_aE_1-0_cs_1-0_ad_1_ld_3_bs_200_se_500_ne_1500_ft_500.csv',\\\n",
    "              'Recon_AE_NM_aT_1-0_aE_1-0_cs_0-0_ad_0_ld_3_bs_200_se_500_ne_1500_ft_500.csv'              \n",
    "              ]\n",
    "df_list = []\n",
    "\n",
    "for fname in fname_list:\n",
    "    #print(fname)\n",
    "    df_list.append(pd.read_csv(result_path+fname))"
   ]
  },
  {
   "cell_type": "code",
   "execution_count": 17,
   "metadata": {},
   "outputs": [],
   "source": [
    "#Remove single cross validation fold - something went wrong here.\n",
    "df_list[3].drop(index=35,inplace=True)"
   ]
  },
  {
   "cell_type": "code",
   "execution_count": 49,
   "metadata": {},
   "outputs": [],
   "source": [
    "#Source data files\n",
    "keep_cols = ['XE_from_XE_R2_val','XE_from_XT_R2_val','XT_from_XT_R2_val','XT_from_XE_R2_val']\n",
    "save_path = '/home/rohan/Dropbox/AllenInstitute/CellTypes/doc/NCS/'\n",
    "df_list[0][keep_cols].to_csv(save_path+'10-10-3-pc-cca.csv',index=False)\n",
    "df_list[1][keep_cols].to_csv(save_path+'50-50-3-pc-cca.csv',index=False)\n",
    "df_list[2][keep_cols].to_csv(save_path+'lambda_0_5.csv',index=False)\n",
    "df_list[3][keep_cols].to_csv(save_path+'lambda_1_0.csv',index=False)\n",
    "df_list[4][keep_cols].to_csv(save_path+'lambda_0_0.csv',index=False)"
   ]
  },
  {
   "cell_type": "code",
   "execution_count": 45,
   "metadata": {},
   "outputs": [
    {
     "data": {
      "image/png": "[encoded data removed]",
      "text/plain": [
       "<Figure size 432x288 with 1 Axes>"
      ]
     },
     "metadata": {
      "needs_background": "light"
     },
     "output_type": "display_data"
    }
   ],
   "source": [
    "import matplotlib.lines as mlines\n",
    "\n",
    "col = ['lightcoral','red',\\\n",
    "       'lightskyblue','dodgerblue',\\\n",
    "       'gray',]\n",
    "\n",
    "#r'$\\lambda_{te}$ = 0.5 (aug)',r'$\\lambda_{te}$ = 1.0 (aug)',\\\n",
    "lbl = ['PC-CCA (10,10)','PC-CCA (50,50)',\\\n",
    "       r'$\\lambda_{te}$ = 0.5',\\\n",
    "       r'$\\lambda_{te}$ = 1.0',\\\n",
    "       r'$\\lambda_{te}$ = 0.0'] \n",
    "h_list=[]\n",
    "plt.figure(figsize=(6,4))\n",
    "for grp,key in enumerate(['XE_from_XE_',\n",
    "                          'XE_from_XT_',\n",
    "                          'XT_from_XT_',\n",
    "                          'XT_from_XE_']):\n",
    "    meas = 'R2_val'\n",
    "    key = key+meas\n",
    "    for i,df in enumerate(df_list):\n",
    "\n",
    "        if (key in ['XE_from_XT_'+meas,'XT_from_XE_'+meas]):\n",
    "            if i not in [4]: #Ignore cross modal reconstruction for lambda_TE=0\n",
    "                h = plt.scatter(x = np.array([i+(6*grp)]*df[key].values.size)+(np.random.rand(df[key].values.size,)-0.5)*0.3, \n",
    "                                y = df[key].values,\n",
    "                                s=12,c=col[i],alpha=0.4,label=lbl[i],edgecolor='None')\n",
    "                plt.bar((i+(6*grp)),np.mean(df[key].values),color=col[i],alpha=0.1)\n",
    "                plt.errorbar((i+(6*grp)),\n",
    "                             np.mean(df[key].values),\n",
    "                             np.std(df[key].values),\n",
    "                             marker='.',ms=4, color='k',capsize=4, lw=2, elinewidth=2)\n",
    "                h_leg=mlines.Line2D([], [], color=col[i] ,linestyle='None', marker='o',markersize=5, label=lbl[i])\n",
    "        else:\n",
    "            h = plt.scatter(x = np.array([i+(6*grp)]*df[key].values.size)+(np.random.rand(df[key].values.size,)-0.5)*0.3, \n",
    "                            y = df[key].values,\n",
    "                            s=12,c=col[i],alpha=0.4,label=lbl[i],edgecolor='None')\n",
    "            h_leg=mlines.Line2D([], [], color=col[i],linestyle='None', marker='o',markersize=5, label=lbl[i])\n",
    "            if col[i]=='gray':\n",
    "                pass\n",
    "                plt.bar((i+(6*grp)),np.mean(df[key].values),fc=\"None\",edgecolor=col[i],linewidth=1,alpha=0.1)\n",
    "            else:\n",
    "                pass\n",
    "                plt.bar((i+(6*grp)),np.mean(df[key].values),color=col[i],alpha=0.1)\n",
    "                \n",
    "            plt.errorbar((i+(6*grp)),\n",
    "                         np.mean(df[key].values),\n",
    "                         np.std(df[key].values),\n",
    "                         marker='.',ms=4, color='k',capsize=4, lw=2, elinewidth=2)\n",
    "                \n",
    "            if grp==0:\n",
    "                h_list.append(h_leg) #To get handles for legends\n",
    "                \n",
    "plt.legend(handles=h_list,labels=lbl,frameon=False)\n",
    "#plt.legend(frameon=False)\n",
    "\n",
    "ax = plt.gca()\n",
    "ax.set_ylim(0,0.65)\n",
    "ax.set_xlim(-1.5,23.5)\n",
    "ax.set_xlabel('')\n",
    "ax.set_xticks(np.array([2,8,14,20]))\n",
    "ax.set_xticklabels([r'$X_{e}$ $\\rightarrow$ $\\widetilde{X}_{e}$',\n",
    "                    r'$X_{t}$ $\\rightarrow$ $\\widetilde{X}_{e}$',\n",
    "                    r'$X_{t}$ $\\rightarrow$ $\\widetilde{X}_{t}$',\n",
    "                    r'$X_{e}$ $\\rightarrow$ $\\widetilde{X}_{t}$',])\n",
    "ax.set_ylabel(r'Coefficient of determination, $R^2$')\n",
    "ax.tick_params(axis='x', which='major', labelsize=15)\n",
    "plt.tight_layout()\n",
    "#plt.savefig('/home/rohan/Dropbox/AllenInstitute/CellTypes/doc/Patchseq_NM_2020/Reconstructions'+meas+'.png',dpi=300)\n",
    "plt.savefig('/home/rohan/Dropbox/AllenInstitute/CellTypes/doc/NCS/Reconstructions'+meas+'.pdf')\n",
    "plt.show()"
   ]
  },
  {
   "cell_type": "code",
   "execution_count": 32,
   "metadata": {},
   "outputs": [
    {
     "data": {
      "text/plain": [
       "array([0.25203248, 0.27600777, 0.32614269, 0.32153336, 0.24457255,\n",
       "       0.31811773, 0.31978632, 0.29423486, 0.34942332, 0.32314187,\n",
       "       0.29852254, 0.30491071, 0.27294353, 0.26046204, 0.24631456,\n",
       "       0.31636639, 0.23346711, 0.33896391, 0.34032085, 0.27446684,\n",
       "       0.17087081, 0.26226222, 0.30207943, 0.28975291, 0.2681876 ,\n",
       "       0.32352282, 0.24046428, 0.31292836, 0.3528227 , 0.29477266,\n",
       "       0.30584994, 0.31736996, 0.3198124 , 0.30169311, 0.31045658,\n",
       "       0.34016898, 0.32100463, 0.26029948, 0.33426297, 0.32986352,\n",
       "       0.34876764, 0.31418011, 0.30219785, 0.25927071])"
      ]
     },
     "execution_count": 32,
     "metadata": {},
     "output_type": "execute_result"
    }
   ],
   "source": [
    "df[key].values"
   ]
  },
  {
   "cell_type": "markdown",
   "metadata": {},
   "source": [
    "**5 dim results**"
   ]
  },
  {
   "cell_type": "code",
   "execution_count": 50,
   "metadata": {},
   "outputs": [],
   "source": [
    "#Results also available for ad_0\n",
    "result_path = '/home/rohan/Remote-AI/dat/result/Patchseq_NM_proc/'\n",
    "fname_list = ['Recon_CCA_NM_50-50-pc_3_cca.csv',\\\n",
    "              'Recon_CCA_NM_50-50-pc_5_cca.csv',\\\n",
    "              'Recon_CCA_NM_50-50-pc_10_cca.csv',\\\n",
    "              'Recon_AE_NM_aT_1-0_aE_1-0_cs_1-0_ad_1_ld_3_bs_200_se_500_ne_1500_ft_500.csv',\\\n",
    "              'Recon_AE_NM_aT_1-0_aE_1-0_cs_1-0_ad_1_ld_5_bs_200_se_500_ne_1500_ft_500.csv',\\\n",
    "              'Recon_AE_NM_aT_1-0_aE_1-0_cs_1-0_ad_1_ld_10_bs_200_se_500_ne_1500_ft_500.csv',\\\n",
    "              ]\n",
    "\n",
    "#'Recon_AE_NM_aT_1-0_aE_1-0_cs_1-0_ad_0_ld_3_bs_200_se_500_ne_1500_ft_500.csv',\\\n",
    "df_list = []\n",
    "\n",
    "for fname in fname_list:\n",
    "    #print(fname)\n",
    "    df_list.append(pd.read_csv(result_path+fname))"
   ]
  },
  {
   "cell_type": "code",
   "execution_count": 51,
   "metadata": {},
   "outputs": [],
   "source": [
    "#Remove single cross validation fold - something went wrong here.\n",
    "for i in range(len(df_list)):\n",
    "    df_list[i].drop(index=35,inplace=True)"
   ]
  },
  {
   "cell_type": "code",
   "execution_count": 52,
   "metadata": {},
   "outputs": [
    {
     "name": "stdout",
     "output_type": "stream",
     "text": [
      "\n",
      "\n",
      "===========\n",
      "E from E WilcoxonResult(statistic=0.0, pvalue=1.120159643476778e-08)\n",
      "E from T WilcoxonResult(statistic=12.0, pvalue=2.598276732521825e-08)\n",
      "T from T WilcoxonResult(statistic=0.0, pvalue=1.120159643476778e-08)\n",
      "T from E WilcoxonResult(statistic=0.0, pvalue=1.120159643476778e-08)\n",
      "\n",
      "\n",
      "===========\n",
      "E from E WilcoxonResult(statistic=0.0, pvalue=1.120159643476778e-08)\n",
      "E from T WilcoxonResult(statistic=83.0, pvalue=2.486525925120387e-06)\n",
      "T from T WilcoxonResult(statistic=0.0, pvalue=1.120159643476778e-08)\n",
      "T from E WilcoxonResult(statistic=2.0, pvalue=1.2906165535074668e-08)\n",
      "\n",
      "\n",
      "===========\n",
      "E from E WilcoxonResult(statistic=0.0, pvalue=1.120159643476778e-08)\n",
      "E from T WilcoxonResult(statistic=414.0, pvalue=0.4762033765405743)\n",
      "T from T WilcoxonResult(statistic=0.0, pvalue=1.120159643476778e-08)\n",
      "T from E WilcoxonResult(statistic=0.0, pvalue=1.120159643476778e-08)\n"
     ]
    }
   ],
   "source": [
    "from scipy.stats import wilcoxon\n",
    "\n",
    "for (a,b) in zip([0,1,2],[3,4,5]):\n",
    "    x = np.concatenate([df_list[i]['XE_from_XE_val'].values for i in [a]])\n",
    "    y = np.concatenate([df_list[i]['XE_from_XE_val'].values for i in [b]])\n",
    "    wil_EfromE = wilcoxon(x, y, zero_method='wilcox', correction=False, alternative='two-sided')\n",
    "\n",
    "    x = np.concatenate([df_list[i]['XE_from_XT_val'].values for i in [a]])\n",
    "    y = np.concatenate([df_list[i]['XE_from_XT_val'].values for i in [b]])\n",
    "    wil_EfromT = wilcoxon(x, y, zero_method='wilcox', correction=False, alternative='two-sided')\n",
    "\n",
    "    x = np.concatenate([df_list[i]['XT_from_XT_val'].values for i in [a]])\n",
    "    y = np.concatenate([df_list[i]['XT_from_XT_val'].values for i in [b]])\n",
    "    wil_TfromT = wilcoxon(x, y, zero_method='wilcox', correction=False, alternative='two-sided')\n",
    "\n",
    "    x = np.concatenate([df_list[i]['XT_from_XE_val'].values for i in [a]])\n",
    "    y = np.concatenate([df_list[i]['XT_from_XE_val'].values for i in [b]])\n",
    "    wil_TfromE = wilcoxon(x, y, zero_method='wilcox', correction=False, alternative='two-sided')\n",
    "\n",
    "    print('\\n\\n===========')\n",
    "    print(f'E from E {wil_EfromE}')\n",
    "    print(f'E from T {wil_EfromT}')\n",
    "    print(f'T from T {wil_TfromT}')\n",
    "    print(f'T from E {wil_TfromE}')"
   ]
  },
  {
   "cell_type": "code",
   "execution_count": 53,
   "metadata": {},
   "outputs": [
    {
     "name": "stdout",
     "output_type": "stream",
     "text": [
      "\n",
      "\n",
      "===========\n",
      "E from E WilcoxonResult(statistic=946.0, pvalue=0.9999999943992017)\n",
      "E from T WilcoxonResult(statistic=412.0, pvalue=0.4613826078740544)\n",
      "T from T WilcoxonResult(statistic=20.0, pvalue=4.5015379187890815e-08)\n",
      "T from E WilcoxonResult(statistic=450.0, pvalue=0.7812243079820957)\n",
      "\n",
      "\n",
      "===========\n",
      "E from E WilcoxonResult(statistic=946.0, pvalue=0.9999999943992017)\n",
      "E from T WilcoxonResult(statistic=259.0, pvalue=0.009765051936770068)\n",
      "T from T WilcoxonResult(statistic=1.0, pvalue=1.2024565921115018e-08)\n",
      "T from E WilcoxonResult(statistic=379.0, pvalue=0.2563562428167734)\n"
     ]
    }
   ],
   "source": [
    "for (a,b) in zip([3,3],[4,5]):\n",
    "    x = np.concatenate([df_list[i]['XE_from_XE_val'].values for i in [a]])\n",
    "    y = np.concatenate([df_list[i]['XE_from_XE_val'].values for i in [b]])\n",
    "    wil_EfromE = wilcoxon(x, y, zero_method='wilcox', correction=False, alternative='less')\n",
    "\n",
    "    x = np.concatenate([df_list[i]['XE_from_XT_val'].values for i in [a]])\n",
    "    y = np.concatenate([df_list[i]['XE_from_XT_val'].values for i in [b]])\n",
    "    wil_EfromT = wilcoxon(x, y, zero_method='wilcox', correction=False, alternative='two-sided')\n",
    "\n",
    "    x = np.concatenate([df_list[i]['XT_from_XT_val'].values for i in [a]])\n",
    "    y = np.concatenate([df_list[i]['XT_from_XT_val'].values for i in [b]])\n",
    "    wil_TfromT = wilcoxon(x, y, zero_method='wilcox', correction=False, alternative='two-sided')\n",
    "\n",
    "    x = np.concatenate([df_list[i]['XT_from_XE_val'].values for i in [a]])\n",
    "    y = np.concatenate([df_list[i]['XT_from_XE_val'].values for i in [b]])\n",
    "    wil_TfromE = wilcoxon(x, y, zero_method='wilcox', correction=False, alternative='two-sided')\n",
    "    \n",
    "    print('\\n\\n===========')\n",
    "    print(f'E from E {wil_EfromE}')\n",
    "    print(f'E from T {wil_EfromT}')\n",
    "    print(f'T from T {wil_TfromT}')\n",
    "    print(f'T from E {wil_TfromE}')"
   ]
  },
  {
   "cell_type": "code",
   "execution_count": 63,
   "metadata": {},
   "outputs": [
    {
     "data": {
      "image/png": "[encoded data removed]",
      "text/plain": [
       "<Figure size 432x288 with 1 Axes>"
      ]
     },
     "metadata": {
      "needs_background": "light"
     },
     "output_type": "display_data"
    }
   ],
   "source": [
    "col = ['lightcoral','tomato','red',\n",
    "       'lightskyblue','dodgerblue','royalblue']\n",
    "#'grey',\n",
    "#r'3 dim $\\lambda_{te}$ = 1.0, no augmentation',\\\n",
    "#r'$\\lambda_{te}$ = 0.5 (aug)',r'$\\lambda_{te}$ = 1.0 (aug)',\\\n",
    "lbl = ['3 dim PC-CCA (50,50)',\\\n",
    "       '5 dim PC-CCA (50,50)',\\\n",
    "       '10 dim PC-CCA (50,50)',\\\n",
    "       r'3 dim $\\lambda_{te}$ = 1.0',\\\n",
    "       r'5 dim $\\lambda_{te}$ = 1.0',\\\n",
    "       r'10 dim $\\lambda_{te}$ = 1.0']\n",
    "       \n",
    "h_list=[]\n",
    "plt.figure(figsize=(6,4))\n",
    "for grp,key in enumerate(['XE_from_XE_',\n",
    "                          'XE_from_XT_',\n",
    "                          'XT_from_XT_',\n",
    "                          'XT_from_XE_']):\n",
    "    meas = 'R2_val'\n",
    "    key = key+meas\n",
    "    for i,df in enumerate(df_list):\n",
    "        #print(col[i])\n",
    "        h_leg=mlines.Line2D([], [], color=col[i] ,linestyle='None', marker='o',markersize=5, label=lbl[i])\n",
    "        plt.scatter(x = np.array([i+(8*grp)]*df[key].values.size)+(np.random.rand(df[key].values.size,)-0.5)*0.3, \n",
    "                y = df[key].values,\n",
    "                s=12,c=col[i],alpha=0.4,label=lbl[i],edgecolor='None')\n",
    "        plt.bar((i+(8*grp)),np.mean(df[key].values),color=col[i],alpha=0.1)\n",
    "        plt.errorbar((i+(8*grp)),\n",
    "                     np.mean(df[key].values),\n",
    "                     np.std(df[key].values),\n",
    "                     marker='.',ms=4, color='k',capsize=4, lw=2, elinewidth=2)\n",
    "        if grp==0:\n",
    "            h_list.append(h_leg) #To get handles for legends\n",
    "            #pass\n",
    "                \n",
    "plt.legend(handles=h_list,labels=lbl,frameon=False)\n",
    "ax = plt.gca()\n",
    "ax.set_ylim(0,0.65)\n",
    "ax.set_xlabel('')\n",
    "ax.set_xticks(np.array([0,1,2,3])*8+2.5)\n",
    "ax.set_xticklabels([r'$X_{e}$ $\\rightarrow$ $\\widetilde{X}_{e}$',\n",
    "                    r'$X_{t}$ $\\rightarrow$ $\\widetilde{X}_{e}$',\n",
    "                    r'$X_{t}$ $\\rightarrow$ $\\widetilde{X}_{t}$',\n",
    "                    r'$X_{e}$ $\\rightarrow$ $\\widetilde{X}_{t}$',])\n",
    "ax.set_ylabel(r'Coefficient of determination, $R^2$')\n",
    "ax.tick_params(axis='x', which='major', labelsize=15)\n",
    "plt.tight_layout()\n",
    "#plt.savefig('/home/rohan/Dropbox/AllenInstitute/CellTypes/doc/Patchseq_NM_2020/reconstruction_dim_dependence.png',dpi=300)\n",
    "plt.savefig('/home/rohan/Dropbox/AllenInstitute/CellTypes/doc/NCS/Fig_ED_5.jpg',dpi=300)\n",
    "plt.savefig('/home/rohan/Dropbox/AllenInstitute/CellTypes/doc/NCS/Fig_ED_5.pdf')\n",
    "plt.show()"
   ]
  },
  {
   "cell_type": "code",
   "execution_count": 65,
   "metadata": {},
   "outputs": [],
   "source": [
    "#Save source data\n",
    "keep_cols = ['XE_from_XE_R2_val','XE_from_XT_R2_val','XT_from_XT_R2_val','XT_from_XE_R2_val']\n",
    "save_path = '../assets/'\n",
    "df_list[0][keep_cols].to_csv(save_path+'dim_03_pc-cca.csv',index=False)\n",
    "df_list[1][keep_cols].to_csv(save_path+'dim_05_pc-cca.csv',index=False)\n",
    "df_list[2][keep_cols].to_csv(save_path+'dim_10_pc-cca.csv',index=False)\n",
    "df_list[3][keep_cols].to_csv(save_path+'dim_03_lambda_1_0.csv',index=False)\n",
    "df_list[4][keep_cols].to_csv(save_path+'dim_05_lambda_1_0.csv',index=False)\n",
    "df_list[5][keep_cols].to_csv(save_path+'dim_10_lambda_1_0.csv',index=False)"
   ]
  }
 ],
 "metadata": {
  "kernelspec": {
   "display_name": "Python 3.7.0 64-bit ('tf21-cpu': conda)",
   "language": "python",
   "name": "python37064bittf21cpucondac45037818d594f16a78cbca7225472c1"
  },
  "language_info": {
   "codemirror_mode": {
    "name": "ipython",
    "version": 3
   },
   "file_extension": ".py",
   "mimetype": "text/x-python",
   "name": "python",
   "nbconvert_exporter": "python",
   "pygments_lexer": "ipython3",
   "version": "3.7.0"
  }
 },
 "nbformat": 4,
 "nbformat_minor": 4
}
