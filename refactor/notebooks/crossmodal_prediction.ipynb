{
 "cells": [
  {
   "cell_type": "markdown",
   "metadata": {},
   "source": [
    "### Cross-modal prediction\n",
    "\n",
    "Objective: use the validation set for a pre-trained model in the cross mdoal setting\n",
    " - Load data\n",
    " - Load pre-trained model\n",
    " - Perform cross-modal prediction\n",
    " - Show example cell"
   ]
  },
  {
   "cell_type": "code",
   "execution_count": 1,
   "metadata": {},
   "outputs": [],
   "source": [
    "import sys\n",
    "from pathlib import Path\n",
    "#Add path to parent folder for imports\n",
    "sys.path.append(str(Path.cwd().parent))"
   ]
  },
  {
   "cell_type": "code",
   "execution_count": 2,
   "metadata": {},
   "outputs": [],
   "source": [
    "import tensorflow as tf\n",
    "from utils.dataset import load_bioarxiv_dataset,partitions\n",
    "from model import Model_TE_aug_decoders, custom_build"
   ]
  },
  {
   "cell_type": "code",
   "execution_count": 3,
   "metadata": {},
   "outputs": [],
   "source": [
    "n_partitions=40\n",
    "cvfold=0\n",
    "\n",
    "D = load_bioarxiv_dataset('../data/proc/')\n",
    "XT = D['T_dat']\n",
    "XE = D['E_pcipfx']\n",
    "XE[np.isnan(XE)] = 0.0\n",
    "\n",
    "ind_dict = partitions(D['cluster'], n_partitions=40, seed=0)\n",
    "train_ind,val_ind = ind_dict[cvfold]['train'],ind_dict[cvfold]['val']\n",
    "\n",
    "T_dim = XT.shape[1]\n",
    "E_dim = XE.shape[1]"
   ]
  },
  {
   "cell_type": "code",
   "execution_count": 4,
   "metadata": {},
   "outputs": [],
   "source": [
    "#Load and build model\n",
    "cplAE = Model_TE_aug_decoders(T_dim,E_dim)\n",
    "cplAE = custom_build(cplAE,(T_dim,E_dim))\n",
    "\n",
    "#Load pre-trained network weights\n",
    "cplAE.load_weights('../data/trained_models/NM_Edat_pcipfx_aT_1-0_aE_1-0_cs_1-0_ad_1_ld_3_bs_200_se_500_ne_1500_cv_0_ri_11_500_ft-weights.h5')"
   ]
  },
  {
   "cell_type": "markdown",
   "metadata": {},
   "source": [
    "Within modality reconstructions: \n",
    " - $X_{t}\\rightarrow z_{t}\\rightarrow \\widetilde{X}_t$\n",
    " - $X_{e}\\rightarrow z_{e}\\rightarrow \\widetilde{X}_e$\n",
    "\n",
    "Cross-modal reconstructions:\n",
    " - $X_{t}\\rightarrow z_{t}\\rightarrow \\widetilde{X}_e$\n",
    " - $X_{e}\\rightarrow z_{e}\\rightarrow \\widetilde{X}_t$"
   ]
  },
  {
   "cell_type": "code",
   "execution_count": 5,
   "metadata": {},
   "outputs": [],
   "source": [
    "#Use only the pre-trained encoders to get representation\n",
    "zT = cplAE.encoder_T(tf.constant(XT,dtype=tf.float32),training=False)\n",
    "zE = cplAE.encoder_E(tf.constant(XE,dtype=tf.float32),training=False)\n",
    "\n",
    "#Use pre-trained decoders to obtain reconstruction of the same modality as the input\n",
    "XrT = cplAE.decoder_T(zT,training=False)\n",
    "XrE = cplAE.decoder_E(zE,training=False)\n",
    "\n",
    "#Use pre-trained decoder of the 'other' modality to get cross modal reconstruction\n",
    "XrT_cm = cplAE.decoder_T(zE,training=False)\n",
    "XrE_cm = cplAE.decoder_E(zT,training=False)"
   ]
  },
  {
   "cell_type": "code",
   "execution_count": 6,
   "metadata": {},
   "outputs": [],
   "source": [
    "#Convert tensors to numpy arrays\n",
    "zE = zE.numpy()\n",
    "zT = zT.numpy()\n",
    "\n",
    "XrT = XrT.numpy()\n",
    "XrE = XrE.numpy()\n",
    "\n",
    "XrT_cm = XrT_cm.numpy()\n",
    "XrE_cm = XrE_cm.numpy()"
   ]
  },
  {
   "cell_type": "markdown",
   "metadata": {},
   "source": [
    "Within modality reconstructions can be viewed as an upper bound for accuracy of the cross modal reconstructions"
   ]
  },
  {
   "cell_type": "code",
   "execution_count": null,
   "metadata": {},
   "outputs": [],
   "source": []
  }
 ],
 "metadata": {
  "kernelspec": {
   "display_name": "Python 3.7.0 64-bit ('tf21-cpu': conda)",
   "language": "python",
   "name": "python37064bittf21cpucondae0a408e3b4d14af0b0b4b25d96fddbb5"
  },
  "language_info": {
   "codemirror_mode": {
    "name": "ipython",
    "version": 3
   },
   "file_extension": ".py",
   "mimetype": "text/x-python",
   "name": "python",
   "nbconvert_exporter": "python",
   "pygments_lexer": "ipython3",
   "version": "3.7.0"
  }
 },
 "nbformat": 4,
 "nbformat_minor": 4
}
